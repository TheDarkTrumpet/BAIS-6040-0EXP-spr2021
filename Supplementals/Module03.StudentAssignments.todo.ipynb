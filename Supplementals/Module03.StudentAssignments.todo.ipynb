{
 "cells": [
  {
   "cell_type": "markdown",
   "metadata": {
    "collapsed": true,
    "pycharm": {
     "name": "#%% md\n"
    }
   },
   "source": [
    "# Module03.StudentAssignments.ipynb\n",
    "\n",
    "## Purpose\n",
    "This notebook takes an assignment, that relates to a student, and applies them randomly in a group.  The idea is to most evenly, and randomly, assign the groups for the group project.\n",
    "\n",
    "Task Objectives:\n",
    "Given a dataset of student aliases, and a group size, create a way to generate, randomly, a collection of student groups.  Some code is left here to help get one started.\n",
    "\n",
    "## 3rd party Libraries:\n",
    "- None"
   ]
  },
  {
   "cell_type": "code",
   "execution_count": 16,
   "outputs": [],
   "source": [
    "import random as rnd\n",
    "import math\n",
    "\n",
    "# More user customizable variables.  The data set is represented here\n",
    "# vs a csv since we haven't reached Pandas yet.\n",
    "# Assumes a group size of 5 people, per group.\n",
    "def getDataSet():\n",
    "    return ['StudentA', 'StudentB', 'StudentC', 'StudentD', 'StudentE', 'StudentF', 'StudentG', 'StudentH', 'StudentI', 'StudentJ', 'StudentK', 'StudentL', 'StudentM', 'StudentN', 'StudentO', 'StudentP', 'StudentQ', 'StudentR', 'StudentS', 'StudentT', 'StudentU', 'StudentV', 'StudentW']\n",
    "\n",
    "numPerGroup = 5"
   ],
   "metadata": {
    "collapsed": false,
    "pycharm": {
     "name": "#%%\n"
    }
   }
  },
  {
   "cell_type": "markdown",
   "source": [
    "Below general setup.  I'm assigning dataSet here, vs in the first option, because I want to get counts.  For further examples, you'll see it called again to get a fresh data set."
   ],
   "metadata": {
    "collapsed": false,
    "pycharm": {
     "name": "#%% md\n"
    }
   }
  },
  {
   "cell_type": "code",
   "execution_count": 17,
   "outputs": [
    {
     "name": "stdout",
     "output_type": "stream",
     "text": [
      "dataSetLength = 23\n",
      "numGroups = 5\n"
     ]
    }
   ],
   "source": [
    "dataSet = getDataSet()\n",
    "dataSetLength = len(dataSet)\n",
    "numGroups = math.ceil(dataSetLength / numPerGroup)\n",
    "print(f\"dataSetLength = {dataSetLength}\")\n",
    "print(f\"numGroups = {numGroups}\")\n",
    "\n",
    "\n"
   ],
   "metadata": {
    "collapsed": false,
    "pycharm": {
     "name": "#%%\n"
    }
   }
  }
 ],
 "metadata": {
  "kernelspec": {
   "display_name": "Python 3",
   "language": "python",
   "name": "python3"
  },
  "language_info": {
   "codemirror_mode": {
    "name": "ipython",
    "version": 2
   },
   "file_extension": ".py",
   "mimetype": "text/x-python",
   "name": "python",
   "nbconvert_exporter": "python",
   "pygments_lexer": "ipython2",
   "version": "2.7.6"
  }
 },
 "nbformat": 4,
 "nbformat_minor": 0
}