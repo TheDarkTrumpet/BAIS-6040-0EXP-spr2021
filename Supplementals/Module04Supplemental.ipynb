{
 "cells": [
  {
   "cell_type": "markdown",
   "metadata": {},
   "source": [
    "# Module04Supplemental.ipynb\n",
    "\n",
    "(todo - fill this out later)"
   ]
  },
  {
   "cell_type": "code",
   "execution_count": 1,
   "metadata": {},
   "outputs": [],
   "source": [
    "import numpy as np"
   ]
  },
  {
   "cell_type": "code",
   "execution_count": 2,
   "metadata": {},
   "outputs": [],
   "source": [
    "def sliceMatrixAddition(matrix):\n",
    "    zlength = len(matrix)\n",
    "    xlength = len(matrix[0,:,:])\n",
    "    \n",
    "    counter = zlength - 1\n",
    "    returnList = []\n",
    "    while counter >= 0:\n",
    "        matrixSlice = randMatrix[counter,:,:]\n",
    "        columnAddition = sumColumns(matrixSlice)\n",
    "        for x in columnAddition:\n",
    "            returnList.append(x)\n",
    "        counter = counter - 1\n",
    "    return np.reshape(returnList, (zlength, xlength))\n",
    "\n",
    "def sumColumns(matrix):\n",
    "    sumOfColumns = []\n",
    "    for x in range(0, len(matrix)):\n",
    "        column = matrix[:,x]\n",
    "        sumOfColumns.append(sum(column))\n",
    "    return sumOfColumns"
   ]
  },
  {
   "cell_type": "markdown",
   "metadata": {},
   "source": [
    "# Step 1: Create Matrix"
   ]
  },
  {
   "cell_type": "code",
   "execution_count": 3,
   "metadata": {},
   "outputs": [
    {
     "data": {
      "text/plain": [
       "array([[[63, 91, 18,  6, 76, 40, 37, 50],\n",
       "        [50, 57, 64, 17, 10, 71, 96, 23],\n",
       "        [44, 94, 96, 16, 21, 93, 10,  4],\n",
       "        [27, 68, 65, 45, 77,  2, 56, 72],\n",
       "        [50,  1, 45, 57, 69, 20, 63,  4],\n",
       "        [78, 87,  8, 72, 62, 23, 51, 45],\n",
       "        [40, 77, 77, 22, 69, 38, 85, 51],\n",
       "        [24, 95, 24, 29, 14,  9,  5, 74]],\n",
       "\n",
       "       [[74, 73, 87, 52, 40, 29, 51, 52],\n",
       "        [93, 25, 53, 81, 32, 80, 51, 47],\n",
       "        [22, 52, 61, 60,  9, 26,  6, 43],\n",
       "        [ 3, 79, 47, 37, 10, 61, 60, 46],\n",
       "        [94, 20, 79, 77, 30, 17, 27, 24],\n",
       "        [69, 56, 52, 60, 55, 39, 15, 51],\n",
       "        [50, 26, 85, 50, 62, 25,  2, 80],\n",
       "        [81, 54, 56, 97, 76, 45, 77, 62]],\n",
       "\n",
       "       [[97, 20, 61, 25, 36, 22, 92, 22],\n",
       "        [43, 53, 30, 15, 19, 73, 70, 90],\n",
       "        [44, 26,  7, 35, 20, 15, 47,  3],\n",
       "        [98, 76,  3, 11, 79, 64, 69, 93],\n",
       "        [33, 12, 67, 97, 10,  9, 80, 27],\n",
       "        [87, 83, 98, 34, 16, 83, 21, 81],\n",
       "        [50, 44, 46,  4, 91, 11, 67, 25],\n",
       "        [61,  3, 42, 51, 34, 57, 39, 36]]])"
      ]
     },
     "execution_count": 3,
     "metadata": {},
     "output_type": "execute_result"
    }
   ],
   "source": [
    "randMatrix = np.random.randint(1, 100, size=(3,8,8))\n",
    "randMatrix"
   ]
  },
  {
   "cell_type": "markdown",
   "metadata": {},
   "source": [
    "# Step 2: Sum columns by z-axis"
   ]
  },
  {
   "cell_type": "code",
   "execution_count": 4,
   "metadata": {},
   "outputs": [
    {
     "data": {
      "text/plain": [
       "array([[513, 317, 354, 272, 305, 334, 485, 377],\n",
       "       [486, 385, 520, 514, 314, 322, 289, 405],\n",
       "       [376, 570, 397, 264, 398, 296, 403, 323]])"
      ]
     },
     "execution_count": 4,
     "metadata": {},
     "output_type": "execute_result"
    }
   ],
   "source": [
    "zAxisSum = sliceMatrixAddition(randMatrix)\n",
    "zAxisSum"
   ]
  },
  {
   "cell_type": "markdown",
   "metadata": {},
   "source": [
    "# Step 3: Sum columns"
   ]
  },
  {
   "cell_type": "code",
   "execution_count": 5,
   "metadata": {},
   "outputs": [
    {
     "data": {
      "text/plain": [
       "[1375, 1272, 1271]"
      ]
     },
     "execution_count": 5,
     "metadata": {},
     "output_type": "execute_result"
    }
   ],
   "source": [
    "columnSum = sumColumns(zAxisSum)\n",
    "columnSum"
   ]
  },
  {
   "cell_type": "code",
   "execution_count": null,
   "metadata": {},
   "outputs": [],
   "source": []
  }
 ],
 "metadata": {
  "kernelspec": {
   "display_name": "Python 3",
   "language": "python",
   "name": "python3"
  },
  "language_info": {
   "codemirror_mode": {
    "name": "ipython",
    "version": 3
   },
   "file_extension": ".py",
   "mimetype": "text/x-python",
   "name": "python",
   "nbconvert_exporter": "python",
   "pygments_lexer": "ipython3",
   "version": "3.8.5"
  }
 },
 "nbformat": 4,
 "nbformat_minor": 4
}
