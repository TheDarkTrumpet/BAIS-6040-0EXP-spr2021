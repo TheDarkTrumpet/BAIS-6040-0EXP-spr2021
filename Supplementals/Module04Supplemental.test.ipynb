{
 "cells": [
  {
   "cell_type": "code",
   "execution_count": 2,
   "metadata": {},
   "outputs": [],
   "source": [
    "import numpy as np"
   ]
  },
  {
   "cell_type": "code",
   "execution_count": 4,
   "metadata": {},
   "outputs": [
    {
     "data": {
      "text/plain": [
       "array([[30, 47, 52, 10, 17, 77, 37, 67],\n",
       "       [23, 57, 63,  1, 68, 83, 92, 24],\n",
       "       [95, 96, 20, 69, 12, 39, 47, 89],\n",
       "       [39, 75, 29, 59, 65, 55, 68,  9],\n",
       "       [34, 34, 54, 73, 56, 38, 11,  8],\n",
       "       [29, 92, 35, 59,  4, 42, 59, 55],\n",
       "       [12, 68, 28, 86, 61, 69, 87, 27],\n",
       "       [95, 42, 84,  3, 14, 92, 98, 87]])"
      ]
     },
     "execution_count": 4,
     "metadata": {},
     "output_type": "execute_result"
    }
   ],
   "source": [
    "randMatrix = np.random.randint(1, 100, size=(8,8))\n",
    "randMatrix"
   ]
  },
  {
   "cell_type": "code",
   "execution_count": 5,
   "metadata": {},
   "outputs": [
    {
     "data": {
      "text/plain": [
       "array([[[73,  2,  1],\n",
       "        [ 9, 92,  9],\n",
       "        [59, 81, 85],\n",
       "        [ 9, 70, 37],\n",
       "        [ 2, 60, 22],\n",
       "        [47, 77, 21],\n",
       "        [61, 29, 73],\n",
       "        [ 1, 27, 30]],\n",
       "\n",
       "       [[94, 54, 80],\n",
       "        [13, 93, 90],\n",
       "        [66,  8, 96],\n",
       "        [52, 50, 82],\n",
       "        [12, 66, 56],\n",
       "        [63, 18, 72],\n",
       "        [ 4, 69, 71],\n",
       "        [ 7, 42, 64]],\n",
       "\n",
       "       [[80, 52, 33],\n",
       "        [11, 47, 14],\n",
       "        [20, 64, 56],\n",
       "        [ 9, 66, 88],\n",
       "        [74, 19, 69],\n",
       "        [64, 93, 89],\n",
       "        [70, 56,  6],\n",
       "        [60,  3, 91]],\n",
       "\n",
       "       [[89, 86,  5],\n",
       "        [47, 64, 16],\n",
       "        [52, 31, 56],\n",
       "        [92, 63,  9],\n",
       "        [38, 27, 86],\n",
       "        [89, 88, 97],\n",
       "        [67,  2,  5],\n",
       "        [32, 85, 32]],\n",
       "\n",
       "       [[57, 93, 32],\n",
       "        [ 7, 96, 52],\n",
       "        [65, 58, 87],\n",
       "        [14,  7, 30],\n",
       "        [70, 47, 62],\n",
       "        [12, 81, 88],\n",
       "        [93, 83, 93],\n",
       "        [76, 32, 91]],\n",
       "\n",
       "       [[71, 18, 94],\n",
       "        [75, 76, 14],\n",
       "        [55,  9, 70],\n",
       "        [38,  5, 89],\n",
       "        [39,  3,  8],\n",
       "        [32, 92, 20],\n",
       "        [32, 69, 16],\n",
       "        [71, 92, 64]],\n",
       "\n",
       "       [[37, 66, 61],\n",
       "        [97, 18, 61],\n",
       "        [ 7, 75, 49],\n",
       "        [18, 21, 48],\n",
       "        [69, 74, 26],\n",
       "        [73, 60, 81],\n",
       "        [55, 27, 54],\n",
       "        [27, 56, 70]],\n",
       "\n",
       "       [[44, 88, 45],\n",
       "        [66, 57, 25],\n",
       "        [90, 58, 31],\n",
       "        [20,  1, 85],\n",
       "        [16, 50, 78],\n",
       "        [47, 21, 33],\n",
       "        [26, 90, 13],\n",
       "        [ 8, 81, 60]]])"
      ]
     },
     "execution_count": 5,
     "metadata": {},
     "output_type": "execute_result"
    }
   ],
   "source": [
    "randMatrix = np.random.randint(1, 100, size=(8,8,3))\n",
    "randMatrix"
   ]
  },
  {
   "cell_type": "code",
   "execution_count": 7,
   "metadata": {},
   "outputs": [
    {
     "data": {
      "text/plain": [
       "array([[[22,  7, 81, 50, 45, 93, 26, 51],\n",
       "        [49, 19, 86, 49, 36, 39, 35, 29],\n",
       "        [ 9,  3, 45, 90, 28, 41,  9, 79],\n",
       "        [36, 85, 79, 75,  5, 61, 60, 66],\n",
       "        [52, 52, 78, 11, 23, 42, 87, 19],\n",
       "        [87, 63, 12, 62,  9,  2, 68,  1],\n",
       "        [96, 10, 25,  5, 39, 85, 60,  3],\n",
       "        [31, 22,  8,  9, 85, 91, 95, 47]],\n",
       "\n",
       "       [[ 8, 96, 16, 27, 80, 35, 72, 86],\n",
       "        [ 9, 30,  3, 97, 21, 25, 52, 15],\n",
       "        [26, 52, 53, 36, 28, 98, 62, 26],\n",
       "        [29, 57, 19,  5, 47, 14, 11, 33],\n",
       "        [72, 64, 43, 95,  5, 76, 42, 15],\n",
       "        [91, 86, 43, 20, 76, 96, 67, 37],\n",
       "        [91, 71, 28, 16, 92, 75, 22, 25],\n",
       "        [78, 11, 39, 78, 10, 37, 43, 65]],\n",
       "\n",
       "       [[ 3, 69, 74, 79,  4, 14, 14, 74],\n",
       "        [36,  5, 68, 94, 91, 77,  2, 89],\n",
       "        [66,  3, 58, 70,  4, 48,  1, 80],\n",
       "        [28, 61, 48, 84, 48, 72, 71, 57],\n",
       "        [71, 30, 98, 53, 76, 97, 11, 16],\n",
       "        [ 8, 53,  6, 56, 79, 29, 91, 77],\n",
       "        [21, 98, 19, 80, 67, 77, 29, 68],\n",
       "        [ 4, 49, 76,  4,  9, 55, 92, 19]]])"
      ]
     },
     "execution_count": 7,
     "metadata": {},
     "output_type": "execute_result"
    }
   ],
   "source": [
    "randMatrix = np.random.randint(1, 100, size=(3,8,8))\n",
    "randMatrix"
   ]
  },
  {
   "cell_type": "code",
   "execution_count": 8,
   "metadata": {},
   "outputs": [
    {
     "data": {
      "text/plain": [
       "22"
      ]
     },
     "execution_count": 8,
     "metadata": {},
     "output_type": "execute_result"
    }
   ],
   "source": [
    "randMatrix[0,0,0]"
   ]
  },
  {
   "cell_type": "code",
   "execution_count": 9,
   "metadata": {},
   "outputs": [
    {
     "data": {
      "text/plain": [
       "8"
      ]
     },
     "execution_count": 9,
     "metadata": {},
     "output_type": "execute_result"
    }
   ],
   "source": [
    "randMatrix[1,0,0]  # first element = z coordinate/position"
   ]
  },
  {
   "cell_type": "code",
   "execution_count": 10,
   "metadata": {},
   "outputs": [
    {
     "data": {
      "text/plain": [
       "49"
      ]
     },
     "execution_count": 10,
     "metadata": {},
     "output_type": "execute_result"
    }
   ],
   "source": [
    "randMatrix[0,1,0]"
   ]
  },
  {
   "cell_type": "code",
   "execution_count": 12,
   "metadata": {},
   "outputs": [
    {
     "data": {
      "text/plain": [
       "array([22, 49,  9, 36, 52, 87, 96, 31])"
      ]
     },
     "execution_count": 12,
     "metadata": {},
     "output_type": "execute_result"
    }
   ],
   "source": [
    "randMatrix[0,:,0]   # I want this..."
   ]
  },
  {
   "cell_type": "code",
   "execution_count": 13,
   "metadata": {},
   "outputs": [
    {
     "data": {
      "text/plain": [
       "array([22,  8,  3])"
      ]
     },
     "execution_count": 13,
     "metadata": {},
     "output_type": "execute_result"
    }
   ],
   "source": [
    "randMatrix[:,0,0]"
   ]
  },
  {
   "cell_type": "code",
   "execution_count": 14,
   "metadata": {},
   "outputs": [],
   "source": [
    "firstSlice = randMatrix[0,:,:]"
   ]
  },
  {
   "cell_type": "code",
   "execution_count": 15,
   "metadata": {},
   "outputs": [
    {
     "data": {
      "text/plain": [
       "array([[22,  7, 81, 50, 45, 93, 26, 51],\n",
       "       [49, 19, 86, 49, 36, 39, 35, 29],\n",
       "       [ 9,  3, 45, 90, 28, 41,  9, 79],\n",
       "       [36, 85, 79, 75,  5, 61, 60, 66],\n",
       "       [52, 52, 78, 11, 23, 42, 87, 19],\n",
       "       [87, 63, 12, 62,  9,  2, 68,  1],\n",
       "       [96, 10, 25,  5, 39, 85, 60,  3],\n",
       "       [31, 22,  8,  9, 85, 91, 95, 47]])"
      ]
     },
     "execution_count": 15,
     "metadata": {},
     "output_type": "execute_result"
    }
   ],
   "source": [
    "firstSlice"
   ]
  },
  {
   "cell_type": "code",
   "execution_count": 19,
   "metadata": {},
   "outputs": [
    {
     "data": {
      "text/plain": [
       "array([22, 49,  9, 36, 52, 87, 96, 31])"
      ]
     },
     "execution_count": 19,
     "metadata": {},
     "output_type": "execute_result"
    }
   ],
   "source": [
    "firstSlice[:,0]"
   ]
  },
  {
   "cell_type": "code",
   "execution_count": 20,
   "metadata": {},
   "outputs": [
    {
     "data": {
      "text/plain": [
       "8"
      ]
     },
     "execution_count": 20,
     "metadata": {},
     "output_type": "execute_result"
    }
   ],
   "source": [
    "len(firstSlice)"
   ]
  },
  {
   "cell_type": "code",
   "execution_count": 22,
   "metadata": {},
   "outputs": [
    {
     "name": "stdout",
     "output_type": "stream",
     "text": [
      "Iteration 0\n",
      "Iteration 1\n",
      "Iteration 2\n",
      "Iteration 3\n",
      "Iteration 4\n",
      "Iteration 5\n",
      "Iteration 6\n",
      "Iteration 7\n"
     ]
    }
   ],
   "source": [
    "for x in range(0, len(firstSlice)):\n",
    "    print(f\"Iteration {x}\")"
   ]
  },
  {
   "cell_type": "code",
   "execution_count": 23,
   "metadata": {},
   "outputs": [
    {
     "data": {
      "text/plain": [
       "[382, 261, 414, 351, 270, 454, 440, 295]"
      ]
     },
     "execution_count": 23,
     "metadata": {},
     "output_type": "execute_result"
    }
   ],
   "source": [
    "# This gives me the sum of the columns, and works for step 3 (sum of columns)\n",
    "sumOfColumns = []\n",
    "for x in range(0, len(firstSlice)):\n",
    "    column = firstSlice[:,x]\n",
    "    sumOfColumns.append(sum(column))\n",
    "sumOfColumns"
   ]
  },
  {
   "cell_type": "code",
   "execution_count": 26,
   "metadata": {},
   "outputs": [],
   "source": [
    "test = [[1,2,3], [4, 5, 6], [7, 8, 9]]"
   ]
  },
  {
   "cell_type": "code",
   "execution_count": 27,
   "metadata": {},
   "outputs": [
    {
     "data": {
      "text/plain": [
       "[[1, 2, 3], [4, 5, 6], [7, 8, 9]]"
      ]
     },
     "execution_count": 27,
     "metadata": {},
     "output_type": "execute_result"
    }
   ],
   "source": [
    "test"
   ]
  },
  {
   "cell_type": "code",
   "execution_count": null,
   "metadata": {},
   "outputs": [],
   "source": [
    "# We'll have to have a 3x8 in the long run\n",
    "# mySimpleMatrix = np.reshape(mySimpleMatrix, (3, 8))"
   ]
  },
  {
   "cell_type": "code",
   "execution_count": 30,
   "metadata": {},
   "outputs": [],
   "source": [
    "def sliceColumnAddition(matrix, zindex = 0):\n",
    "    firstSlice = randMatrix[zindex,:,:]\n",
    "    sumOfColumns = []\n",
    "    for x in range(0,len(firstSlice)):\n",
    "        column = firstSlice[:,x]\n",
    "        sumOfColumns.append(sum(column))\n",
    "    return sumOfColumns"
   ]
  },
  {
   "cell_type": "code",
   "execution_count": 39,
   "metadata": {},
   "outputs": [],
   "source": [
    "firstLayer = sliceColumnAddition(randMatrix)\n",
    "secondLayer = sliceColumnAddition(randMatrix, 1)\n",
    "thirdLayer = sliceColumnAddition(randMatrix, 2)"
   ]
  },
  {
   "cell_type": "code",
   "execution_count": 38,
   "metadata": {},
   "outputs": [
    {
     "data": {
      "text/plain": [
       "[237,\n",
       " 368,\n",
       " 447,\n",
       " 520,\n",
       " 378,\n",
       " 469,\n",
       " 311,\n",
       " 480,\n",
       " [404, 467, 244, 374, 359, 456, 371, 302],\n",
       " [404, 467, 244, 374, 359, 456, 371, 302]]"
      ]
     },
     "execution_count": 38,
     "metadata": {},
     "output_type": "execute_result"
    }
   ],
   "source": [
    "thirdLayer.append(secondLayer)\n",
    "thirdLayer"
   ]
  },
  {
   "cell_type": "code",
   "execution_count": 40,
   "metadata": {},
   "outputs": [],
   "source": [
    "for x in range(0, len(secondLayer)):\n",
    "    thirdLayer.append(secondLayer[x])"
   ]
  },
  {
   "cell_type": "code",
   "execution_count": 42,
   "metadata": {},
   "outputs": [],
   "source": [
    "for x in firstLayer:\n",
    "    thirdLayer.append(x)"
   ]
  },
  {
   "cell_type": "code",
   "execution_count": 44,
   "metadata": {},
   "outputs": [
    {
     "data": {
      "text/plain": [
       "24"
      ]
     },
     "execution_count": 44,
     "metadata": {},
     "output_type": "execute_result"
    }
   ],
   "source": [
    "len(thirdLayer)"
   ]
  },
  {
   "cell_type": "code",
   "execution_count": 45,
   "metadata": {},
   "outputs": [
    {
     "data": {
      "text/plain": [
       "array([[237, 368, 447, 520, 378, 469, 311, 480],\n",
       "       [404, 467, 244, 374, 359, 456, 371, 302],\n",
       "       [382, 261, 414, 351, 270, 454, 440, 295]])"
      ]
     },
     "execution_count": 45,
     "metadata": {},
     "output_type": "execute_result"
    }
   ],
   "source": [
    "mySimpleMatrix = np.reshape(thirdLayer, (3, 8))\n",
    "mySimpleMatrix"
   ]
  },
  {
   "cell_type": "code",
   "execution_count": 48,
   "metadata": {},
   "outputs": [],
   "source": [
    "# Final Version\n",
    "def sumColumns(matrix):\n",
    "    sumOfColumns = []\n",
    "    for x in range(0, len(matrix)):\n",
    "        column = matrix[:,x]\n",
    "        sumOfColumns.append(sum(column))\n",
    "    return sumOfColumns"
   ]
  },
  {
   "cell_type": "code",
   "execution_count": 49,
   "metadata": {},
   "outputs": [
    {
     "data": {
      "text/plain": [
       "[1023, 1096, 1105]"
      ]
     },
     "execution_count": 49,
     "metadata": {},
     "output_type": "execute_result"
    }
   ],
   "source": [
    "sumColumns(mySimpleMatrix)"
   ]
  },
  {
   "cell_type": "code",
   "execution_count": 56,
   "metadata": {},
   "outputs": [],
   "source": [
    "# Don't use this\n",
    "def sliceColumnAddition(matrix, zindex = 0):\n",
    "    firstSlice = randMatrix[zindex,:,:]\n",
    "    return sumColumns(firstSlice)"
   ]
  },
  {
   "cell_type": "code",
   "execution_count": 51,
   "metadata": {},
   "outputs": [
    {
     "data": {
      "text/plain": [
       "[382, 261, 414, 351, 270, 454, 440, 295]"
      ]
     },
     "execution_count": 51,
     "metadata": {},
     "output_type": "execute_result"
    }
   ],
   "source": [
    "sliceColumnAddition(randMatrix)"
   ]
  },
  {
   "cell_type": "code",
   "execution_count": 52,
   "metadata": {},
   "outputs": [
    {
     "data": {
      "text/plain": [
       "[382, 261, 414, 351, 270, 454, 440, 295]"
      ]
     },
     "execution_count": 52,
     "metadata": {},
     "output_type": "execute_result"
    }
   ],
   "source": [
    "firstLayer"
   ]
  },
  {
   "cell_type": "code",
   "execution_count": 76,
   "metadata": {},
   "outputs": [],
   "source": [
    "def sliceMatrixAddition(matrix):\n",
    "    zlength = len(matrix)\n",
    "    xlength = len(matrix[0,:,:])\n",
    "    \n",
    "    counter = zlength - 1\n",
    "    returnList = []\n",
    "    while counter >= 0:\n",
    "        matrixSlice = randMatrix[counter,:,:]\n",
    "        columnAddition = sumColumns(matrixSlice)\n",
    "        #returnList.append(columnAddition)\n",
    "        for x in columnAddition:\n",
    "            returnList.append(x)\n",
    "        counter = counter - 1\n",
    "    return np.reshape(returnList, (zlength, xlength))"
   ]
  },
  {
   "cell_type": "code",
   "execution_count": 77,
   "metadata": {},
   "outputs": [
    {
     "data": {
      "text/plain": [
       "array([[237, 368, 447, 520, 378, 469, 311, 480],\n",
       "       [404, 467, 244, 374, 359, 456, 371, 302],\n",
       "       [382, 261, 414, 351, 270, 454, 440, 295]])"
      ]
     },
     "execution_count": 77,
     "metadata": {},
     "output_type": "execute_result"
    }
   ],
   "source": [
    "sliceMatrixAddition(randMatrix)"
   ]
  },
  {
   "cell_type": "code",
   "execution_count": 67,
   "metadata": {},
   "outputs": [
    {
     "data": {
      "text/plain": [
       "3"
      ]
     },
     "execution_count": 67,
     "metadata": {},
     "output_type": "execute_result"
    }
   ],
   "source": [
    "len(randMatrix)"
   ]
  },
  {
   "cell_type": "code",
   "execution_count": 73,
   "metadata": {},
   "outputs": [
    {
     "data": {
      "text/plain": [
       "8"
      ]
     },
     "execution_count": 73,
     "metadata": {},
     "output_type": "execute_result"
    }
   ],
   "source": [
    "len(randMatrix[0,:,:])"
   ]
  },
  {
   "cell_type": "code",
   "execution_count": null,
   "metadata": {},
   "outputs": [],
   "source": []
  }
 ],
 "metadata": {
  "kernelspec": {
   "display_name": "Python 3",
   "language": "python",
   "name": "python3"
  },
  "language_info": {
   "codemirror_mode": {
    "name": "ipython",
    "version": 3
   },
   "file_extension": ".py",
   "mimetype": "text/x-python",
   "name": "python",
   "nbconvert_exporter": "python",
   "pygments_lexer": "ipython3",
   "version": "3.8.5"
  }
 },
 "nbformat": 4,
 "nbformat_minor": 4
}
