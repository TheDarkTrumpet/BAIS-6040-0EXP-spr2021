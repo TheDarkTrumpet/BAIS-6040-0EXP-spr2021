{
 "cells": [
  {
   "cell_type": "markdown",
   "metadata": {
    "collapsed": true,
    "pycharm": {
     "name": "#%% md\n"
    }
   },
   "source": [
    "# Midterm.todo.ipynb\n",
    "\n",
    "## Purpose\n",
    "\n",
    "This is the practical portion of the midterm.  The goal of this is to test your ability to put pieces together from the previous modules.  This includes up through some Pandas (although it'll be intentionally light on contents since we didn't cover it in as much detail as we needed).\n",
    "\n",
    "One thing you'll note is I'm starting to group the subtasks a bit more together.  Meaning it'd be wise to spend time planning out how you want to accomplish this a bit more before starting to do coding.\n",
    "\n",
    "## Procedure\n",
    "\n",
    "The procedure for solving these will be in a similar to that of previous notebooks.  Because there's a greater demand on creating subtasks, please leave your work in for those subtasks.  Please list your subtasks as markdown cells, and the code which you used to get there.\n",
    "\n",
    "For all random number generation, please use a seed of **5000**.\n",
    "\n",
    "I really do encourage you to think about each task, and how you want to get to the end."
   ]
  }
 ],
 "metadata": {
  "kernelspec": {
   "display_name": "Python 3",
   "language": "python",
   "name": "python3"
  },
  "language_info": {
   "codemirror_mode": {
    "name": "ipython",
    "version": 2
   },
   "file_extension": ".py",
   "mimetype": "text/x-python",
   "name": "python",
   "nbconvert_exporter": "python",
   "pygments_lexer": "ipython2",
   "version": "2.7.6"
  }
 },
 "nbformat": 4,
 "nbformat_minor": 0
}