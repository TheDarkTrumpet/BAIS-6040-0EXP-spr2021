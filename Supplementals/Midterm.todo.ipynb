{
 "cells": [
  {
   "cell_type": "markdown",
   "metadata": {
    "collapsed": true,
    "pycharm": {
     "name": "#%% md\n"
    }
   },
   "source": [
    "# Midterm.todo.ipynb\n",
    "\n",
    "## Purpose\n",
    "\n",
    "This is the practical portion of the midterm.  The goal of this is to test your ability to put pieces together from the previous modules.  This includes up through some Pandas (although it'll be intentionally light on contents since we didn't cover it in as much detail as we needed).\n",
    "\n",
    "This will consist of multiple \"problems\" (Please see procedure).  The purpose of how these are written is to emulate what you will end up seeing in the business world and applying the tools you gained thus far, to solve those issues.\n",
    "\n",
    "## Procedure\n",
    "\n",
    "You'll be presented with 3 \"problems\".  Each problem/task will be self isolated.  Meaning, the output of problem 1 should not be used in problem 2.  Each problem stands on their own.\n",
    "\n",
    "Because there's a greater demand on creating subtasks, please leave your work in for those subtasks.  Please list your subtasks as markdown cells, and the code which you used to get there.\n",
    "\n",
    "For all random number generation, please use a seed of **5000**.\n",
    "\n",
    "I really do encourage you to think about each task, and how you want to get to the end.  Please note that there's no one-way to do these problems.  You can accomplish it any number of ways.  But, your output at the very end should match my output.  If it doesn't, then something was done incorrectly.  Showing your work is incredibly important here."
   ]
  },
  {
   "cell_type": "markdown",
   "source": [
    "# Problem 1"
   ],
   "metadata": {
    "collapsed": false,
    "pycharm": {
     "name": "#%% md\n"
    }
   }
  },
  {
   "cell_type": "code",
   "execution_count": 1,
   "outputs": [
    {
     "name": "stdout",
     "output_type": "stream",
     "text": [
      "Generation of testDates = ['2020/01/01', '2020/01/02', '2020/01/02', '2020/01/02', '2020/01/01', '2020/01/03', '2020/01/02', '2020/01/01', '2020/01/03', '2020/01/02']\n",
      "Generation of testValues = [6, 7, 6, 7, 5, 5, 6, 7, 6, 7]\n"
     ]
    }
   ],
   "source": [
    "import random as rnd\n",
    "rnd.seed(5000)\n",
    "\n",
    "sampleTen = range(0, 10)\n",
    "testDates = [f\"2020/01/0{x}\" for x in [rnd.randint(1,3) for _ in sampleTen]]\n",
    "testValues = [rnd.randint(5, 7) for _ in sampleTen]\n",
    "\n",
    "print(f\"Generation of testDates = {testDates}\")\n",
    "print(f\"Generation of testValues = {testValues}\")"
   ],
   "metadata": {
    "collapsed": false,
    "pycharm": {
     "name": "#%%\n"
    }
   }
  },
  {
   "cell_type": "code",
   "execution_count": 2,
   "outputs": [
    {
     "data": {
      "text/plain": "[('2020/01/01', 6),\n ('2020/01/02', 7),\n ('2020/01/02', 6),\n ('2020/01/02', 7),\n ('2020/01/01', 5),\n ('2020/01/03', 5),\n ('2020/01/02', 6),\n ('2020/01/01', 7),\n ('2020/01/03', 6),\n ('2020/01/02', 7)]"
     },
     "execution_count": 2,
     "metadata": {},
     "output_type": "execute_result"
    }
   ],
   "source": [
    "dataSet = [(testDates[x], testValues[x]) for x in sampleTen]\n",
    "dataSet"
   ],
   "metadata": {
    "collapsed": false,
    "pycharm": {
     "name": "#%%\n"
    }
   }
  },
  {
   "cell_type": "code",
   "execution_count": 3,
   "outputs": [],
   "source": [
    "dataSetT = set(dataSet)"
   ],
   "metadata": {
    "collapsed": false,
    "pycharm": {
     "name": "#%%\n"
    }
   }
  },
  {
   "cell_type": "code",
   "execution_count": 4,
   "outputs": [
    {
     "name": "stdout",
     "output_type": "stream",
     "text": [
      "Length of dataSet = 10\n",
      "Length of dataSetT = 7\n"
     ]
    },
    {
     "data": {
      "text/plain": "{('2020/01/01', 5),\n ('2020/01/01', 6),\n ('2020/01/01', 7),\n ('2020/01/02', 6),\n ('2020/01/02', 7),\n ('2020/01/03', 5),\n ('2020/01/03', 6)}"
     },
     "execution_count": 4,
     "metadata": {},
     "output_type": "execute_result"
    }
   ],
   "source": [
    "print(f\"Length of dataSet = {len(dataSet)}\")\n",
    "print(f\"Length of dataSetT = {len(dataSetT)}\")\n",
    "dataSetT"
   ],
   "metadata": {
    "collapsed": false,
    "pycharm": {
     "name": "#%%\n"
    }
   }
  },
  {
   "cell_type": "code",
   "execution_count": 5,
   "outputs": [
    {
     "data": {
      "text/plain": "{'2020/01/02': 13, '2020/01/03': 11, '2020/01/01': 18}"
     },
     "execution_count": 5,
     "metadata": {},
     "output_type": "execute_result"
    }
   ],
   "source": [
    "groupedSum = {}\n",
    "while len(dataSetT) > 0:\n",
    "    record = dataSetT.pop()\n",
    "    date, value = record\n",
    "    if date in groupedSum:\n",
    "        groupedSum[date] = groupedSum[date] + value\n",
    "    else:\n",
    "        groupedSum[date] = value\n",
    "groupedSum"
   ],
   "metadata": {
    "collapsed": false,
    "pycharm": {
     "name": "#%%\n"
    }
   }
  },
  {
   "cell_type": "markdown",
   "source": [
    "# Problem 2"
   ],
   "metadata": {
    "collapsed": false,
    "pycharm": {
     "name": "#%% md\n"
    }
   }
  },
  {
   "cell_type": "code",
   "execution_count": 6,
   "outputs": [],
   "source": [
    "rnd.seed(5000)"
   ],
   "metadata": {
    "collapsed": false,
    "pycharm": {
     "name": "#%%\n"
    }
   }
  },
  {
   "cell_type": "code",
   "execution_count": 7,
   "outputs": [
    {
     "name": "stdout",
     "output_type": "stream",
     "text": [
      "Length of testSampleData: 199\n",
      "Last 10 elements of testSampleData: [39, 81, 73, 41, 3, 69, 69, 3, 92, 91]\n"
     ]
    }
   ],
   "source": [
    "testSampleData = [rnd.randint(1, 100) for _ in range(1, 200)]\n",
    "print(f\"Length of testSampleData: {len(testSampleData)}\")\n",
    "print(f\"Last 10 elements of testSampleData: {testSampleData[len(testSampleData)-10:]}\")"
   ],
   "metadata": {
    "collapsed": false,
    "pycharm": {
     "name": "#%%\n"
    }
   }
  },
  {
   "cell_type": "code",
   "execution_count": 8,
   "outputs": [
    {
     "name": "stdout",
     "output_type": "stream",
     "text": [
      "Length of nextAdditionFor: 199\n",
      "Contents(First 10): [183, 95, 72, 138, 72, 44, 114, 154, 120, 71]\n",
      "Contents(Last 10): [109, 71, 58, 117, 80, 74, 110, 98, 77, 30]\n"
     ]
    }
   ],
   "source": [
    "nextAdditionFor = []\n",
    "for x in range(len(testSampleData)-1, -1, -1):\n",
    "    firstVal = testSampleData[x]\n",
    "    secondVal = 0\n",
    "    if x > 0:\n",
    "        secondVal = testSampleData[x-1]\n",
    "    nextAdditionFor.append(firstVal + secondVal)\n",
    "print(f\"Length of nextAdditionFor: {len(nextAdditionFor)}\")\n",
    "print(f\"Contents(First 10): {nextAdditionFor[0:10]}\")\n",
    "print(f\"Contents(Last 10): {nextAdditionFor[-10:]}\")"
   ],
   "metadata": {
    "collapsed": false,
    "pycharm": {
     "name": "#%%\n"
    }
   }
  },
  {
   "cell_type": "code",
   "execution_count": 9,
   "outputs": [
    {
     "name": "stdout",
     "output_type": "stream",
     "text": [
      "Length of nextAdditionWhile: 199\n",
      "Contents(First 10): [183, 95, 72, 138, 72, 44, 114, 154, 120, 71]\n",
      "Contents(Last 10): [109, 71, 58, 117, 80, 74, 110, 98, 77, 30]\n"
     ]
    }
   ],
   "source": [
    "nextAdditionWhile = []\n",
    "counter = len(testSampleData) - 1\n",
    "while counter >= 0:\n",
    "    firstVal = testSampleData[counter]\n",
    "    secondVal = 0\n",
    "    if counter > 0:\n",
    "        secondVal = testSampleData[counter-1]\n",
    "    nextAdditionWhile.append(firstVal + secondVal)\n",
    "    counter = counter - 1\n",
    "print(f\"Length of nextAdditionWhile: {len(nextAdditionWhile)}\")\n",
    "print(f\"Contents(First 10): {nextAdditionWhile[0:10]}\")\n",
    "print(f\"Contents(Last 10): {nextAdditionWhile[-10:]}\")"
   ],
   "metadata": {
    "collapsed": false,
    "pycharm": {
     "name": "#%%\n"
    }
   }
  },
  {
   "cell_type": "markdown",
   "source": [
    "# Problem 3"
   ],
   "metadata": {
    "collapsed": false,
    "pycharm": {
     "name": "#%% md\n"
    }
   }
  }
 ],
 "metadata": {
  "kernelspec": {
   "display_name": "Python 3",
   "language": "python",
   "name": "python3"
  },
  "language_info": {
   "codemirror_mode": {
    "name": "ipython",
    "version": 2
   },
   "file_extension": ".py",
   "mimetype": "text/x-python",
   "name": "python",
   "nbconvert_exporter": "python",
   "pygments_lexer": "ipython2",
   "version": "2.7.6"
  }
 },
 "nbformat": 4,
 "nbformat_minor": 0
}