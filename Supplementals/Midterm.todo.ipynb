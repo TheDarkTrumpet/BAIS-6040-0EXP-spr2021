{
 "cells": [
  {
   "cell_type": "markdown",
   "metadata": {
    "collapsed": true,
    "pycharm": {
     "name": "#%% md\n"
    }
   },
   "source": [
    "# Midterm.todo.ipynb\n",
    "\n",
    "## Purpose\n",
    "\n",
    "This is the practical portion of the midterm.  The goal of this is to test your ability to put pieces together from the previous modules.  This includes up through some Pandas (although it'll be intentionally light on contents since we didn't cover it in as much detail as we needed).\n",
    "\n",
    "This will consist of multiple \"problems\" (Please see procedure).  The purpose of how these are written is to emulate what you will end up seeing in the business world and applying the tools you gained thus far, to solve those issues.\n",
    "\n",
    "## Procedure\n",
    "\n",
    "You'll be presented with 3 \"problems\".  Each problem/task will be self isolated.  Meaning, the output of problem 1 should not be used in problem 2.  Each problem stands on their own.\n",
    "\n",
    "Because there's a greater demand on creating subtasks, please leave your work in for those subtasks.  Please list your subtasks as markdown cells, and the code which you used to get there.\n",
    "\n",
    "For all random number generation, please use a seed of **5000**.\n",
    "\n",
    "I really do encourage you to think about each task, and how you want to get to the end.  Please note that there's no one-way to do these problems.  You can accomplish it any number of ways.  But, your output at the very end should match my output.  If it doesn't, then something was done incorrectly.  Showing your work is incredibly important here."
   ]
  },
  {
   "cell_type": "markdown",
   "source": [
    "# Problem 1"
   ],
   "metadata": {
    "collapsed": false,
    "pycharm": {
     "name": "#%% md\n"
    }
   }
  },
  {
   "cell_type": "code",
   "execution_count": 12,
   "outputs": [
    {
     "name": "stdout",
     "output_type": "stream",
     "text": [
      "Generation fo testDates = ['2020/01/01', '2020/01/02', '2020/01/02', '2020/01/02', '2020/01/01', '2020/01/03', '2020/01/02', '2020/01/01', '2020/01/03', '2020/01/02']\n",
      "Generation fo testValues = [6, 7, 6, 7, 5, 5, 6, 7, 6, 7]\n"
     ]
    }
   ],
   "source": [
    "import random as rnd\n",
    "rnd.seed(5000)\n",
    "\n",
    "sampleTen = range(0, 10)\n",
    "testDates = [f\"2020/01/0{x}\" for x in [rnd.randint(1,3) for _ in sampleTen]]\n",
    "testValues = [rnd.randint(5, 7) for _ in sampleTen]\n",
    "\n",
    "print(f\"Generation of testDates = {testDates}\")\n",
    "print(f\"Generation of testValues = {testValues}\")"
   ],
   "metadata": {
    "collapsed": false,
    "pycharm": {
     "name": "#%%\n"
    }
   }
  },
  {
   "cell_type": "code",
   "execution_count": 20,
   "outputs": [
    {
     "data": {
      "text/plain": "[('2020/01/01', 6),\n ('2020/01/02', 7),\n ('2020/01/02', 6),\n ('2020/01/02', 7),\n ('2020/01/01', 5),\n ('2020/01/03', 5),\n ('2020/01/02', 6),\n ('2020/01/01', 7),\n ('2020/01/03', 6),\n ('2020/01/02', 7)]"
     },
     "execution_count": 20,
     "metadata": {},
     "output_type": "execute_result"
    }
   ],
   "source": [
    "dataSet = [(testDates[x], testValues[x]) for x in sampleTen]\n",
    "dataSet"
   ],
   "metadata": {
    "collapsed": false,
    "pycharm": {
     "name": "#%%\n"
    }
   }
  },
  {
   "cell_type": "code",
   "execution_count": 21,
   "outputs": [],
   "source": [
    "dataSetT = set(dataSet)"
   ],
   "metadata": {
    "collapsed": false,
    "pycharm": {
     "name": "#%%\n"
    }
   }
  },
  {
   "cell_type": "code",
   "execution_count": 23,
   "outputs": [
    {
     "name": "stdout",
     "output_type": "stream",
     "text": [
      "Length of dataSet = 10\n",
      "Length of dataSetT = 7\n"
     ]
    },
    {
     "data": {
      "text/plain": "{('2020/01/01', 5),\n ('2020/01/01', 6),\n ('2020/01/01', 7),\n ('2020/01/02', 6),\n ('2020/01/02', 7),\n ('2020/01/03', 5),\n ('2020/01/03', 6)}"
     },
     "execution_count": 23,
     "metadata": {},
     "output_type": "execute_result"
    }
   ],
   "source": [
    "print(f\"Length of dataSet = {len(dataSet)}\")\n",
    "print(f\"Length of dataSetT = {len(dataSetT)}\")\n",
    "dataSetT"
   ],
   "metadata": {
    "collapsed": false,
    "pycharm": {
     "name": "#%%\n"
    }
   }
  },
  {
   "cell_type": "code",
   "execution_count": 24,
   "outputs": [
    {
     "data": {
      "text/plain": "{'2020/01/02': 13, '2020/01/03': 11, '2020/01/01': 18}"
     },
     "execution_count": 24,
     "metadata": {},
     "output_type": "execute_result"
    }
   ],
   "source": [
    "groupedSum = {}\n",
    "while len(dataSetT) > 0:\n",
    "    record = dataSetT.pop()\n",
    "    date, value = record\n",
    "    if date in groupedSum:\n",
    "        groupedSum[date] = groupedSum[date] + value\n",
    "    else:\n",
    "        groupedSum[date] = value\n",
    "groupedSum"
   ],
   "metadata": {
    "collapsed": false,
    "pycharm": {
     "name": "#%%\n"
    }
   }
  },
  {
   "cell_type": "markdown",
   "source": [
    "# Problem 2"
   ],
   "metadata": {
    "collapsed": false,
    "pycharm": {
     "name": "#%% md\n"
    }
   }
  },
  {
   "cell_type": "markdown",
   "source": [
    "# Problem 3"
   ],
   "metadata": {
    "collapsed": false,
    "pycharm": {
     "name": "#%% md\n"
    }
   }
  }
 ],
 "metadata": {
  "kernelspec": {
   "display_name": "Python 3",
   "language": "python",
   "name": "python3"
  },
  "language_info": {
   "codemirror_mode": {
    "name": "ipython",
    "version": 2
   },
   "file_extension": ".py",
   "mimetype": "text/x-python",
   "name": "python",
   "nbconvert_exporter": "python",
   "pygments_lexer": "ipython2",
   "version": "2.7.6"
  }
 },
 "nbformat": 4,
 "nbformat_minor": 0
}