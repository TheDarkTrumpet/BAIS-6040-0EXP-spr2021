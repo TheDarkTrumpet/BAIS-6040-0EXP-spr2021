{
 "cells": [
  {
   "cell_type": "markdown",
   "metadata": {
    "collapsed": true,
    "pycharm": {
     "name": "#%% md\n"
    }
   },
   "source": [
    "# MidtermPractice.answer.ipynb\n",
    "\n",
    "## Purpose\n",
    "This notebook should assist students in preparation for the midterm exam.  Please note that this doesn't guarantee **every** item that could appear on the midterm, but is designed primarily as to contain many exercises that can help revisit concepts and build on them.\n",
    "\n",
    "It's recommended that this activity is not the only one you go through.  If a part is light, and you need more practice, then implement that practice in.  But, be mindful to use other variable names.\n",
    "\n",
    "## Working through the notebook\n",
    "Much like the homework, this notebook will be designed in a similar fashion.  Each part relies on output from the previous part unless directly specified otherwise.  Some parts may not have output to be used further in the notebook and are just a \"small exercise\"\n",
    "\n",
    "Please ensure you seed your rnd with **1024** - compare the outputs primarily since there are, often, many ways of doing stuff."
   ]
  },
  {
   "cell_type": "markdown",
   "source": [
    "# Part 1: Scalars, Variables, Operators\n",
    "\n",
    "Create the following variables:\n",
    "\n",
    "| Variable | Value |\n",
    "|----------|-------|\n",
    "|myInt     | 1     |\n",
    "|myString  | \"100\" |\n",
    "|myFloat   | 11.1  |\n",
    "\n",
    "Print these out, using f-strings in the format in the supplied text.\n",
    "\n",
    "Add all the values together into one numerical value (and assign to globalOffset).  Print out the result of this."
   ],
   "metadata": {
    "collapsed": false,
    "pycharm": {
     "name": "#%% md\n"
    }
   }
  },
  {
   "cell_type": "code",
   "execution_count": 1,
   "outputs": [
    {
     "name": "stdout",
     "output_type": "stream",
     "text": [
      "The value of myInt is 1\n",
      "The value of myString is 100\n",
      "The value of myFloat is 11.1\n",
      "The value of globalOffset is 112.1\n"
     ]
    }
   ],
   "source": [
    "myInt = 1\n",
    "myString = \"100\"\n",
    "myFloat = 11.1\n",
    "\n",
    "print(f\"The value of myInt is {myInt}\")\n",
    "print(f\"The value of myString is {myString}\")\n",
    "print(f\"The value of myFloat is {myFloat}\")\n",
    "\n",
    "globalOffset = 1 + int(myString) + myFloat\n",
    "print(f\"The value of globalOffset is {globalOffset}\")"
   ],
   "metadata": {
    "collapsed": false,
    "pycharm": {
     "name": "#%%\n"
    }
   }
  },
  {
   "cell_type": "markdown",
   "source": [
    "# Part 2: Advanced Types and flow control\n",
    "\n",
    "1. Import random and seed it to 1024\n",
    "2. Create a new variable, **intList** and create 20 random integer values\n",
    "   - The algorithm of this should be: Take the ceil (see math module) of the random number divided by the globalOffset (defined in part 1).  The random number should be between 100-1000.\n",
    "3. Print out the length of intList, the type of intList, and the contents of intList\n",
    "4. Loop through the intList to create a tuple list.  Essentially, we're grouping the structure by 2's.  Look at the output.  **Assign this to tupleList**\n",
    "5. Print out the length of tupleList, the type of tupleList, and the contents of tupleList"
   ],
   "metadata": {
    "collapsed": false,
    "pycharm": {
     "name": "#%% md\n"
    }
   }
  },
  {
   "cell_type": "code",
   "execution_count": 2,
   "outputs": [
    {
     "name": "stdout",
     "output_type": "stream",
     "text": [
      "Length of intList is 20\n",
      "Type of intList is <class 'list'>\n"
     ]
    },
    {
     "data": {
      "text/plain": "[9, 2, 6, 9, 5, 4, 9, 9, 9, 6, 2, 5, 6, 5, 9, 8, 9, 8, 5, 5]"
     },
     "execution_count": 2,
     "metadata": {},
     "output_type": "execute_result"
    }
   ],
   "source": [
    "import random as rnd\n",
    "import math\n",
    "rnd.seed(1024)\n",
    "\n",
    "# Note, there are many ways to write this.  Full for loops, while loops, or even\n",
    "# a better version of what I have below.  I did this version to make it a bit more readable\n",
    "# even if it's not all that optimal.\n",
    "\n",
    "intList = [math.ceil(x/globalOffset) for x in [rnd.randint(100, 1000) for _ in range(0, 20)]]\n",
    "print(f\"Length of intList is {len(intList)}\")\n",
    "print(f\"Type of intList is {type(intList)}\")\n",
    "intList"
   ],
   "metadata": {
    "collapsed": false,
    "pycharm": {
     "name": "#%%\n"
    }
   }
  },
  {
   "cell_type": "code",
   "execution_count": 3,
   "outputs": [
    {
     "name": "stdout",
     "output_type": "stream",
     "text": [
      "Length of tupleList is 10\n",
      "Type of tupleList is <class 'list'>\n"
     ]
    },
    {
     "data": {
      "text/plain": "[(9, 2),\n (6, 9),\n (5, 4),\n (9, 9),\n (9, 6),\n (2, 5),\n (6, 5),\n (9, 8),\n (9, 8),\n (5, 5)]"
     },
     "execution_count": 3,
     "metadata": {},
     "output_type": "execute_result"
    }
   ],
   "source": [
    "counter = 0\n",
    "tupleList = []\n",
    "while counter < len(intList):\n",
    "    tupleList.append((intList[counter], intList[counter+1]))\n",
    "    counter += 2\n",
    "\n",
    "print(f\"Length of tupleList is {len(tupleList)}\")\n",
    "print(f\"Type of tupleList is {type(tupleList)}\")\n",
    "tupleList"
   ],
   "metadata": {
    "collapsed": false,
    "pycharm": {
     "name": "#%%\n"
    }
   }
  },
  {
   "cell_type": "code",
   "execution_count": 3,
   "outputs": [],
   "source": [],
   "metadata": {
    "collapsed": false,
    "pycharm": {
     "name": "#%%\n"
    }
   }
  }
 ],
 "metadata": {
  "kernelspec": {
   "display_name": "Python 3",
   "language": "python",
   "name": "python3"
  },
  "language_info": {
   "codemirror_mode": {
    "name": "ipython",
    "version": 2
   },
   "file_extension": ".py",
   "mimetype": "text/x-python",
   "name": "python",
   "nbconvert_exporter": "python",
   "pygments_lexer": "ipython2",
   "version": "2.7.6"
  }
 },
 "nbformat": 4,
 "nbformat_minor": 0
}