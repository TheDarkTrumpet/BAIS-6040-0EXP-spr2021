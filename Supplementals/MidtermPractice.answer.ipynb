{
 "cells": [
  {
   "cell_type": "markdown",
   "metadata": {
    "collapsed": true,
    "pycharm": {
     "name": "#%% md\n"
    }
   },
   "source": [
    "# MidtermPractice.answer.ipynb\n",
    "\n",
    "## Purpose\n",
    "This notebook should assist students in preparation for the midterm exam.  Please note that this doesn't guarantee **every** item that could appear on the midterm, but is designed primarily as to contain many exercises that can help revisit concepts and build on them.\n",
    "\n",
    "It's recommended that this activity is not the only one you go through.  If a part is light, and you need more practice, then implement that practice in.  But, be mindful to use other variable names.\n",
    "\n",
    "## Working through the notebook\n",
    "Much like the homework, this notebook will be designed in a similar fashion.  Each part relies on output from the previous part unless directly specified otherwise.  Some parts may not have output to be used further in the notebook and are just a \"small exercise\"\n",
    "\n",
    "Please ensure you seed your rnd with **1024** - compare the outputs primarily since there are, often, many ways of doing stuff."
   ]
  },
  {
   "cell_type": "markdown",
   "source": [
    "# Part 1: Scalars, Variables, Operators\n",
    "\n",
    "Create the following variables:\n",
    "\n",
    "| Variable | Value |\n",
    "|----------|-------|\n",
    "|myInt     | 1     |\n",
    "|myString  | \"100\" |\n",
    "|myFloat   | 11.1  |\n",
    "\n",
    "Print these out, using f-strings in the format in the supplied text.\n",
    "\n",
    "Add all the values together into one numerical value (and assign to globalOffset).  Print out the result of this."
   ],
   "metadata": {
    "collapsed": false,
    "pycharm": {
     "name": "#%% md\n"
    }
   }
  },
  {
   "cell_type": "code",
   "execution_count": 1,
   "outputs": [
    {
     "name": "stdout",
     "output_type": "stream",
     "text": [
      "The value of myInt is 1\n",
      "The value of myString is 100\n",
      "The value of myFloat is 11.1\n",
      "The value of globalOffset is 112.1\n"
     ]
    }
   ],
   "source": [
    "myInt = 1\n",
    "myString = \"100\"\n",
    "myFloat = 11.1\n",
    "\n",
    "print(f\"The value of myInt is {myInt}\")\n",
    "print(f\"The value of myString is {myString}\")\n",
    "print(f\"The value of myFloat is {myFloat}\")\n",
    "\n",
    "globalOffset = 1 + int(myString) + myFloat\n",
    "print(f\"The value of globalOffset is {globalOffset}\")"
   ],
   "metadata": {
    "collapsed": false,
    "pycharm": {
     "name": "#%%\n"
    }
   }
  },
  {
   "cell_type": "markdown",
   "source": [
    "# Part 2: Advanced Types and flow control\n"
   ],
   "metadata": {
    "collapsed": false,
    "pycharm": {
     "name": "#%% md\n"
    }
   }
  }
 ],
 "metadata": {
  "kernelspec": {
   "display_name": "Python 3",
   "language": "python",
   "name": "python3"
  },
  "language_info": {
   "codemirror_mode": {
    "name": "ipython",
    "version": 2
   },
   "file_extension": ".py",
   "mimetype": "text/x-python",
   "name": "python",
   "nbconvert_exporter": "python",
   "pygments_lexer": "ipython2",
   "version": "2.7.6"
  }
 },
 "nbformat": 4,
 "nbformat_minor": 0
}