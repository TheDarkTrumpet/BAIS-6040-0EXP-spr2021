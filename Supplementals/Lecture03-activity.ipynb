{
 "cells": [
  {
   "cell_type": "markdown",
   "metadata": {
    "collapsed": true,
    "pycharm": {
     "name": "#%% md\n"
    }
   },
   "source": [
    "# Homework 2\n",
    "\n",
    "This homework is split into two parts.  The first is a \"simple\" way of accomplishing the problem and the second is more a creative way to solve the problem.\n",
    "\n",
    "Submitter: David Thole"
   ]
  },
  {
   "cell_type": "code",
   "execution_count": 12,
   "outputs": [
    {
     "name": "stdout",
     "output_type": "stream",
     "text": [
      "Length of randomIntegers is 200\n",
      "First 5 elements are: [3, 62, 50, 42, 67]...\n"
     ]
    }
   ],
   "source": [
    "import random as rnd\n",
    "rnd.seed(1024)\n",
    "randomIntegers = list(map(lambda x: rnd.randint(1, 100), range(200)))\n",
    "print(f\"Length of randomIntegers is {len(randomIntegers)}\")\n",
    "print(f\"First 5 elements are: {randomIntegers[0:5]}...\")"
   ],
   "metadata": {
    "collapsed": false,
    "pycharm": {
     "name": "#%%\n"
    }
   }
  },
  {
   "cell_type": "code",
   "execution_count": 13,
   "outputs": [
    {
     "name": "stdout",
     "output_type": "stream",
     "text": [
      "Length of summedBy5 is 40\n"
     ]
    }
   ],
   "source": [
    "summedByFive = []\n",
    "startIndex = 0\n",
    "while startIndex < len(randomIntegers):\n",
    "     summedByFive.append(sum(randomIntegers[startIndex:startIndex+5]))\n",
    "     startIndex += 5\n",
    "\n",
    "print(f\"Length of summedBy5 is {len(summedByFive)}\")"
   ],
   "metadata": {
    "collapsed": false,
    "pycharm": {
     "name": "#%%\n"
    }
   }
  },
  {
   "cell_type": "code",
   "execution_count": 14,
   "outputs": [
    {
     "name": "stdout",
     "output_type": "stream",
     "text": [
      "Length of summedByFiveSet is 35\n"
     ]
    }
   ],
   "source": [
    "summedByFiveSet = set(summedByFive)\n",
    "print(f\"Length of summedByFiveSet is {len(summedByFiveSet)}\")"
   ],
   "metadata": {
    "collapsed": false,
    "pycharm": {
     "name": "#%%\n"
    }
   }
  },
  {
   "cell_type": "code",
   "execution_count": 15,
   "outputs": [
    {
     "name": "stdout",
     "output_type": "stream",
     "text": [
      "Length of summedByFiveEvens is 16\n"
     ]
    },
    {
     "data": {
      "text/plain": "[135,\n 137,\n 273,\n 153,\n 285,\n 295,\n 307,\n 193,\n 323,\n 215,\n 353,\n 231,\n 237,\n 239,\n 245,\n 255]"
     },
     "execution_count": 15,
     "metadata": {},
     "output_type": "execute_result"
    }
   ],
   "source": [
    "summedByFiveEvens = list(filter(lambda x: x % 2 > 0, summedByFiveSet))\n",
    "print(f\"Length of summedByFiveEvens is {len(summedByFiveEvens)}\")\n",
    "summedByFiveEvens"
   ],
   "metadata": {
    "collapsed": false,
    "pycharm": {
     "name": "#%%\n"
    }
   }
  },
  {
   "cell_type": "code",
   "execution_count": 16,
   "outputs": [
    {
     "data": {
      "text/plain": "['135',\n '137',\n '273',\n '153',\n '285',\n '295',\n '307',\n '193',\n '323',\n '215',\n '353',\n '231',\n '237',\n '239',\n '245',\n '255']"
     },
     "execution_count": 16,
     "metadata": {},
     "output_type": "execute_result"
    }
   ],
   "source": [
    "summedByFiveStrings = list(map(lambda x: str(x), summedByFiveEvens))\n",
    "summedByFiveStrings"
   ],
   "metadata": {
    "collapsed": false,
    "pycharm": {
     "name": "#%%\n"
    }
   }
  },
  {
   "cell_type": "code",
   "execution_count": 17,
   "outputs": [
    {
     "data": {
      "text/plain": "{'135': '137',\n '273': '153',\n '285': '295',\n '307': '193',\n '323': '215',\n '353': '231',\n '237': '239',\n '245': '255'}"
     },
     "execution_count": 17,
     "metadata": {},
     "output_type": "execute_result"
    }
   ],
   "source": [
    "startIndex = 0\n",
    "summedByFiveDictionary = {}\n",
    "while startIndex < len(summedByFiveStrings):\n",
    "    index = summedByFiveStrings[startIndex]\n",
    "    if startIndex + 1 > len(summedByFiveStrings)-1:\n",
    "        value = \"\"\n",
    "    else:\n",
    "        value = summedByFiveStrings[startIndex + 1]\n",
    "    summedByFiveDictionary[index] = value\n",
    "    startIndex += 2\n",
    "summedByFiveDictionary"
   ],
   "metadata": {
    "collapsed": false,
    "pycharm": {
     "name": "#%%\n"
    }
   }
  },
  {
   "cell_type": "markdown",
   "source": [
    "## Modify the above cell to use a set, vs a list for looping through."
   ],
   "metadata": {
    "collapsed": false,
    "pycharm": {
     "name": "#%% md\n"
    }
   }
  },
  {
   "cell_type": "code",
   "execution_count": 18,
   "outputs": [
    {
     "data": {
      "text/plain": "{'135': '215',\n '153': '239',\n '285': '307',\n '237': '193',\n '323': '137',\n '231': '245',\n '255': '273',\n '295': '353'}"
     },
     "execution_count": 18,
     "metadata": {},
     "output_type": "execute_result"
    }
   ],
   "source": [
    "summedByFiveDictionary = {}\n",
    "summedByFiveStrings = set(summedByFiveStrings)\n",
    "while len(summedByFiveStrings) > 0:\n",
    "    index = summedByFiveStrings.pop()\n",
    "    if len(summedByFiveStrings) == 0:\n",
    "        value = \"\"\n",
    "    else:\n",
    "        value = summedByFiveStrings.pop()\n",
    "    summedByFiveDictionary[index] = value\n",
    "summedByFiveDictionary"
   ],
   "metadata": {
    "collapsed": false,
    "pycharm": {
     "name": "#%%\n"
    }
   }
  },
  {
   "cell_type": "markdown",
   "source": [
    "Limitations of the above design is that it's a bit too wordy of sorts.  We can shorten a lot of this"
   ],
   "metadata": {
    "collapsed": false,
    "pycharm": {
     "name": "#%% md\n"
    }
   }
  },
  {
   "cell_type": "code",
   "execution_count": 19,
   "outputs": [
    {
     "data": {
      "text/plain": "{262: 264,\n 276: 150,\n 282: 290,\n 176: 308,\n 310: 184,\n 190: 194,\n 322: 208,\n 214: 224,\n 352: 232,\n 250: ''}"
     },
     "execution_count": 19,
     "metadata": {},
     "output_type": "execute_result"
    }
   ],
   "source": [
    "from itertools import zip_longest\n",
    "rnd.seed(1024)  # Reset seed, so we get the same answers\n",
    "summedByFive = set(map(lambda x: sum(x), zip_longest(*[map(lambda _: rnd.randint(1, 100), range(200))] * 5)))\n",
    "summedByFiveDictionary = dict(zip_longest(*[filter(lambda x: x % 2 == 0, summedByFive)] * 2, fillvalue=''))\n",
    "summedByFiveDictionary"
   ],
   "metadata": {
    "collapsed": false,
    "pycharm": {
     "name": "#%%\n"
    }
   }
  },
  {
   "cell_type": "code",
   "execution_count": 19,
   "outputs": [],
   "source": [],
   "metadata": {
    "collapsed": false,
    "pycharm": {
     "name": "#%%\n"
    }
   }
  }
 ],
 "metadata": {
  "kernelspec": {
   "display_name": "Python 3",
   "language": "python",
   "name": "python3"
  },
  "language_info": {
   "codemirror_mode": {
    "name": "ipython",
    "version": 2
   },
   "file_extension": ".py",
   "mimetype": "text/x-python",
   "name": "python",
   "nbconvert_exporter": "python",
   "pygments_lexer": "ipython2",
   "version": "2.7.6"
  }
 },
 "nbformat": 4,
 "nbformat_minor": 0
}