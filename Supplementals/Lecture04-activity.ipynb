{
 "cells": [
  {
   "cell_type": "markdown",
   "metadata": {
    "collapsed": true,
    "pycharm": {
     "name": "#%% md\n"
    }
   },
   "source": [
    "# Lecture04-activity.ipynb\n",
    "\n",
    "## Purpose\n",
    "This notebook will introduce working with matrices.  It's a bridge between modules 3 and module 4 and relates to the homework.\n",
    "\n",
    "Please note, limit your use of built-in numpy functions except for creating the random matrix, and some stacking operations.  Outside that, all operations that happen on the matrix should be more manual and done as a group using loops and similar structures that we've seen (just expanded to that of in a matrix)\n",
    "\n",
    "## Part 1: Create a random matrix"
   ]
  },
  {
   "cell_type": "code",
   "execution_count": 2,
   "outputs": [
    {
     "data": {
      "text/plain": "array([[30, 56,  5,  8,  8, 18, 69, 64, 33,  5, 63, 36, 77, 93, 19],\n       [62, 34,  7, 97, 64, 12, 80, 10, 94, 50, 91, 58, 85, 16, 87],\n       [65, 45, 54, 46, 70, 39,  1, 82, 66, 14, 74, 58,  7,  3, 75],\n       [31, 42, 20, 44, 77, 32, 59, 96, 65, 18, 67, 52, 32, 48, 54],\n       [ 4, 44, 52, 64, 17,  2, 72, 18, 95, 26,  6, 43, 98,  6, 70],\n       [ 9, 58, 83, 74, 20, 62, 49, 24, 13, 96, 74, 57, 14, 93,  9],\n       [29, 27, 24, 77, 42, 43, 40, 23, 80,  2,  4, 90, 81, 75, 66],\n       [93, 99, 77, 65, 92, 39, 65, 11, 40, 87, 37, 76, 23, 46, 76],\n       [21, 94, 14, 91, 36, 16, 75, 17, 26, 85, 14, 95, 86, 20, 15],\n       [92,  5, 59, 70, 29, 86, 64, 46, 67,  3, 56, 46, 80, 40, 83],\n       [97, 91, 87, 50,  3, 76,  2, 80, 93,  3, 92, 38, 70, 57, 75],\n       [23, 49, 33, 36, 29, 97, 47, 96, 85,  1, 22,  2, 58, 26, 74],\n       [92, 16, 46, 43, 93, 55, 35,  1, 78, 66, 42, 25, 27, 83, 60],\n       [27, 50, 35,  5, 18, 52, 39, 54, 12, 89, 46,  3, 90, 23, 11],\n       [78, 40, 53, 16, 39, 61, 50, 82, 54, 76,  2, 32, 17, 29, 82]])"
     },
     "execution_count": 2,
     "metadata": {},
     "output_type": "execute_result"
    }
   ],
   "source": [
    "import numpy as np\n",
    "import numpy.random as rnd\n"
   ],
   "metadata": {
    "collapsed": false,
    "pycharm": {
     "name": "#%%\n"
    }
   }
  },
  {
   "cell_type": "markdown",
   "source": [
    "## Part 2: Some sums\n",
    "Pull the first row, and the first column into variables.  Output what the array looks like.  Then sum each one, output the sum."
   ],
   "metadata": {
    "collapsed": false,
    "pycharm": {
     "name": "#%% md\n"
    }
   }
  },
  {
   "cell_type": "code",
   "execution_count": 6,
   "outputs": [
    {
     "name": "stdout",
     "output_type": "stream",
     "text": [
      "The contents of column are: [30 62 65 31  4  9 29 93 21 92 97 23 92 27 78]\n",
      "The contents of row are: [30 62 65 31  4  9 29 93 21 92 97 23 92 27 78]\n",
      "The column sum is: 753\n",
      "The row sum is: 584\n"
     ]
    }
   ],
   "source": [],
   "metadata": {
    "collapsed": false,
    "pycharm": {
     "name": "#%%\n"
    }
   }
  },
  {
   "cell_type": "markdown",
   "source": [
    "## Part 3: Range Pulls\n",
    "Take a 4x4 matrix (top left, so columns 0-3, and rows 0-3), and output what that would look like.  Do the same 4 x 4 matrix, but now down the lower right (11-14), and output what that would look like."
   ],
   "metadata": {
    "collapsed": false,
    "pycharm": {
     "name": "#%% md\n"
    }
   }
  },
  {
   "cell_type": "code",
   "execution_count": 8,
   "outputs": [
    {
     "data": {
      "text/plain": "array([[30, 56,  5,  8],\n       [62, 34,  7, 97],\n       [65, 45, 54, 46],\n       [31, 42, 20, 44]])"
     },
     "execution_count": 8,
     "metadata": {},
     "output_type": "execute_result"
    }
   ],
   "source": [],
   "metadata": {
    "collapsed": false,
    "pycharm": {
     "name": "#%%\n"
    }
   }
  },
  {
   "cell_type": "code",
   "execution_count": 9,
   "outputs": [
    {
     "data": {
      "text/plain": "array([[ 2, 58, 26, 74],\n       [25, 27, 83, 60],\n       [ 3, 90, 23, 11],\n       [32, 17, 29, 82]])"
     },
     "execution_count": 9,
     "metadata": {},
     "output_type": "execute_result"
    }
   ],
   "source": [],
   "metadata": {
    "collapsed": false,
    "pycharm": {
     "name": "#%%\n"
    }
   }
  },
  {
   "cell_type": "markdown",
   "source": [
    "## Part 4: Stacking\n",
    "Read the documentation on numPy, and there are two options available for \"stacking\" a matrix.  I don't want to give the answer quite yet on this. But, a heavy hint is at:\n",
    "https://numpy.org/doc/stable/reference/routines.array-manipulation.html"
   ],
   "metadata": {
    "collapsed": false,
    "pycharm": {
     "name": "#%% md\n"
    }
   }
  },
  {
   "cell_type": "code",
   "execution_count": 10,
   "outputs": [
    {
     "data": {
      "text/plain": "array([[30, 56,  5,  8,  2, 58, 26, 74],\n       [62, 34,  7, 97, 25, 27, 83, 60],\n       [65, 45, 54, 46,  3, 90, 23, 11],\n       [31, 42, 20, 44, 32, 17, 29, 82]])"
     },
     "execution_count": 10,
     "metadata": {},
     "output_type": "execute_result"
    }
   ],
   "source": [],
   "metadata": {
    "collapsed": false,
    "pycharm": {
     "name": "#%%\n"
    }
   }
  },
  {
   "cell_type": "code",
   "execution_count": 11,
   "outputs": [
    {
     "data": {
      "text/plain": "array([[30, 56,  5,  8],\n       [62, 34,  7, 97],\n       [65, 45, 54, 46],\n       [31, 42, 20, 44],\n       [ 2, 58, 26, 74],\n       [25, 27, 83, 60],\n       [ 3, 90, 23, 11],\n       [32, 17, 29, 82]])"
     },
     "execution_count": 11,
     "metadata": {},
     "output_type": "execute_result"
    }
   ],
   "source": [],
   "metadata": {
    "collapsed": false,
    "pycharm": {
     "name": "#%%\n"
    }
   }
  },
  {
   "cell_type": "code",
   "execution_count": null,
   "outputs": [],
   "source": [],
   "metadata": {
    "collapsed": false,
    "pycharm": {
     "name": "#%%\n"
    }
   }
  }
 ],
 "metadata": {
  "kernelspec": {
   "display_name": "Python 3",
   "language": "python",
   "name": "python3"
  },
  "language_info": {
   "codemirror_mode": {
    "name": "ipython",
    "version": 2
   },
   "file_extension": ".py",
   "mimetype": "text/x-python",
   "name": "python",
   "nbconvert_exporter": "python",
   "pygments_lexer": "ipython2",
   "version": "2.7.6"
  }
 },
 "nbformat": 4,
 "nbformat_minor": 0
}