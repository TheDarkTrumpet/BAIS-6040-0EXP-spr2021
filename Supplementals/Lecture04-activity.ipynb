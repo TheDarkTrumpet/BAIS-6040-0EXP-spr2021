{
 "cells": [
  {
   "cell_type": "markdown",
   "metadata": {
    "collapsed": true,
    "pycharm": {
     "name": "#%% md\n"
    }
   },
   "source": [
    "# Lecture04-activity.ipynb\n",
    "\n",
    "## Purpose\n",
    "This notebook will introduce working with matrices.  It's a bridge between modules 3 and module 4 and relates to the homework.\n",
    "\n",
    "Please note, limit your use of built in numpy functions except for creating the random matrix (done for you).  Outside that, all operations that happen on the matrix should be more manual and done as a group using loops and similar structures that we've seen (just expanded to that of in a matrix)\n",
    "\n",
    "## Part 1: Create a random matrix"
   ]
  },
  {
   "cell_type": "code",
   "execution_count": 2,
   "outputs": [
    {
     "data": {
      "text/plain": "array([[18, 62, 21, 58, 48, 31, 82,  1, 23, 87, 85, 74, 92, 30, 28],\n       [ 9, 66, 30,  3, 26, 10, 81, 90, 32, 47, 51, 22, 76, 78, 23],\n       [ 7, 60, 33, 33, 25, 90, 50, 63, 51, 33, 40, 36, 15, 96, 36],\n       [91, 60, 62,  1, 15, 44, 12, 51, 65, 72, 95, 35,  4,  4, 57],\n       [87, 79,  9, 78, 77, 46, 46,  6, 34, 63, 24, 42, 44, 57, 55],\n       [54, 13, 39, 29, 97, 30, 51, 73, 54, 60, 74, 11, 55, 48, 49],\n       [17, 66, 54, 47, 26, 56, 61, 48, 94, 82, 69, 13, 28, 74, 49],\n       [28, 73, 25, 98, 34, 48, 99, 47, 29, 15, 21, 66, 68, 81, 85],\n       [61, 25,  9,  5, 77, 13, 24, 60, 71, 33, 91, 23, 52,  1, 81],\n       [19, 32, 86, 85, 91, 25, 16, 71, 59, 91, 33, 85, 89, 16, 49],\n       [28,  5, 93, 49, 65, 30, 23, 10, 80, 64, 91, 71,  5, 14, 27],\n       [35, 58, 97, 50, 66, 79, 80, 74, 31,  9, 28, 63, 77, 32, 72],\n       [83, 75, 24, 48, 10, 51, 35, 97, 85, 30, 70, 18, 91, 91,  9],\n       [12, 83, 62, 23, 88, 17, 19, 55, 67, 66, 72, 11, 26, 93, 78],\n       [74, 35, 92, 36, 60, 58, 99, 25, 95, 93, 45,  9, 95, 87, 33]])"
     },
     "execution_count": 2,
     "metadata": {},
     "output_type": "execute_result"
    }
   ],
   "source": [
    "import numpy as np\n",
    "import numpy.random as rnd\n",
    "\n",
    "randomMatrix = rnd.randint(1, 100, (15, 15))\n",
    "randomMatrix"
   ],
   "metadata": {
    "collapsed": false,
    "pycharm": {
     "name": "#%%\n"
    }
   }
  },
  {
   "cell_type": "code",
   "execution_count": null,
   "outputs": [],
   "source": [],
   "metadata": {
    "collapsed": false,
    "pycharm": {
     "name": "#%%\n"
    }
   }
  }
 ],
 "metadata": {
  "kernelspec": {
   "display_name": "Python 3",
   "language": "python",
   "name": "python3"
  },
  "language_info": {
   "codemirror_mode": {
    "name": "ipython",
    "version": 2
   },
   "file_extension": ".py",
   "mimetype": "text/x-python",
   "name": "python",
   "nbconvert_exporter": "python",
   "pygments_lexer": "ipython2",
   "version": "2.7.6"
  }
 },
 "nbformat": 4,
 "nbformat_minor": 0
}