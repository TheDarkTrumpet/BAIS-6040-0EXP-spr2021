{
 "cells": [
  {
   "cell_type": "markdown",
   "metadata": {},
   "source": [
    "# Module04Supplemental.ipynb\n",
    "\n",
    "## Purpose\n",
    "This notebook expands on the topics from the 2-dimension array into 3-dimensions.  This really complicates matters a fair amount, because visualizing stuff in 3-dimensions is consierably more difficult than 2 dimensions.  But, it's still worth knowing at least to some degree.  Not so much because you'll work in 3-dimensions often, but because it's a mathematical outlook that'll help you to think more as necessary in a programmatic field.\n",
    "\n",
    "## Description of Problem.\n",
    "We want to develop a set of functions, that allow us to do the following:\n",
    "\n",
    "1. Given a random matrix generated, along the 3rd dimension, to sum the columns for each dimension.\n",
    "2. With the resulting 2-dimensional matrix, to sum along the columns to create a 1 dimensional matrix/array.\n",
    "\n",
    "Another way to look at this.  Lets visualize a cube on the table with different cells.  We first want to roll up (flatten) along one dimension (think smashing the cube on the table to get a sheet of paper of values).  Then, we want to roll up (again flattening) that paper into one row of information.\n",
    "\n",
    "The picture below should help explain.  Notice the color coding that's in the picture\n",
    "\n",
    "![Picture](Module04Supplemental.image.jpg)"
   ]
  },
  {
   "cell_type": "code",
   "execution_count": 1,
   "metadata": {},
   "outputs": [],
   "source": [
    "import numpy as np"
   ]
  },
  {
   "cell_type": "markdown",
   "source": [
    "# Step 0: Helper functions"
   ],
   "metadata": {
    "collapsed": false,
    "pycharm": {
     "name": "#%% md\n"
    }
   }
  },
  {
   "cell_type": "code",
   "execution_count": 10,
   "metadata": {},
   "outputs": [],
   "source": [
    "def sliceMatrixAddition(matrix):\n",
    "    zlength = len(matrix)\n",
    "    xlength = len(matrix[0,:,:])\n",
    "    \n",
    "    counter = zlength - 1\n",
    "    returnList = []\n",
    "    while counter >= 0:\n",
    "        matrixSlice = randMatrix[counter,:,:]\n",
    "        columnAddition = sumColumns(matrixSlice)\n",
    "        for x in columnAddition:\n",
    "            returnList.append(x)\n",
    "        counter = counter - 1\n",
    "    return np.reshape(returnList, (zlength, xlength))\n",
    "\n",
    "def sumColumns(matrix):\n",
    "    sumOfColumns = []\n",
    "    for x in range(0, len(matrix[0,:])):\n",
    "        column = matrix[:,x]\n",
    "        sumOfColumns.append(sum(column))\n",
    "    return sumOfColumns"
   ]
  },
  {
   "cell_type": "markdown",
   "metadata": {},
   "source": [
    "# Step 1: Create Matrix\n",
    "Generate a random matrix, 8x8x3"
   ]
  },
  {
   "cell_type": "code",
   "execution_count": 3,
   "metadata": {},
   "outputs": [
    {
     "data": {
      "text/plain": "array([[[31, 92, 36, 81, 26,  7, 42, 75],\n        [43, 70, 38, 79, 62, 28, 24, 64],\n        [51, 38, 70, 44, 98, 27, 60, 24],\n        [64, 96, 17, 19, 67, 81, 93, 66],\n        [52, 11, 88, 96, 22, 42, 23, 78],\n        [32, 19, 29, 80, 21, 67, 36, 47],\n        [14,  6, 20, 46,  7,  7, 65,  5],\n        [76, 95, 18, 19, 77, 89, 45, 46]],\n\n       [[37, 71, 46, 53, 12, 84, 75, 96],\n        [ 5, 42, 10,  7, 56,  7,  3, 22],\n        [22, 64,  6, 28, 91, 56, 34, 10],\n        [62,  3, 75, 93, 78,  1, 67, 81],\n        [17, 15, 97, 25, 44,  6, 65, 88],\n        [34, 76, 75, 67, 68, 21, 45, 71],\n        [24, 92, 14, 78, 88, 57, 61, 89],\n        [ 1, 70, 93, 34, 55, 16, 90,  2]],\n\n       [[49, 18, 42, 91, 85,  5, 86, 93],\n        [20, 47, 25,  3, 99, 44,  1, 27],\n        [93, 29, 24, 90,  7, 71, 26, 38],\n        [18, 91, 38, 91, 57, 99, 26, 17],\n        [64, 16, 58, 27, 52, 32, 17,  9],\n        [14, 54, 68,  5, 51, 90, 44, 34],\n        [61, 99, 16, 92, 29, 77, 93, 54],\n        [45, 34, 27, 55, 91, 50,  2, 73]]])"
     },
     "execution_count": 3,
     "metadata": {},
     "output_type": "execute_result"
    }
   ],
   "source": [
    "randMatrix = np.random.randint(1, 100, size=(3,8,8))\n",
    "randMatrix"
   ]
  },
  {
   "cell_type": "markdown",
   "metadata": {},
   "source": [
    "# Step 2: Sum columns\n",
    "\"smash the cube\", we should be left with an x/z matrix (no longer a Y axis), it's now flat as a pancake."
   ]
  },
  {
   "cell_type": "code",
   "execution_count": 4,
   "metadata": {},
   "outputs": [
    {
     "data": {
      "text/plain": "array([[364, 388, 298, 454, 471, 468, 295, 345],\n       [202, 433, 416, 385, 492, 248, 440, 459],\n       [363, 427, 316, 464, 380, 348, 388, 405]])"
     },
     "execution_count": 4,
     "metadata": {},
     "output_type": "execute_result"
    }
   ],
   "source": [
    "zAxisSum = sliceMatrixAddition(randMatrix)\n",
    "zAxisSum"
   ]
  },
  {
   "cell_type": "markdown",
   "metadata": {},
   "source": [
    "# Step 3: Sum columns\n",
    "\"smash again\", we're not removing the z axis, and \"rolling up\" so it's just the x-axis"
   ]
  },
  {
   "cell_type": "code",
   "execution_count": 11,
   "metadata": {},
   "outputs": [
    {
     "data": {
      "text/plain": "[929, 1248, 1030, 1303, 1343, 1064, 1123, 1209]"
     },
     "execution_count": 11,
     "metadata": {},
     "output_type": "execute_result"
    }
   ],
   "source": [
    "columnSum = sumColumns(zAxisSum)\n",
    "columnSum"
   ]
  },
  {
   "cell_type": "code",
   "execution_count": 5,
   "metadata": {},
   "outputs": [],
   "source": []
  }
 ],
 "metadata": {
  "kernelspec": {
   "display_name": "Python 3",
   "language": "python",
   "name": "python3"
  },
  "language_info": {
   "codemirror_mode": {
    "name": "ipython",
    "version": 3
   },
   "file_extension": ".py",
   "mimetype": "text/x-python",
   "name": "python",
   "nbconvert_exporter": "python",
   "pygments_lexer": "ipython3",
   "version": "3.8.5"
  }
 },
 "nbformat": 4,
 "nbformat_minor": 4
}