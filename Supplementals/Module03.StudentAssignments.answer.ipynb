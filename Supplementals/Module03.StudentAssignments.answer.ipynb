{
 "cells": [
  {
   "cell_type": "markdown",
   "metadata": {
    "collapsed": true,
    "pycharm": {
     "name": "#%% md\n"
    }
   },
   "source": [
    "# Module03.StudentAssignments.ipynb\n",
    "\n",
    "## Purpose\n",
    "This notebook takes an assignment, that relates to a student, and applies them randomly in a group.  The idea is to most evenly, and randomly, assign the groups for the group project.\n",
    "\n",
    "Task Objectives:\n",
    "Given a dataset of student aliases, and a group size, create a way to generate, randomly, a collection of student groups.  Some code is left here to help get one started.\n",
    "\n",
    "## 3rd party Libraries:\n",
    "- None"
   ]
  },
  {
   "cell_type": "code",
   "execution_count": 1,
   "outputs": [],
   "source": [
    "import random as rnd\n",
    "import math\n",
    "\n",
    "# More user customizable variables.  The data set is represented here\n",
    "# vs a csv since we haven't reached Pandas yet.\n",
    "# Assumes a group size of 5 people, per group.\n",
    "def getDataSet():\n",
    "    return ['StudentA', 'StudentB', 'StudentC', 'StudentD', 'StudentE', 'StudentF', 'StudentG', 'StudentH', 'StudentI', 'StudentJ', 'StudentK', 'StudentL', 'StudentM', 'StudentN', 'StudentO', 'StudentP', 'StudentQ', 'StudentR', 'StudentS', 'StudentT', 'StudentU', 'StudentV', 'StudentW']\n",
    "\n",
    "numPerGroup = 5"
   ],
   "metadata": {
    "collapsed": false,
    "pycharm": {
     "name": "#%%\n"
    }
   }
  },
  {
   "cell_type": "markdown",
   "source": [
    "Below general setup.  I'm assigning dataSet here, vs in the first option, because I want to get counts.  For further examples, you'll see it called again to get a fresh data set."
   ],
   "metadata": {
    "collapsed": false,
    "pycharm": {
     "name": "#%% md\n"
    }
   }
  },
  {
   "cell_type": "code",
   "execution_count": 2,
   "outputs": [
    {
     "name": "stdout",
     "output_type": "stream",
     "text": [
      "dataSetLength = 23\n",
      "numGroups = 5\n"
     ]
    }
   ],
   "source": [
    "dataSet = getDataSet()\n",
    "dataSetLength = len(dataSet)\n",
    "numGroups = math.ceil(dataSetLength / numPerGroup)\n",
    "print(f\"dataSetLength = {dataSetLength}\")\n",
    "print(f\"numGroups = {numGroups}\")"
   ],
   "metadata": {
    "collapsed": false,
    "pycharm": {
     "name": "#%%\n"
    }
   }
  },
  {
   "cell_type": "code",
   "execution_count": 3,
   "outputs": [
    {
     "name": "stdout",
     "output_type": "stream",
     "text": [
      "Generating Group, 1\n",
      "Generating Group, 2\n",
      "Generating Group, 3\n",
      "Generating Group, 4\n",
      "Generating Group, 5\n"
     ]
    },
    {
     "data": {
      "text/plain": "[['StudentQ', 'StudentE', 'StudentM', 'StudentU', 'StudentG'],\n ['StudentV', 'StudentA', 'StudentI', 'StudentL', 'StudentP'],\n ['StudentJ', 'StudentC', 'StudentB', 'StudentN', 'StudentR'],\n ['StudentD', 'StudentW', 'StudentT', 'StudentF', 'StudentK'],\n ['StudentS', 'StudentO', 'StudentH']]"
     },
     "execution_count": 3,
     "metadata": {},
     "output_type": "execute_result"
    }
   ],
   "source": [
    "# One way of approaching this problem is to loop til we exhaust all random numbers\n",
    "# Given our data set size, this isn't a totally awful solution, but isn't great either.\n",
    "\n",
    "groupSet = []\n",
    "chosenClassmates = []\n",
    "for x in range(0, numGroups):\n",
    "    print(f\"Generating Group, {x+1}\")\n",
    "    currentChosenClassmates = []\n",
    "    while len(currentChosenClassmates) < numPerGroup and len(chosenClassmates) != dataSetLength:\n",
    "        pickedStudentIndex = rnd.randint(0, dataSetLength-1)\n",
    "        pickedStudent = dataSet[pickedStudentIndex]\n",
    "        if not pickedStudent in chosenClassmates:\n",
    "            chosenClassmates.append(pickedStudent)\n",
    "            currentChosenClassmates.append(pickedStudent)\n",
    "    groupSet.append(currentChosenClassmates)\n",
    "\n",
    "groupSet"
   ],
   "metadata": {
    "collapsed": false,
    "pycharm": {
     "name": "#%%\n"
    }
   }
  },
  {
   "cell_type": "markdown",
   "source": [
    "Another option we have here is to use a similar structure, but make it more efficient.  The current implementation of this suffers from the fact that we keep picking from the full range of students, and keep looping.  Think of it this way, as the choice of available students gets smaller and smaller, we have to loop more and more in the while section because we'll keep picking, already, chosen students.\n",
    "\n",
    "Draw the difference between these two algorithms on paper.  The following may be a bit more code, but is considerably more scalable.\n",
    "\n",
    "One nice side effect, is that this is a lot easier to read.  Less nesting, which is a good thing."
   ],
   "metadata": {
    "collapsed": false,
    "pycharm": {
     "name": "#%% md\n"
    }
   }
  },
  {
   "cell_type": "code",
   "execution_count": 4,
   "outputs": [
    {
     "name": "stdout",
     "output_type": "stream",
     "text": [
      "Generating Group, 1\n",
      "Generating Group, 2\n",
      "Generating Group, 3\n",
      "Generating Group, 4\n",
      "Generating Group, 5\n"
     ]
    },
    {
     "data": {
      "text/plain": "[['StudentU', 'StudentR', 'StudentE', 'StudentC', 'StudentT'],\n ['StudentI', 'StudentQ', 'StudentK', 'StudentN', 'StudentL'],\n ['StudentB', 'StudentP', 'StudentF', 'StudentJ', 'StudentM'],\n ['StudentD', 'StudentH', 'StudentA', 'StudentO', 'StudentW'],\n ['StudentG', 'StudentS', 'StudentV']]"
     },
     "execution_count": 4,
     "metadata": {},
     "output_type": "execute_result"
    }
   ],
   "source": [
    "groupSet = []\n",
    "availableClassmates = getDataSet()\n",
    "for x in range(0, numGroups):\n",
    "    print(f\"Generating Group, {x+1}\")\n",
    "    currentChosenClassmates = []\n",
    "    while len(currentChosenClassmates) < numPerGroup and len(availableClassmates) > 0:\n",
    "        pickedStudentIndex = rnd.randint(0, len(availableClassmates)-1)\n",
    "        pickedStudent = availableClassmates[pickedStudentIndex]\n",
    "        currentChosenClassmates.append(pickedStudent)\n",
    "        availableClassmates.remove(pickedStudent)\n",
    "    groupSet.append(currentChosenClassmates)\n",
    "\n",
    "groupSet"
   ],
   "metadata": {
    "collapsed": false,
    "pycharm": {
     "name": "#%%\n"
    }
   }
  },
  {
   "cell_type": "markdown",
   "source": [
    "Another option, that's even better, results with looking at the Python random module documentation, and seeing what's available."
   ],
   "metadata": {
    "collapsed": false,
    "pycharm": {
     "name": "#%% md\n"
    }
   }
  },
  {
   "cell_type": "code",
   "execution_count": 5,
   "outputs": [
    {
     "data": {
      "text/plain": "[['StudentP', 'StudentK', 'StudentH', 'StudentI', 'StudentA'],\n ['StudentF', 'StudentG', 'StudentS', 'StudentR', 'StudentO'],\n ['StudentW', 'StudentQ', 'StudentB', 'StudentN', 'StudentD'],\n ['StudentV', 'StudentC', 'StudentT', 'StudentE', 'StudentM'],\n ['StudentJ', 'StudentL', 'StudentU']]"
     },
     "execution_count": 5,
     "metadata": {},
     "output_type": "execute_result"
    }
   ],
   "source": [
    "availableClassmates = getDataSet()\n",
    "rnd.shuffle(availableClassmates)\n",
    "groupSet = []\n",
    "while len(availableClassmates) > 0:\n",
    "    currentChosenClassmates = []\n",
    "    while len(currentChosenClassmates) < numPerGroup and len(availableClassmates) > 0:\n",
    "        currentChosenClassmates.append(availableClassmates.pop())\n",
    "    groupSet.append(currentChosenClassmates)\n",
    "groupSet"
   ],
   "metadata": {
    "collapsed": false,
    "pycharm": {
     "name": "#%%\n"
    }
   }
  },
  {
   "cell_type": "markdown",
   "source": [
    "We can make this even more efficient..."
   ],
   "metadata": {
    "collapsed": false,
    "pycharm": {
     "name": "#%% md\n"
    }
   }
  },
  {
   "cell_type": "code",
   "execution_count": 7,
   "outputs": [
    {
     "data": {
      "text/plain": "[('StudentS', 'StudentC', 'StudentR', 'StudentW', 'StudentG'),\n ('StudentT', 'StudentN', 'StudentA', 'StudentK', 'StudentI'),\n ('StudentB', 'StudentE', 'StudentJ', 'StudentQ', 'StudentV'),\n ('StudentD', 'StudentM', 'StudentO', 'StudentP', 'StudentH'),\n ('StudentU', 'StudentF', 'StudentL', None, None)]"
     },
     "execution_count": 7,
     "metadata": {},
     "output_type": "execute_result"
    }
   ],
   "source": [
    "from itertools import zip_longest\n",
    "availableClassmates = getDataSet()\n",
    "rnd.shuffle(availableClassmates)\n",
    "from itertools import zip_longest\n",
    "groupSet = list(zip_longest(*[iter(availableClassmates)] * numPerGroup))\n",
    "groupSet"
   ],
   "metadata": {
    "collapsed": false,
    "pycharm": {
     "name": "#%%\n"
    }
   }
  },
  {
   "cell_type": "code",
   "execution_count": 6,
   "outputs": [],
   "source": [],
   "metadata": {
    "collapsed": false,
    "pycharm": {
     "name": "#%%\n"
    }
   }
  }
 ],
 "metadata": {
  "kernelspec": {
   "display_name": "Python 3",
   "language": "python",
   "name": "python3"
  },
  "language_info": {
   "codemirror_mode": {
    "name": "ipython",
    "version": 2
   },
   "file_extension": ".py",
   "mimetype": "text/x-python",
   "name": "python",
   "nbconvert_exporter": "python",
   "pygments_lexer": "ipython2",
   "version": "2.7.6"
  }
 },
 "nbformat": 4,
 "nbformat_minor": 0
}