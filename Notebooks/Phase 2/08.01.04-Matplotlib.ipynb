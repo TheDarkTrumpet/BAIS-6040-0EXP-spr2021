{
 "cells": [
  {
   "cell_type": "markdown",
   "source": [
    "# 08.01.04 - Matplotlib\n",
    "\n",
    "## Purpose\n",
    "\n",
    "This notebook extends Matplot lib with use from DataFrames and can be an excellent helper in helping with analysis.\n",
    "\n",
    "## Libraries\n",
    "\n",
    "* Matplotlib - Included with Anaconda base, so you should be good without installing it.\n",
    "\n",
    "## References/Reading\n",
    "* iPython magic commands - https://ipython.readthedocs.io/en/stable/interactive/magics.html\n",
    "* pyplot.figure - https://matplotlib.org/stable/api/_as_gen/matplotlib.pyplot.figure.html"
   ],
   "metadata": {
    "collapsed": false
   }
  },
  {
   "cell_type": "code",
   "execution_count": 1,
   "metadata": {
    "collapsed": true,
    "pycharm": {
     "name": "#%%\n"
    }
   },
   "outputs": [],
   "source": [
    "# %matplotlib inline\n",
    "import matplotlib as mpl\n",
    "import matplotlib.pyplot as plt\n",
    "import pandas as pd"
   ]
  },
  {
   "cell_type": "code",
   "execution_count": 2,
   "outputs": [
    {
     "data": {
      "text/plain": "        Pie      Country  Rate\n0     Apple       Mexico  1.50\n1     Pecan       Mexico  2.00\n2   Pumpkin       Mexico  1.75\n3     Apple  Puerto Rico  2.00\n4     Pecan  Puerto Rico  2.25\n5   Pumpkin  Puerto Rico  2.25\n6     Peach  Puerto Rico  2.50\n7     Apple    Dominican  1.35\n8     Pecan    Dominican  1.50\n9   Pumpkin    Dominican  1.85\n10    Peach    Dominican  1.95\n11   Cherry    Dominican  3.00",
      "text/html": "<div>\n<style scoped>\n    .dataframe tbody tr th:only-of-type {\n        vertical-align: middle;\n    }\n\n    .dataframe tbody tr th {\n        vertical-align: top;\n    }\n\n    .dataframe thead th {\n        text-align: right;\n    }\n</style>\n<table border=\"1\" class=\"dataframe\">\n  <thead>\n    <tr style=\"text-align: right;\">\n      <th></th>\n      <th>Pie</th>\n      <th>Country</th>\n      <th>Rate</th>\n    </tr>\n  </thead>\n  <tbody>\n    <tr>\n      <th>0</th>\n      <td>Apple</td>\n      <td>Mexico</td>\n      <td>1.50</td>\n    </tr>\n    <tr>\n      <th>1</th>\n      <td>Pecan</td>\n      <td>Mexico</td>\n      <td>2.00</td>\n    </tr>\n    <tr>\n      <th>2</th>\n      <td>Pumpkin</td>\n      <td>Mexico</td>\n      <td>1.75</td>\n    </tr>\n    <tr>\n      <th>3</th>\n      <td>Apple</td>\n      <td>Puerto Rico</td>\n      <td>2.00</td>\n    </tr>\n    <tr>\n      <th>4</th>\n      <td>Pecan</td>\n      <td>Puerto Rico</td>\n      <td>2.25</td>\n    </tr>\n    <tr>\n      <th>5</th>\n      <td>Pumpkin</td>\n      <td>Puerto Rico</td>\n      <td>2.25</td>\n    </tr>\n    <tr>\n      <th>6</th>\n      <td>Peach</td>\n      <td>Puerto Rico</td>\n      <td>2.50</td>\n    </tr>\n    <tr>\n      <th>7</th>\n      <td>Apple</td>\n      <td>Dominican</td>\n      <td>1.35</td>\n    </tr>\n    <tr>\n      <th>8</th>\n      <td>Pecan</td>\n      <td>Dominican</td>\n      <td>1.50</td>\n    </tr>\n    <tr>\n      <th>9</th>\n      <td>Pumpkin</td>\n      <td>Dominican</td>\n      <td>1.85</td>\n    </tr>\n    <tr>\n      <th>10</th>\n      <td>Peach</td>\n      <td>Dominican</td>\n      <td>1.95</td>\n    </tr>\n    <tr>\n      <th>11</th>\n      <td>Cherry</td>\n      <td>Dominican</td>\n      <td>3.00</td>\n    </tr>\n  </tbody>\n</table>\n</div>"
     },
     "execution_count": 2,
     "metadata": {},
     "output_type": "execute_result"
    }
   ],
   "source": [
    "# TODO - Change this to github link\n",
    "pieRates = pd.read_csv(\"../../data/pie_rates.csv\")\n",
    "pieRates"
   ],
   "metadata": {
    "collapsed": false,
    "pycharm": {
     "name": "#%%\n"
    }
   }
  },
  {
   "cell_type": "markdown",
   "source": [
    "# Mexico\n",
    "What do the values for Mexico look like?"
   ],
   "metadata": {
    "collapsed": false,
    "pycharm": {
     "name": "#%% md\n"
    }
   }
  },
  {
   "cell_type": "code",
   "execution_count": 3,
   "outputs": [
    {
     "data": {
      "text/plain": "       Pie Country  Rate\n0    Apple  Mexico  1.50\n1    Pecan  Mexico  2.00\n2  Pumpkin  Mexico  1.75",
      "text/html": "<div>\n<style scoped>\n    .dataframe tbody tr th:only-of-type {\n        vertical-align: middle;\n    }\n\n    .dataframe tbody tr th {\n        vertical-align: top;\n    }\n\n    .dataframe thead th {\n        text-align: right;\n    }\n</style>\n<table border=\"1\" class=\"dataframe\">\n  <thead>\n    <tr style=\"text-align: right;\">\n      <th></th>\n      <th>Pie</th>\n      <th>Country</th>\n      <th>Rate</th>\n    </tr>\n  </thead>\n  <tbody>\n    <tr>\n      <th>0</th>\n      <td>Apple</td>\n      <td>Mexico</td>\n      <td>1.50</td>\n    </tr>\n    <tr>\n      <th>1</th>\n      <td>Pecan</td>\n      <td>Mexico</td>\n      <td>2.00</td>\n    </tr>\n    <tr>\n      <th>2</th>\n      <td>Pumpkin</td>\n      <td>Mexico</td>\n      <td>1.75</td>\n    </tr>\n  </tbody>\n</table>\n</div>"
     },
     "execution_count": 3,
     "metadata": {},
     "output_type": "execute_result"
    }
   ],
   "source": [
    "mexicoPieRates = pieRates[pieRates[\"Country\"] == \"Mexico\"]\n",
    "mexicoPieRates"
   ],
   "metadata": {
    "collapsed": false,
    "pycharm": {
     "name": "#%%\n"
    }
   }
  },
  {
   "cell_type": "code",
   "execution_count": 4,
   "outputs": [
    {
     "data": {
      "text/plain": "0      Apple\n1      Pecan\n2    Pumpkin\nName: Pie, dtype: object"
     },
     "execution_count": 4,
     "metadata": {},
     "output_type": "execute_result"
    }
   ],
   "source": [
    "mexicoPies = mexicoPieRates[\"Pie\"]\n",
    "mexicoPies"
   ],
   "metadata": {
    "collapsed": false,
    "pycharm": {
     "name": "#%%\n"
    }
   }
  },
  {
   "cell_type": "code",
   "execution_count": 5,
   "outputs": [
    {
     "data": {
      "text/plain": "0    1.50\n1    2.00\n2    1.75\nName: Rate, dtype: float64"
     },
     "execution_count": 5,
     "metadata": {},
     "output_type": "execute_result"
    }
   ],
   "source": [
    "mexicoRates = mexicoPieRates[\"Rate\"]\n",
    "mexicoRates"
   ],
   "metadata": {
    "collapsed": false,
    "pycharm": {
     "name": "#%%\n"
    }
   }
  },
  {
   "cell_type": "code",
   "execution_count": 6,
   "outputs": [
    {
     "data": {
      "text/plain": "<matplotlib.collections.PathCollection at 0x7f3a1e13bac0>"
     },
     "execution_count": 6,
     "metadata": {},
     "output_type": "execute_result"
    },
    {
     "data": {
      "text/plain": "<Figure size 432x288 with 1 Axes>",
      "image/png": "[encoded data removed]"
     },
     "metadata": {
      "needs_background": "light"
     },
     "output_type": "display_data"
    }
   ],
   "source": [
    "# Scatter plot\n",
    "plt.scatter(mexicoPies, mexicoRates)"
   ],
   "metadata": {
    "collapsed": false,
    "pycharm": {
     "name": "#%%\n"
    }
   }
  },
  {
   "cell_type": "code",
   "execution_count": 7,
   "outputs": [
    {
     "data": {
      "text/plain": "<BarContainer object of 3 artists>"
     },
     "execution_count": 7,
     "metadata": {},
     "output_type": "execute_result"
    },
    {
     "data": {
      "text/plain": "<Figure size 432x288 with 1 Axes>",
      "image/png": "[encoded data removed]"
     },
     "metadata": {
      "needs_background": "light"
     },
     "output_type": "display_data"
    }
   ],
   "source": [
    "# Bar Plots\n",
    "plt.bar(mexicoPies, mexicoRates)"
   ],
   "metadata": {
    "collapsed": false,
    "pycharm": {
     "name": "#%%\n"
    }
   }
  },
  {
   "cell_type": "code",
   "execution_count": 8,
   "outputs": [
    {
     "data": {
      "text/plain": "([<matplotlib.patches.Wedge at 0x7f3a16005b20>,\n  <matplotlib.patches.Wedge at 0x7f3a16005e50>,\n  <matplotlib.patches.Wedge at 0x7f3a15f94310>],\n [Text(0.6858387475358717, 0.8600146582346299, ''),\n  Text(-1.0877139256592978, 0.16394638125570068, ''),\n  Text(0.5500001486524352, -0.9526278583383436, '')])"
     },
     "execution_count": 8,
     "metadata": {},
     "output_type": "execute_result"
    },
    {
     "data": {
      "text/plain": "<Figure size 432x288 with 1 Axes>",
      "image/png": "[encoded data removed]"
     },
     "metadata": {},
     "output_type": "display_data"
    }
   ],
   "source": [
    "# Pie Chart\n",
    "plt.pie(mexicoRates)"
   ],
   "metadata": {
    "collapsed": false,
    "pycharm": {
     "name": "#%%\n"
    }
   }
  },
  {
   "cell_type": "code",
   "execution_count": 9,
   "outputs": [
    {
     "data": {
      "text/plain": "Text(0.5, 1.0, 'Pie rates in Mexico')"
     },
     "execution_count": 9,
     "metadata": {},
     "output_type": "execute_result"
    },
    {
     "data": {
      "text/plain": "<Figure size 720x720 with 1 Axes>",
      "image/png": "[encoded data removed]"
     },
     "metadata": {},
     "output_type": "display_data"
    }
   ],
   "source": [
    "# A more complicated example.  We can create a more\n",
    "# \"full\" graph with labels and the like.\n",
    "fig = plt.figure(figsize=(10,10))\n",
    "fig.patch.set_facecolor('white')\n",
    "# Labels here is a bit redundant with a legend available, but\n",
    "# leaving it in for demonstration purposes\n",
    "pie = plt.pie(mexicoRates, labels=mexicoPieRates)\n",
    "plt.legend(loc='upper left')\n",
    "plt.title(\"Pie rates in Mexico\")"
   ],
   "metadata": {
    "collapsed": false,
    "pycharm": {
     "name": "#%%\n"
    }
   }
  },
  {
   "cell_type": "markdown",
   "source": [
    "# Multiple Graphs\n",
    "\n",
    "We can print multiple graphs/subplots as well.  It can be useful, in this case, to have individual pie rates for each country"
   ],
   "metadata": {
    "collapsed": false,
    "pycharm": {
     "name": "#%% md\n"
    }
   }
  },
  {
   "cell_type": "code",
   "execution_count": 10,
   "outputs": [
    {
     "data": {
      "text/plain": "        Pie      Country  Rate\n0     Apple       Mexico  1.50\n1     Pecan       Mexico  2.00\n2   Pumpkin       Mexico  1.75\n3     Apple  Puerto Rico  2.00\n4     Pecan  Puerto Rico  2.25\n5   Pumpkin  Puerto Rico  2.25\n6     Peach  Puerto Rico  2.50\n7     Apple    Dominican  1.35\n8     Pecan    Dominican  1.50\n9   Pumpkin    Dominican  1.85\n10    Peach    Dominican  1.95\n11   Cherry    Dominican  3.00",
      "text/html": "<div>\n<style scoped>\n    .dataframe tbody tr th:only-of-type {\n        vertical-align: middle;\n    }\n\n    .dataframe tbody tr th {\n        vertical-align: top;\n    }\n\n    .dataframe thead th {\n        text-align: right;\n    }\n</style>\n<table border=\"1\" class=\"dataframe\">\n  <thead>\n    <tr style=\"text-align: right;\">\n      <th></th>\n      <th>Pie</th>\n      <th>Country</th>\n      <th>Rate</th>\n    </tr>\n  </thead>\n  <tbody>\n    <tr>\n      <th>0</th>\n      <td>Apple</td>\n      <td>Mexico</td>\n      <td>1.50</td>\n    </tr>\n    <tr>\n      <th>1</th>\n      <td>Pecan</td>\n      <td>Mexico</td>\n      <td>2.00</td>\n    </tr>\n    <tr>\n      <th>2</th>\n      <td>Pumpkin</td>\n      <td>Mexico</td>\n      <td>1.75</td>\n    </tr>\n    <tr>\n      <th>3</th>\n      <td>Apple</td>\n      <td>Puerto Rico</td>\n      <td>2.00</td>\n    </tr>\n    <tr>\n      <th>4</th>\n      <td>Pecan</td>\n      <td>Puerto Rico</td>\n      <td>2.25</td>\n    </tr>\n    <tr>\n      <th>5</th>\n      <td>Pumpkin</td>\n      <td>Puerto Rico</td>\n      <td>2.25</td>\n    </tr>\n    <tr>\n      <th>6</th>\n      <td>Peach</td>\n      <td>Puerto Rico</td>\n      <td>2.50</td>\n    </tr>\n    <tr>\n      <th>7</th>\n      <td>Apple</td>\n      <td>Dominican</td>\n      <td>1.35</td>\n    </tr>\n    <tr>\n      <th>8</th>\n      <td>Pecan</td>\n      <td>Dominican</td>\n      <td>1.50</td>\n    </tr>\n    <tr>\n      <th>9</th>\n      <td>Pumpkin</td>\n      <td>Dominican</td>\n      <td>1.85</td>\n    </tr>\n    <tr>\n      <th>10</th>\n      <td>Peach</td>\n      <td>Dominican</td>\n      <td>1.95</td>\n    </tr>\n    <tr>\n      <th>11</th>\n      <td>Cherry</td>\n      <td>Dominican</td>\n      <td>3.00</td>\n    </tr>\n  </tbody>\n</table>\n</div>"
     },
     "execution_count": 10,
     "metadata": {},
     "output_type": "execute_result"
    }
   ],
   "source": [
    "# Look at the data set once again.  How many countries do we have\n",
    "# and what does our pie situation look like for each?\n",
    "pieRates"
   ],
   "metadata": {
    "collapsed": false,
    "pycharm": {
     "name": "#%%\n"
    }
   }
  },
  {
   "cell_type": "code",
   "execution_count": 15,
   "outputs": [
    {
     "data": {
      "text/plain": "<Figure size 432x288 with 3 Axes>",
      "image/png": "[encoded data removed]"
     },
     "metadata": {
      "needs_background": "light"
     },
     "output_type": "display_data"
    }
   ],
   "source": [
    "# We can call .subplots to generate a framework\n",
    "# Note when this prints out, some stuff is filled out\n",
    "fig, axs = plt.subplots(3, 1)"
   ],
   "metadata": {
    "collapsed": false,
    "pycharm": {
     "name": "#%%\n"
    }
   }
  },
  {
   "cell_type": "code",
   "execution_count": 17,
   "outputs": [
    {
     "data": {
      "text/plain": "([<matplotlib.patches.Wedge at 0x7f3a14c96640>,\n  <matplotlib.patches.Wedge at 0x7f3a14c96b20>,\n  <matplotlib.patches.Wedge at 0x7f3a14c96fa0>],\n [Text(0.6858387475358717, 0.8600146582346299, ''),\n  Text(-1.0877139256592978, 0.16394638125570068, ''),\n  Text(0.5500001486524352, -0.9526278583383436, '')])"
     },
     "execution_count": 17,
     "metadata": {},
     "output_type": "execute_result"
    },
    {
     "data": {
      "text/plain": "<Figure size 432x288 with 3 Axes>",
      "image/png": "[encoded data removed]"
     },
     "metadata": {
      "needs_background": "light"
     },
     "output_type": "display_data"
    }
   ],
   "source": [
    "fig, axs = plt.subplots(3, 1)\n",
    "axs[0].pie(mexicoRates)"
   ],
   "metadata": {
    "collapsed": false,
    "pycharm": {
     "name": "#%%\n"
    }
   }
  },
  {
   "cell_type": "code",
   "execution_count": 18,
   "outputs": [
    {
     "data": {
      "text/plain": "([<matplotlib.patches.Wedge at 0x7f3a14c3ffd0>,\n  <matplotlib.patches.Wedge at 0x7f3a14be2610>,\n  <matplotlib.patches.Wedge at 0x7f3a14be2a30>],\n [Text(0.6858387475358717, 0.8600146582346299, ''),\n  Text(-1.0877139256592978, 0.16394638125570068, ''),\n  Text(0.5500001486524352, -0.9526278583383436, '')])"
     },
     "execution_count": 18,
     "metadata": {},
     "output_type": "execute_result"
    },
    {
     "data": {
      "text/plain": "<Figure size 432x288 with 3 Axes>",
      "image/png": "[encoded data removed]"
     },
     "metadata": {
      "needs_background": "light"
     },
     "output_type": "display_data"
    }
   ],
   "source": [
    "fig, axs = plt.subplots(3, 1)\n",
    "axs[1].pie(mexicoRates)"
   ],
   "metadata": {
    "collapsed": false,
    "pycharm": {
     "name": "#%%\n"
    }
   }
  },
  {
   "cell_type": "code",
   "execution_count": 19,
   "outputs": [
    {
     "data": {
      "text/plain": "([<matplotlib.patches.Wedge at 0x7f3a14b7ffa0>,\n  <matplotlib.patches.Wedge at 0x7f3a14b248e0>,\n  <matplotlib.patches.Wedge at 0x7f3a14b24d00>],\n [Text(0.6858387475358717, 0.8600146582346299, ''),\n  Text(-1.0877139256592978, 0.16394638125570068, ''),\n  Text(0.5500001486524352, -0.9526278583383436, '')])"
     },
     "execution_count": 19,
     "metadata": {},
     "output_type": "execute_result"
    },
    {
     "data": {
      "text/plain": "<Figure size 432x288 with 3 Axes>",
      "image/png": "[encoded data removed]"
     },
     "metadata": {
      "needs_background": "light"
     },
     "output_type": "display_data"
    }
   ],
   "source": [
    "fig, axs = plt.subplots(3, 1)\n",
    "axs[2].pie(mexicoRates)"
   ],
   "metadata": {
    "collapsed": false,
    "pycharm": {
     "name": "#%%\n"
    }
   }
  },
  {
   "cell_type": "markdown",
   "source": [
    "Note with the above.  We are able to index it like this because this is a 1-dimensional array.  When indexing over a 2-d array, it'll be different.  Note that when looking at the documentation"
   ],
   "metadata": {
    "collapsed": false,
    "pycharm": {
     "name": "#%% md\n"
    }
   }
  },
  {
   "cell_type": "code",
   "execution_count": null,
   "outputs": [],
   "source": [],
   "metadata": {
    "collapsed": false,
    "pycharm": {
     "name": "#%%"
    }
   }
  }
 ],
 "metadata": {
  "kernelspec": {
   "display_name": "Python 3",
   "language": "python",
   "name": "python3"
  },
  "language_info": {
   "codemirror_mode": {
    "name": "ipython",
    "version": 2
   },
   "file_extension": ".py",
   "mimetype": "text/x-python",
   "name": "python",
   "nbconvert_exporter": "python",
   "pygments_lexer": "ipython2",
   "version": "2.7.6"
  }
 },
 "nbformat": 4,
 "nbformat_minor": 0
}