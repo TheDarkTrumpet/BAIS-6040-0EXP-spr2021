{
 "cells": [
  {
   "cell_type": "markdown",
   "metadata": {
    "collapsed": true,
    "pycharm": {
     "name": "#%% md\n"
    }
   },
   "source": [
    "# 08.01.02 - MatplotlibVars\n",
    "\n",
    "## Purpose\n",
    "\n",
    "This notebook demonstrates using Matplotlib with variables (vs inline).  This is more useful when taking in consideration helper methods and all.\n",
    "\n",
    "## Libraries\n",
    "\n",
    "* Matplotlib - Included with Anaconda base, so you should be good without installing it.\n",
    "\n",
    "## References/Reading\n",
    "* iPython magic commands - https://ipython.readthedocs.io/en/stable/interactive/magics.html\n",
    "* pyplot.figure - https://matplotlib.org/stable/api/_as_gen/matplotlib.pyplot.figure.html\n"
   ]
  }
 ],
 "metadata": {
  "kernelspec": {
   "display_name": "Python 3",
   "language": "python",
   "name": "python3"
  },
  "language_info": {
   "codemirror_mode": {
    "name": "ipython",
    "version": 2
   },
   "file_extension": ".py",
   "mimetype": "text/x-python",
   "name": "python",
   "nbconvert_exporter": "python",
   "pygments_lexer": "ipython2",
   "version": "2.7.6"
  }
 },
 "nbformat": 4,
 "nbformat_minor": 0
}