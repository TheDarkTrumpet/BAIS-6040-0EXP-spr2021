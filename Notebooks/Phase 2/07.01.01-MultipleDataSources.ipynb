{
 "cells": [
  {
   "cell_type": "markdown",
   "metadata": {
    "collapsed": true,
    "pycharm": {
     "name": "#%% md\n"
    }
   },
   "source": [
    "# 06.01.02 - MultipleDataSources\n",
    "\n",
    "## Purpose\n",
    "This notebook will talk about pulling from, and working with multiple, separate, data sources and trying to join them together through code.\n",
    "\n",
    "There are many ways to do this sort of work.  I'll focus it in two parts - one part dealing with the more primitive methods of doing this, and the other using more Pandas.\n",
    "\n",
    "## Requirements\n",
    "\n",
    "An internet connection is required for using this.  We'll be pulling from Github directly.\n",
    "\n",
    "## Sources\n",
    "\n",
    "The information that pulls from is a subset of data from NOAA.  The full data set can be obtained by visiting:\n",
    "\n",
    "https://www.ncdc.noaa.gov/cdo-web/search\n",
    "\n",
    "The Census Information is available at:\n",
    "\n",
    "https://www.census.gov/data/tables/time-series/demo/popest/2010s-state-total.html"
   ]
  },
  {
   "cell_type": "code",
   "execution_count": 1,
   "outputs": [],
   "source": [
    "# User configurable locations\n",
    "iowaWeatherFile = \"https://raw.githubusercontent.com/TheDarkTrumpet/BAIS-6040-0EXP-spr2021/master/data/iowa_2010.csv\"\n",
    "arizonaWeatherFile = \"https://raw.githubusercontent.com/TheDarkTrumpet/BAIS-6040-0EXP-spr2021/master/data/arizona_2010.csv\"\n",
    "newyorkWeatherFile = \"https://raw.githubusercontent.com/TheDarkTrumpet/BAIS-6040-0EXP-spr2021/master/data/newyork_2010.csv\"\n",
    "censusInformation = \"https://raw.githubusercontent.com/TheDarkTrumpet/BAIS-6040-0EXP-spr2021/master/data/nst-2010.csv\""
   ],
   "metadata": {
    "collapsed": false,
    "pycharm": {
     "name": "#%%\n"
    }
   }
  },
  {
   "cell_type": "markdown",
   "source": [
    "# Base loads\n",
    "First, we have to load and look at data before we can go on.  At this point, we're doing very minor cleanup on the data."
   ],
   "metadata": {
    "collapsed": false,
    "pycharm": {
     "name": "#%% md\n"
    }
   }
  },
  {
   "cell_type": "code",
   "execution_count": 2,
   "outputs": [],
   "source": [
    "import pandas as pd"
   ],
   "metadata": {
    "collapsed": false,
    "pycharm": {
     "name": "#%%\n"
    }
   }
  },
  {
   "cell_type": "code",
   "execution_count": 3,
   "outputs": [
    {
     "data": {
      "text/plain": "          STATION                            NAME STATE   LATITUDE  LONGITUDE  \\\n0     US1IAST0011        BETTENDORF 1.5 NW, IA US  IOWA  41.578520 -90.498990   \n1     US1IAST0011        BETTENDORF 1.5 NW, IA US  IOWA  41.578520 -90.498990   \n2     US1IAST0011        BETTENDORF 1.5 NW, IA US  IOWA  41.578520 -90.498990   \n3     US1IAST0011        BETTENDORF 1.5 NW, IA US  IOWA  41.578520 -90.498990   \n4     US1IAST0011        BETTENDORF 1.5 NW, IA US  IOWA  41.578520 -90.498990   \n...           ...                             ...   ...        ...        ...   \n1046  US1IAPK0001  WINDSOR HEIGHTS 0.3 NNE, IA US  IOWA  41.609188 -93.710223   \n1047  US1IAPK0001  WINDSOR HEIGHTS 0.3 NNE, IA US  IOWA  41.609188 -93.710223   \n1048  US1IAPK0001  WINDSOR HEIGHTS 0.3 NNE, IA US  IOWA  41.609188 -93.710223   \n1049  US1IAPK0001  WINDSOR HEIGHTS 0.3 NNE, IA US  IOWA  41.609188 -93.710223   \n1050  US1IAPK0001  WINDSOR HEIGHTS 0.3 NNE, IA US  IOWA  41.609188 -93.710223   \n\n      ELEVATION        DATE  TMAX TMAX_ATTRIBUTES  TMIN TMIN_ATTRIBUTES  TOBS  \\\n0         214.9  2010-01-01   NaN             NaN   NaN             NaN   NaN   \n1         214.9  2010-01-02   NaN             NaN   NaN             NaN   NaN   \n2         214.9  2010-01-03   NaN             NaN   NaN             NaN   NaN   \n3         214.9  2010-01-04   NaN             NaN   NaN             NaN   NaN   \n4         214.9  2010-01-05   NaN             NaN   NaN             NaN   NaN   \n...         ...         ...   ...             ...   ...             ...   ...   \n1046      263.0  2010-12-27   NaN             NaN   NaN             NaN   NaN   \n1047      263.0  2010-12-28   NaN             NaN   NaN             NaN   NaN   \n1048      263.0  2010-12-29   NaN             NaN   NaN             NaN   NaN   \n1049      263.0  2010-12-30   NaN             NaN   NaN             NaN   NaN   \n1050      263.0  2010-12-31   NaN             NaN   NaN             NaN   NaN   \n\n     TOBS_ATTRIBUTES  \n0                NaN  \n1                NaN  \n2                NaN  \n3                NaN  \n4                NaN  \n...              ...  \n1046             NaN  \n1047             NaN  \n1048             NaN  \n1049             NaN  \n1050             NaN  \n\n[1051 rows x 13 columns]",
      "text/html": "<div>\n<style scoped>\n    .dataframe tbody tr th:only-of-type {\n        vertical-align: middle;\n    }\n\n    .dataframe tbody tr th {\n        vertical-align: top;\n    }\n\n    .dataframe thead th {\n        text-align: right;\n    }\n</style>\n<table border=\"1\" class=\"dataframe\">\n  <thead>\n    <tr style=\"text-align: right;\">\n      <th></th>\n      <th>STATION</th>\n      <th>NAME</th>\n      <th>STATE</th>\n      <th>LATITUDE</th>\n      <th>LONGITUDE</th>\n      <th>ELEVATION</th>\n      <th>DATE</th>\n      <th>TMAX</th>\n      <th>TMAX_ATTRIBUTES</th>\n      <th>TMIN</th>\n      <th>TMIN_ATTRIBUTES</th>\n      <th>TOBS</th>\n      <th>TOBS_ATTRIBUTES</th>\n    </tr>\n  </thead>\n  <tbody>\n    <tr>\n      <th>0</th>\n      <td>US1IAST0011</td>\n      <td>BETTENDORF 1.5 NW, IA US</td>\n      <td>IOWA</td>\n      <td>41.578520</td>\n      <td>-90.498990</td>\n      <td>214.9</td>\n      <td>2010-01-01</td>\n      <td>NaN</td>\n      <td>NaN</td>\n      <td>NaN</td>\n      <td>NaN</td>\n      <td>NaN</td>\n      <td>NaN</td>\n    </tr>\n    <tr>\n      <th>1</th>\n      <td>US1IAST0011</td>\n      <td>BETTENDORF 1.5 NW, IA US</td>\n      <td>IOWA</td>\n      <td>41.578520</td>\n      <td>-90.498990</td>\n      <td>214.9</td>\n      <td>2010-01-02</td>\n      <td>NaN</td>\n      <td>NaN</td>\n      <td>NaN</td>\n      <td>NaN</td>\n      <td>NaN</td>\n      <td>NaN</td>\n    </tr>\n    <tr>\n      <th>2</th>\n      <td>US1IAST0011</td>\n      <td>BETTENDORF 1.5 NW, IA US</td>\n      <td>IOWA</td>\n      <td>41.578520</td>\n      <td>-90.498990</td>\n      <td>214.9</td>\n      <td>2010-01-03</td>\n      <td>NaN</td>\n      <td>NaN</td>\n      <td>NaN</td>\n      <td>NaN</td>\n      <td>NaN</td>\n      <td>NaN</td>\n    </tr>\n    <tr>\n      <th>3</th>\n      <td>US1IAST0011</td>\n      <td>BETTENDORF 1.5 NW, IA US</td>\n      <td>IOWA</td>\n      <td>41.578520</td>\n      <td>-90.498990</td>\n      <td>214.9</td>\n      <td>2010-01-04</td>\n      <td>NaN</td>\n      <td>NaN</td>\n      <td>NaN</td>\n      <td>NaN</td>\n      <td>NaN</td>\n      <td>NaN</td>\n    </tr>\n    <tr>\n      <th>4</th>\n      <td>US1IAST0011</td>\n      <td>BETTENDORF 1.5 NW, IA US</td>\n      <td>IOWA</td>\n      <td>41.578520</td>\n      <td>-90.498990</td>\n      <td>214.9</td>\n      <td>2010-01-05</td>\n      <td>NaN</td>\n      <td>NaN</td>\n      <td>NaN</td>\n      <td>NaN</td>\n      <td>NaN</td>\n      <td>NaN</td>\n    </tr>\n    <tr>\n      <th>...</th>\n      <td>...</td>\n      <td>...</td>\n      <td>...</td>\n      <td>...</td>\n      <td>...</td>\n      <td>...</td>\n      <td>...</td>\n      <td>...</td>\n      <td>...</td>\n      <td>...</td>\n      <td>...</td>\n      <td>...</td>\n      <td>...</td>\n    </tr>\n    <tr>\n      <th>1046</th>\n      <td>US1IAPK0001</td>\n      <td>WINDSOR HEIGHTS 0.3 NNE, IA US</td>\n      <td>IOWA</td>\n      <td>41.609188</td>\n      <td>-93.710223</td>\n      <td>263.0</td>\n      <td>2010-12-27</td>\n      <td>NaN</td>\n      <td>NaN</td>\n      <td>NaN</td>\n      <td>NaN</td>\n      <td>NaN</td>\n      <td>NaN</td>\n    </tr>\n    <tr>\n      <th>1047</th>\n      <td>US1IAPK0001</td>\n      <td>WINDSOR HEIGHTS 0.3 NNE, IA US</td>\n      <td>IOWA</td>\n      <td>41.609188</td>\n      <td>-93.710223</td>\n      <td>263.0</td>\n      <td>2010-12-28</td>\n      <td>NaN</td>\n      <td>NaN</td>\n      <td>NaN</td>\n      <td>NaN</td>\n      <td>NaN</td>\n      <td>NaN</td>\n    </tr>\n    <tr>\n      <th>1048</th>\n      <td>US1IAPK0001</td>\n      <td>WINDSOR HEIGHTS 0.3 NNE, IA US</td>\n      <td>IOWA</td>\n      <td>41.609188</td>\n      <td>-93.710223</td>\n      <td>263.0</td>\n      <td>2010-12-29</td>\n      <td>NaN</td>\n      <td>NaN</td>\n      <td>NaN</td>\n      <td>NaN</td>\n      <td>NaN</td>\n      <td>NaN</td>\n    </tr>\n    <tr>\n      <th>1049</th>\n      <td>US1IAPK0001</td>\n      <td>WINDSOR HEIGHTS 0.3 NNE, IA US</td>\n      <td>IOWA</td>\n      <td>41.609188</td>\n      <td>-93.710223</td>\n      <td>263.0</td>\n      <td>2010-12-30</td>\n      <td>NaN</td>\n      <td>NaN</td>\n      <td>NaN</td>\n      <td>NaN</td>\n      <td>NaN</td>\n      <td>NaN</td>\n    </tr>\n    <tr>\n      <th>1050</th>\n      <td>US1IAPK0001</td>\n      <td>WINDSOR HEIGHTS 0.3 NNE, IA US</td>\n      <td>IOWA</td>\n      <td>41.609188</td>\n      <td>-93.710223</td>\n      <td>263.0</td>\n      <td>2010-12-31</td>\n      <td>NaN</td>\n      <td>NaN</td>\n      <td>NaN</td>\n      <td>NaN</td>\n      <td>NaN</td>\n      <td>NaN</td>\n    </tr>\n  </tbody>\n</table>\n<p>1051 rows × 13 columns</p>\n</div>"
     },
     "execution_count": 3,
     "metadata": {},
     "output_type": "execute_result"
    }
   ],
   "source": [
    "iowaWeatherRaw = pd.read_csv(iowaWeatherFile)\n",
    "iowaWeatherRaw"
   ],
   "metadata": {
    "collapsed": false,
    "pycharm": {
     "name": "#%%\n"
    }
   }
  },
  {
   "cell_type": "code",
   "execution_count": 4,
   "outputs": [
    {
     "data": {
      "text/plain": "           DATE STATE  TMIN  TMAX\n321  2010-01-01  IOWA -10.0   7.0\n322  2010-01-02  IOWA -30.0   0.0\n323  2010-01-03  IOWA -28.0  -8.0\n324  2010-01-04  IOWA -21.0  -8.0\n325  2010-01-05  IOWA -20.0  -4.0\n..          ...   ...   ...   ...\n681  2010-12-27  IOWA   4.0  13.0\n682  2010-12-28  IOWA   1.0  21.0\n683  2010-12-29  IOWA   7.0  25.0\n684  2010-12-30  IOWA  20.0  35.0\n685  2010-12-31  IOWA   7.0  43.0\n\n[364 rows x 4 columns]",
      "text/html": "<div>\n<style scoped>\n    .dataframe tbody tr th:only-of-type {\n        vertical-align: middle;\n    }\n\n    .dataframe tbody tr th {\n        vertical-align: top;\n    }\n\n    .dataframe thead th {\n        text-align: right;\n    }\n</style>\n<table border=\"1\" class=\"dataframe\">\n  <thead>\n    <tr style=\"text-align: right;\">\n      <th></th>\n      <th>DATE</th>\n      <th>STATE</th>\n      <th>TMIN</th>\n      <th>TMAX</th>\n    </tr>\n  </thead>\n  <tbody>\n    <tr>\n      <th>321</th>\n      <td>2010-01-01</td>\n      <td>IOWA</td>\n      <td>-10.0</td>\n      <td>7.0</td>\n    </tr>\n    <tr>\n      <th>322</th>\n      <td>2010-01-02</td>\n      <td>IOWA</td>\n      <td>-30.0</td>\n      <td>0.0</td>\n    </tr>\n    <tr>\n      <th>323</th>\n      <td>2010-01-03</td>\n      <td>IOWA</td>\n      <td>-28.0</td>\n      <td>-8.0</td>\n    </tr>\n    <tr>\n      <th>324</th>\n      <td>2010-01-04</td>\n      <td>IOWA</td>\n      <td>-21.0</td>\n      <td>-8.0</td>\n    </tr>\n    <tr>\n      <th>325</th>\n      <td>2010-01-05</td>\n      <td>IOWA</td>\n      <td>-20.0</td>\n      <td>-4.0</td>\n    </tr>\n    <tr>\n      <th>...</th>\n      <td>...</td>\n      <td>...</td>\n      <td>...</td>\n      <td>...</td>\n    </tr>\n    <tr>\n      <th>681</th>\n      <td>2010-12-27</td>\n      <td>IOWA</td>\n      <td>4.0</td>\n      <td>13.0</td>\n    </tr>\n    <tr>\n      <th>682</th>\n      <td>2010-12-28</td>\n      <td>IOWA</td>\n      <td>1.0</td>\n      <td>21.0</td>\n    </tr>\n    <tr>\n      <th>683</th>\n      <td>2010-12-29</td>\n      <td>IOWA</td>\n      <td>7.0</td>\n      <td>25.0</td>\n    </tr>\n    <tr>\n      <th>684</th>\n      <td>2010-12-30</td>\n      <td>IOWA</td>\n      <td>20.0</td>\n      <td>35.0</td>\n    </tr>\n    <tr>\n      <th>685</th>\n      <td>2010-12-31</td>\n      <td>IOWA</td>\n      <td>7.0</td>\n      <td>43.0</td>\n    </tr>\n  </tbody>\n</table>\n<p>364 rows × 4 columns</p>\n</div>"
     },
     "execution_count": 4,
     "metadata": {},
     "output_type": "execute_result"
    }
   ],
   "source": [
    "iowaWeather = iowaWeatherRaw[[\"DATE\", \"STATE\", \"TMIN\", \"TMAX\"]].dropna()\n",
    "iowaWeather"
   ],
   "metadata": {
    "collapsed": false,
    "pycharm": {
     "name": "#%%\n"
    }
   }
  },
  {
   "cell_type": "markdown",
   "source": [
    "# Cleanup and massaging the data\n",
    "After the initial load, we want to work with the data a bit more to get it into a usable format.  Note we're only dealing with **one** file right now.\n"
   ],
   "metadata": {
    "collapsed": false,
    "pycharm": {
     "name": "#%% md\n"
    }
   }
  },
  {
   "cell_type": "code",
   "execution_count": 5,
   "outputs": [
    {
     "name": "stdout",
     "output_type": "stream",
     "text": [
      "<class 'pandas.core.frame.DataFrame'>\n",
      "Int64Index: 364 entries, 321 to 685\n",
      "Data columns (total 4 columns):\n",
      " #   Column  Non-Null Count  Dtype  \n",
      "---  ------  --------------  -----  \n",
      " 0   DATE    364 non-null    object \n",
      " 1   STATE   364 non-null    object \n",
      " 2   TMIN    364 non-null    float64\n",
      " 3   TMAX    364 non-null    float64\n",
      "dtypes: float64(2), object(2)\n",
      "memory usage: 14.2+ KB\n"
     ]
    }
   ],
   "source": [
    "# Note our date is an object here, we'll want to fix that.\n",
    "# This was covered in 06.01.01-CSVImportExport\n",
    "iowaWeather.info()"
   ],
   "metadata": {
    "collapsed": false,
    "pycharm": {
     "name": "#%%\n"
    }
   }
  },
  {
   "cell_type": "code",
   "execution_count": 6,
   "outputs": [
    {
     "name": "stdout",
     "output_type": "stream",
     "text": [
      "<class 'pandas.core.frame.DataFrame'>\n",
      "Int64Index: 364 entries, 321 to 685\n",
      "Data columns (total 4 columns):\n",
      " #   Column  Non-Null Count  Dtype         \n",
      "---  ------  --------------  -----         \n",
      " 0   DATE    364 non-null    datetime64[ns]\n",
      " 1   STATE   364 non-null    object        \n",
      " 2   TMIN    364 non-null    float64       \n",
      " 3   TMAX    364 non-null    float64       \n",
      "dtypes: datetime64[ns](1), float64(2), object(1)\n",
      "memory usage: 14.2+ KB\n"
     ]
    }
   ],
   "source": [
    "iowaWeather[\"DATE\"] = pd.to_datetime((iowaWeather[\"DATE\"]))\n",
    "iowaWeather.info()"
   ],
   "metadata": {
    "collapsed": false,
    "pycharm": {
     "name": "#%%\n"
    }
   }
  },
  {
   "cell_type": "code",
   "execution_count": 7,
   "outputs": [],
   "source": [
    "# We'll need the month for the more basic way of computing averages, lets split that out.\n",
    "iowaWeather[\"MONTH\"] = pd.DatetimeIndex(iowaWeather[\"DATE\"]).month"
   ],
   "metadata": {
    "collapsed": false,
    "pycharm": {
     "name": "#%%\n"
    }
   }
  },
  {
   "cell_type": "code",
   "execution_count": 8,
   "outputs": [
    {
     "data": {
      "text/plain": "DATE     2010-01-01 00:00:00\nSTATE                   IOWA\nTMIN                   -10.0\nTMAX                     7.0\nMONTH                      1\nName: 321, dtype: object"
     },
     "execution_count": 8,
     "metadata": {},
     "output_type": "execute_result"
    }
   ],
   "source": [
    "# Now, lets test date access, so we can group stuff a bit more.\n",
    "iowaWeather.iloc[0]  # A simple access query"
   ],
   "metadata": {
    "collapsed": false,
    "pycharm": {
     "name": "#%%\n"
    }
   }
  },
  {
   "cell_type": "code",
   "execution_count": 9,
   "outputs": [
    {
     "name": "stdout",
     "output_type": "stream",
     "text": [
      "1\n",
      "1\n",
      "2010\n"
     ]
    }
   ],
   "source": [
    "# Converting the data type allows us to access properties to make life easier.\n",
    "print(iowaWeather.iloc[0][\"DATE\"].month)\n",
    "print(iowaWeather.iloc[0][\"DATE\"].day)\n",
    "print(iowaWeather.iloc[0][\"DATE\"].year)"
   ],
   "metadata": {
    "collapsed": false,
    "pycharm": {
     "name": "#%%\n"
    }
   }
  },
  {
   "cell_type": "markdown",
   "source": [
    "# Generating Averages\n",
    "At this point, it's a good time to start working on the averages.  Fundamentals in Python are your strongest point.  While it may not be the most optimal method for handling it,"
   ],
   "metadata": {
    "collapsed": false,
    "pycharm": {
     "name": "#%% md\n"
    }
   }
  },
  {
   "cell_type": "code",
   "execution_count": 10,
   "outputs": [
    {
     "data": {
      "text/plain": "[[], [], [], [], [], [], [], [], [], [], [], []]"
     },
     "execution_count": 10,
     "metadata": {},
     "output_type": "execute_result"
    }
   ],
   "source": [
    "monthlyTemps = [[] for _ in range(12)]  # Generate a list of lists, we'll store the temperatures there\n",
    "monthlyTemps"
   ],
   "metadata": {
    "collapsed": false,
    "pycharm": {
     "name": "#%%\n"
    }
   }
  },
  {
   "cell_type": "code",
   "execution_count": 11,
   "outputs": [
    {
     "data": {
      "text/plain": "[[-1.5,\n  -15.0,\n  -18.0,\n  -14.5,\n  -12.0,\n  -6.5,\n  6.0,\n  0.5,\n  -10.0,\n  -4.0,\n  8.0,\n  11.0,\n  10.0,\n  20.0,\n  23.0,\n  19.0,\n  20.5,\n  22.0,\n  20.0,\n  14.5,\n  24.0,\n  28.0,\n  30.0,\n  30.5,\n  25.0,\n  11.5,\n  7.0,\n  4.5,\n  -4.0,\n  -2.0,\n  9.0],\n [7.5,\n  16.0,\n  4.0,\n  10.5,\n  27.5,\n  29.0,\n  25.5,\n  22.0,\n  11.5,\n  7.0,\n  2.0,\n  4.5,\n  19.5,\n  15.0,\n  14.0,\n  15.5,\n  14.5,\n  13.5,\n  13.0,\n  17.5,\n  14.0,\n  14.0,\n  12.5,\n  1.0,\n  -1.0,\n  4.0,\n  13.0,\n  14.0],\n [14.5,\n  15.0,\n  18.5,\n  15.5,\n  16.5,\n  31.0,\n  33.0,\n  31.5,\n  33.5,\n  34.5,\n  36.5,\n  36.0,\n  32.5,\n  36.0,\n  36.0,\n  36.0,\n  42.5,\n  45.0,\n  29.5,\n  29.5,\n  33.5,\n  40.0,\n  44.0,\n  39.0,\n  32.5,\n  40.5,\n  40.0,\n  39.5,\n  45.0,\n  61.5],\n [60.0,\n  64.0,\n  48.5,\n  47.5,\n  50.5,\n  49.0,\n  44.0,\n  40.0,\n  40.0,\n  49.5,\n  42.5,\n  53.5,\n  56.0,\n  64.0,\n  66.5,\n  56.5,\n  46.5,\n  47.5,\n  51.5,\n  55.0,\n  56.5,\n  56.0,\n  54.5,\n  54.5,\n  60.0,\n  48.5,\n  44.0,\n  49.0,\n  53.0,\n  69.0],\n [54.0,\n  56.0,\n  53.5,\n  52.5,\n  65.0,\n  49.5,\n  49.0,\n  47.0,\n  42.0,\n  46.5,\n  47.0,\n  44.5,\n  44.0,\n  47.0,\n  55.5,\n  55.5,\n  60.0,\n  59.5,\n  61.0,\n  65.5,\n  63.0,\n  60.0,\n  69.5,\n  79.5,\n  78.0,\n  72.0,\n  66.0,\n  68.5,\n  72.5,\n  73.0,\n  64.5],\n [64.0,\n  69.5,\n  67.5,\n  64.5,\n  71.5,\n  66.5,\n  70.0,\n  67.0,\n  66.5,\n  65.0,\n  68.5,\n  72.5,\n  66.0,\n  61.0,\n  63.5,\n  64.5,\n  69.0,\n  76.0,\n  67.0,\n  68.5,\n  73.5,\n  72.5,\n  76.5,\n  67.5,\n  68.5,\n  73.5,\n  76.5,\n  70.5,\n  63.0,\n  63.5],\n [67.0,\n  71.5,\n  72.5,\n  70.0,\n  71.5,\n  72.5,\n  74.5,\n  71.5,\n  69.5,\n  72.0,\n  71.5,\n  71.5,\n  68.5,\n  73.5,\n  78.0,\n  72.0,\n  75.0,\n  77.5,\n  72.0,\n  69.0,\n  70.0,\n  71.0,\n  75.5,\n  76.0,\n  72.5,\n  70.5,\n  72.5,\n  79.0,\n  71.0,\n  69.0,\n  69.5],\n [72.5,\n  76.0,\n  75.0,\n  77.0,\n  74.0,\n  68.5,\n  71.0,\n  77.0,\n  79.5,\n  76.5,\n  76.5,\n  79.0,\n  81.5,\n  78.0,\n  74.0,\n  65.5,\n  67.0,\n  69.5,\n  68.0,\n  76.0,\n  75.5,\n  76.0,\n  77.0,\n  74.5,\n  65.0,\n  63.5,\n  66.5,\n  70.5,\n  68.0,\n  73.5,\n  79.5],\n [70.5,\n  70.5,\n  61.0,\n  58.0,\n  57.0,\n  67.0,\n  68.5,\n  56.0,\n  56.0,\n  63.5,\n  58.5,\n  64.0,\n  66.5,\n  64.5,\n  64.0,\n  63.5,\n  55.0,\n  58.5,\n  52.5,\n  55.5,\n  71.5,\n  62.0,\n  63.0,\n  62.0,\n  56.0,\n  50.0,\n  53.0,\n  58.0,\n  59.5,\n  64.0],\n [60.5,\n  58.5,\n  44.0,\n  45.0,\n  50.0,\n  56.5,\n  58.0,\n  58.5,\n  67.5,\n  68.5,\n  65.5,\n  66.0,\n  59.0,\n  54.5,\n  52.0,\n  50.0,\n  50.5,\n  46.5,\n  46.5,\n  49.5,\n  54.5,\n  47.5,\n  54.5,\n  60.5,\n  57.5,\n  59.5,\n  45.5,\n  39.0,\n  32.0,\n  43.5,\n  42.5],\n [40.0,\n  41.0,\n  42.5,\n  48.0,\n  33.5,\n  33.5,\n  43.0,\n  50.0,\n  56.0,\n  55.5,\n  47.0,\n  42.5,\n  34.0,\n  31.0,\n  31.0,\n  31.0,\n  33.0,\n  30.0,\n  29.0,\n  28.0,\n  26.5,\n  33.0,\n  21.0,\n  17.0,\n  21.0,\n  13.5,\n  23.0,\n  28.0,\n  38.0,\n  34.0],\n [16.5,\n  18.5,\n  20.5,\n  20.0,\n  11.5,\n  9.5,\n  10.5,\n  9.0,\n  12.5,\n  29.5,\n  29.5,\n  16.5,\n  -3.5,\n  -0.5,\n  11.5,\n  17.5,\n  11.5,\n  11.0,\n  8.0,\n  11.0,\n  25.5,\n  21.0,\n  24.0,\n  25.0,\n  20.0,\n  11.0,\n  8.5,\n  11.0,\n  16.0,\n  27.5,\n  25.0]]"
     },
     "execution_count": 11,
     "metadata": {},
     "output_type": "execute_result"
    }
   ],
   "source": [
    "# We start with month = 1, but our indexes are from 0.  Remember this offset.\n",
    "for idx, measure in iowaWeather.iterrows():\n",
    "    index = measure[\"MONTH\"] - 1\n",
    "    average = (measure[\"TMIN\"] + measure[\"TMAX\"]) / 2\n",
    "    monthlyTemps[index].append(average)\n",
    "monthlyTemps"
   ],
   "metadata": {
    "collapsed": false,
    "pycharm": {
     "name": "#%%\n"
    }
   }
  },
  {
   "cell_type": "code",
   "execution_count": 12,
   "outputs": [
    {
     "data": {
      "text/plain": "[8.27,\n 12.89,\n 33.95,\n 52.58,\n 58.74,\n 68.47,\n 72.18,\n 73.27,\n 60.98,\n 53.02,\n 34.48,\n 15.65]"
     },
     "execution_count": 12,
     "metadata": {},
     "output_type": "execute_result"
    }
   ],
   "source": [
    "monthlyAverages = []   # Zero out a list\n",
    "month = 0\n",
    "for temps in monthlyTemps:\n",
    "    average = round(sum(temps) / len(temps), 2)\n",
    "    monthlyAverages.append(average)\n",
    "monthlyAverages"
   ],
   "metadata": {
    "collapsed": false,
    "pycharm": {
     "name": "#%%\n"
    }
   }
  },
  {
   "cell_type": "markdown",
   "source": [
    "# Helper Methods\n",
    "Since we have some working code to generate the structure we more or less want, lets make some helper methods to make our lives easier."
   ],
   "metadata": {
    "collapsed": false,
    "pycharm": {
     "name": "#%% md\n"
    }
   }
  },
  {
   "cell_type": "code",
   "execution_count": 13,
   "outputs": [
    {
     "data": {
      "text/plain": "{'Iowa': [8.27,\n  12.89,\n  33.95,\n  52.58,\n  58.74,\n  68.47,\n  72.18,\n  73.27,\n  60.98,\n  53.02,\n  34.48,\n  15.65],\n 'New York': [22.27,\n  24.58,\n  38.84,\n  50.09,\n  59.95,\n  66.09,\n  71.6,\n  68.34,\n  61.77,\n  49.63,\n  38.87,\n  23.77],\n 'Arizona': [22.27,\n  24.58,\n  38.84,\n  50.09,\n  59.95,\n  66.09,\n  71.6,\n  68.34,\n  61.77,\n  49.63,\n  38.87,\n  23.77]}"
     },
     "execution_count": 13,
     "metadata": {},
     "output_type": "execute_result"
    }
   ],
   "source": [
    "def loadFile(fileName):\n",
    "    weatherRaw = pd.read_csv(fileName)\n",
    "    weather = weatherRaw[[\"DATE\", \"STATE\", \"TMIN\", \"TMAX\"]].dropna()\n",
    "    weather[\"MONTH\"] = pd.DatetimeIndex(weather[\"DATE\"]).month\n",
    "    return weather\n",
    "\n",
    "def getTemps(weather):\n",
    "    monthlyTemps = [[] for _ in range(12)]\n",
    "    for idx, measure in weather.iterrows():\n",
    "        index = measure[\"MONTH\"] - 1\n",
    "        average = (measure[\"TMIN\"] + measure[\"TMAX\"]) / 2\n",
    "        monthlyTemps[index].append(average)\n",
    "    return monthlyTemps\n",
    "\n",
    "def getAverages(weather):\n",
    "    monthlyAverages = []\n",
    "    for temps in weather:\n",
    "        average = round(sum(temps) / len(temps), 2)\n",
    "        monthlyAverages.append(average)\n",
    "    return monthlyAverages\n",
    "\n",
    "weather = {\n",
    "    \"Iowa\": getAverages(getTemps(loadFile(iowaWeatherFile))),\n",
    "    \"New York\": getAverages(getTemps(loadFile(newyorkWeatherFile))),\n",
    "    \"Arizona\": getAverages(getTemps(loadFile(newyorkWeatherFile)))\n",
    "}\n",
    "weather"
   ],
   "metadata": {
    "collapsed": false,
    "pycharm": {
     "name": "#%%\n"
    }
   }
  },
  {
   "cell_type": "markdown",
   "source": [
    "# Getting the census information"
   ],
   "metadata": {
    "collapsed": false,
    "pycharm": {
     "name": "#%% md\n"
    }
   }
  },
  {
   "cell_type": "code",
   "execution_count": 14,
   "outputs": [
    {
     "data": {
      "text/plain": "    STATE                  NAME  CENSUS2010POP  ESTIMATESBASE2010  \\\n0       0         United States      308745538          308758105   \n1       0      Northeast Region       55317240           55318443   \n2       0        Midwest Region       66927001           66929725   \n3       0          South Region      114555744          114563030   \n4       0           West Region       71945553           71946907   \n5       1               Alabama        4779736            4780125   \n6       2                Alaska         710231             710249   \n7       4               Arizona        6392017            6392288   \n8       5              Arkansas        2915918            2916031   \n9       6            California       37253956           37254519   \n10      8              Colorado        5029196            5029319   \n11      9           Connecticut        3574097            3574147   \n12     10              Delaware         897934             897937   \n13     11  District of Columbia         601723             601767   \n14     12               Florida       18801310           18804564   \n15     13               Georgia        9687653            9688729   \n16     15                Hawaii        1360301            1360307   \n17     16                 Idaho        1567582            1567657   \n18     17              Illinois       12830632           12831572   \n19     18               Indiana        6483802            6484051   \n20     19                  Iowa        3046355            3046871   \n21     20                Kansas        2853118            2853123   \n22     21              Kentucky        4339367            4339333   \n23     22             Louisiana        4533372            4533487   \n24     23                 Maine        1328361            1328358   \n25     24              Maryland        5773552            5773794   \n26     25         Massachusetts        6547629            6547785   \n27     26              Michigan        9883640            9884116   \n28     27             Minnesota        5303925            5303927   \n29     28           Mississippi        2967297            2968130   \n30     29              Missouri        5988927            5988950   \n31     30               Montana         989415             989407   \n32     31              Nebraska        1826341            1826305   \n33     32                Nevada        2700551            2700677   \n34     33         New Hampshire        1316470            1316462   \n35     34            New Jersey        8791894            8791978   \n36     35            New Mexico        2059179            2059199   \n37     36              New York       19378102           19378144   \n38     37        North Carolina        9535483            9535751   \n39     38          North Dakota         672591             672576   \n40     39                  Ohio       11536504           11536751   \n41     40              Oklahoma        3751351            3751582   \n42     41                Oregon        3831074            3831079   \n43     42          Pennsylvania       12702379           12702868   \n44     44          Rhode Island        1052567            1052964   \n45     45        South Carolina        4625364            4625366   \n46     46          South Dakota         814180             814198   \n47     47             Tennessee        6346105            6346276   \n48     48                 Texas       25145561           25146091   \n49     49                  Utah        2763885            2763891   \n50     50               Vermont         625741             625737   \n51     51              Virginia        8001024            8001049   \n52     53            Washington        6724540            6724540   \n53     54         West Virginia        1852994            1853018   \n54     55             Wisconsin        5686986            5687285   \n55     56               Wyoming         563626             563775   \n56     72           Puerto Rico        3725789            3726157   \n\n    POPESTIMATE2010  \n0         309321666  \n1          55380134  \n2          66974416  \n3         114866680  \n4          72100436  \n5           4785437  \n6            713910  \n7           6407172  \n8           2921964  \n9          37319502  \n10          5047349  \n11          3579114  \n12           899593  \n13           605226  \n14         18845537  \n15          9711881  \n16          1363963  \n17          1570746  \n18         12840503  \n19          6490432  \n20          3050745  \n21          2858190  \n22          4348181  \n23          4544532  \n24          1327629  \n25          5788645  \n26          6566307  \n27          9877510  \n28          5310828  \n29          2970548  \n30          5995974  \n31           990697  \n32          1829542  \n33          2702405  \n34          1316762  \n35          8799446  \n36          2064552  \n37         19399878  \n38          9574323  \n39           674715  \n40         11539336  \n41          3759944  \n42          3837491  \n43         12711160  \n44          1053959  \n45          4635649  \n46           816166  \n47          6355311  \n48         25241971  \n49          2775332  \n50           625879  \n51          8023699  \n52          6742830  \n53          1854239  \n54          5690475  \n55           564487  \n56          3721525  ",
      "text/html": "<div>\n<style scoped>\n    .dataframe tbody tr th:only-of-type {\n        vertical-align: middle;\n    }\n\n    .dataframe tbody tr th {\n        vertical-align: top;\n    }\n\n    .dataframe thead th {\n        text-align: right;\n    }\n</style>\n<table border=\"1\" class=\"dataframe\">\n  <thead>\n    <tr style=\"text-align: right;\">\n      <th></th>\n      <th>STATE</th>\n      <th>NAME</th>\n      <th>CENSUS2010POP</th>\n      <th>ESTIMATESBASE2010</th>\n      <th>POPESTIMATE2010</th>\n    </tr>\n  </thead>\n  <tbody>\n    <tr>\n      <th>0</th>\n      <td>0</td>\n      <td>United States</td>\n      <td>308745538</td>\n      <td>308758105</td>\n      <td>309321666</td>\n    </tr>\n    <tr>\n      <th>1</th>\n      <td>0</td>\n      <td>Northeast Region</td>\n      <td>55317240</td>\n      <td>55318443</td>\n      <td>55380134</td>\n    </tr>\n    <tr>\n      <th>2</th>\n      <td>0</td>\n      <td>Midwest Region</td>\n      <td>66927001</td>\n      <td>66929725</td>\n      <td>66974416</td>\n    </tr>\n    <tr>\n      <th>3</th>\n      <td>0</td>\n      <td>South Region</td>\n      <td>114555744</td>\n      <td>114563030</td>\n      <td>114866680</td>\n    </tr>\n    <tr>\n      <th>4</th>\n      <td>0</td>\n      <td>West Region</td>\n      <td>71945553</td>\n      <td>71946907</td>\n      <td>72100436</td>\n    </tr>\n    <tr>\n      <th>5</th>\n      <td>1</td>\n      <td>Alabama</td>\n      <td>4779736</td>\n      <td>4780125</td>\n      <td>4785437</td>\n    </tr>\n    <tr>\n      <th>6</th>\n      <td>2</td>\n      <td>Alaska</td>\n      <td>710231</td>\n      <td>710249</td>\n      <td>713910</td>\n    </tr>\n    <tr>\n      <th>7</th>\n      <td>4</td>\n      <td>Arizona</td>\n      <td>6392017</td>\n      <td>6392288</td>\n      <td>6407172</td>\n    </tr>\n    <tr>\n      <th>8</th>\n      <td>5</td>\n      <td>Arkansas</td>\n      <td>2915918</td>\n      <td>2916031</td>\n      <td>2921964</td>\n    </tr>\n    <tr>\n      <th>9</th>\n      <td>6</td>\n      <td>California</td>\n      <td>37253956</td>\n      <td>37254519</td>\n      <td>37319502</td>\n    </tr>\n    <tr>\n      <th>10</th>\n      <td>8</td>\n      <td>Colorado</td>\n      <td>5029196</td>\n      <td>5029319</td>\n      <td>5047349</td>\n    </tr>\n    <tr>\n      <th>11</th>\n      <td>9</td>\n      <td>Connecticut</td>\n      <td>3574097</td>\n      <td>3574147</td>\n      <td>3579114</td>\n    </tr>\n    <tr>\n      <th>12</th>\n      <td>10</td>\n      <td>Delaware</td>\n      <td>897934</td>\n      <td>897937</td>\n      <td>899593</td>\n    </tr>\n    <tr>\n      <th>13</th>\n      <td>11</td>\n      <td>District of Columbia</td>\n      <td>601723</td>\n      <td>601767</td>\n      <td>605226</td>\n    </tr>\n    <tr>\n      <th>14</th>\n      <td>12</td>\n      <td>Florida</td>\n      <td>18801310</td>\n      <td>18804564</td>\n      <td>18845537</td>\n    </tr>\n    <tr>\n      <th>15</th>\n      <td>13</td>\n      <td>Georgia</td>\n      <td>9687653</td>\n      <td>9688729</td>\n      <td>9711881</td>\n    </tr>\n    <tr>\n      <th>16</th>\n      <td>15</td>\n      <td>Hawaii</td>\n      <td>1360301</td>\n      <td>1360307</td>\n      <td>1363963</td>\n    </tr>\n    <tr>\n      <th>17</th>\n      <td>16</td>\n      <td>Idaho</td>\n      <td>1567582</td>\n      <td>1567657</td>\n      <td>1570746</td>\n    </tr>\n    <tr>\n      <th>18</th>\n      <td>17</td>\n      <td>Illinois</td>\n      <td>12830632</td>\n      <td>12831572</td>\n      <td>12840503</td>\n    </tr>\n    <tr>\n      <th>19</th>\n      <td>18</td>\n      <td>Indiana</td>\n      <td>6483802</td>\n      <td>6484051</td>\n      <td>6490432</td>\n    </tr>\n    <tr>\n      <th>20</th>\n      <td>19</td>\n      <td>Iowa</td>\n      <td>3046355</td>\n      <td>3046871</td>\n      <td>3050745</td>\n    </tr>\n    <tr>\n      <th>21</th>\n      <td>20</td>\n      <td>Kansas</td>\n      <td>2853118</td>\n      <td>2853123</td>\n      <td>2858190</td>\n    </tr>\n    <tr>\n      <th>22</th>\n      <td>21</td>\n      <td>Kentucky</td>\n      <td>4339367</td>\n      <td>4339333</td>\n      <td>4348181</td>\n    </tr>\n    <tr>\n      <th>23</th>\n      <td>22</td>\n      <td>Louisiana</td>\n      <td>4533372</td>\n      <td>4533487</td>\n      <td>4544532</td>\n    </tr>\n    <tr>\n      <th>24</th>\n      <td>23</td>\n      <td>Maine</td>\n      <td>1328361</td>\n      <td>1328358</td>\n      <td>1327629</td>\n    </tr>\n    <tr>\n      <th>25</th>\n      <td>24</td>\n      <td>Maryland</td>\n      <td>5773552</td>\n      <td>5773794</td>\n      <td>5788645</td>\n    </tr>\n    <tr>\n      <th>26</th>\n      <td>25</td>\n      <td>Massachusetts</td>\n      <td>6547629</td>\n      <td>6547785</td>\n      <td>6566307</td>\n    </tr>\n    <tr>\n      <th>27</th>\n      <td>26</td>\n      <td>Michigan</td>\n      <td>9883640</td>\n      <td>9884116</td>\n      <td>9877510</td>\n    </tr>\n    <tr>\n      <th>28</th>\n      <td>27</td>\n      <td>Minnesota</td>\n      <td>5303925</td>\n      <td>5303927</td>\n      <td>5310828</td>\n    </tr>\n    <tr>\n      <th>29</th>\n      <td>28</td>\n      <td>Mississippi</td>\n      <td>2967297</td>\n      <td>2968130</td>\n      <td>2970548</td>\n    </tr>\n    <tr>\n      <th>30</th>\n      <td>29</td>\n      <td>Missouri</td>\n      <td>5988927</td>\n      <td>5988950</td>\n      <td>5995974</td>\n    </tr>\n    <tr>\n      <th>31</th>\n      <td>30</td>\n      <td>Montana</td>\n      <td>989415</td>\n      <td>989407</td>\n      <td>990697</td>\n    </tr>\n    <tr>\n      <th>32</th>\n      <td>31</td>\n      <td>Nebraska</td>\n      <td>1826341</td>\n      <td>1826305</td>\n      <td>1829542</td>\n    </tr>\n    <tr>\n      <th>33</th>\n      <td>32</td>\n      <td>Nevada</td>\n      <td>2700551</td>\n      <td>2700677</td>\n      <td>2702405</td>\n    </tr>\n    <tr>\n      <th>34</th>\n      <td>33</td>\n      <td>New Hampshire</td>\n      <td>1316470</td>\n      <td>1316462</td>\n      <td>1316762</td>\n    </tr>\n    <tr>\n      <th>35</th>\n      <td>34</td>\n      <td>New Jersey</td>\n      <td>8791894</td>\n      <td>8791978</td>\n      <td>8799446</td>\n    </tr>\n    <tr>\n      <th>36</th>\n      <td>35</td>\n      <td>New Mexico</td>\n      <td>2059179</td>\n      <td>2059199</td>\n      <td>2064552</td>\n    </tr>\n    <tr>\n      <th>37</th>\n      <td>36</td>\n      <td>New York</td>\n      <td>19378102</td>\n      <td>19378144</td>\n      <td>19399878</td>\n    </tr>\n    <tr>\n      <th>38</th>\n      <td>37</td>\n      <td>North Carolina</td>\n      <td>9535483</td>\n      <td>9535751</td>\n      <td>9574323</td>\n    </tr>\n    <tr>\n      <th>39</th>\n      <td>38</td>\n      <td>North Dakota</td>\n      <td>672591</td>\n      <td>672576</td>\n      <td>674715</td>\n    </tr>\n    <tr>\n      <th>40</th>\n      <td>39</td>\n      <td>Ohio</td>\n      <td>11536504</td>\n      <td>11536751</td>\n      <td>11539336</td>\n    </tr>\n    <tr>\n      <th>41</th>\n      <td>40</td>\n      <td>Oklahoma</td>\n      <td>3751351</td>\n      <td>3751582</td>\n      <td>3759944</td>\n    </tr>\n    <tr>\n      <th>42</th>\n      <td>41</td>\n      <td>Oregon</td>\n      <td>3831074</td>\n      <td>3831079</td>\n      <td>3837491</td>\n    </tr>\n    <tr>\n      <th>43</th>\n      <td>42</td>\n      <td>Pennsylvania</td>\n      <td>12702379</td>\n      <td>12702868</td>\n      <td>12711160</td>\n    </tr>\n    <tr>\n      <th>44</th>\n      <td>44</td>\n      <td>Rhode Island</td>\n      <td>1052567</td>\n      <td>1052964</td>\n      <td>1053959</td>\n    </tr>\n    <tr>\n      <th>45</th>\n      <td>45</td>\n      <td>South Carolina</td>\n      <td>4625364</td>\n      <td>4625366</td>\n      <td>4635649</td>\n    </tr>\n    <tr>\n      <th>46</th>\n      <td>46</td>\n      <td>South Dakota</td>\n      <td>814180</td>\n      <td>814198</td>\n      <td>816166</td>\n    </tr>\n    <tr>\n      <th>47</th>\n      <td>47</td>\n      <td>Tennessee</td>\n      <td>6346105</td>\n      <td>6346276</td>\n      <td>6355311</td>\n    </tr>\n    <tr>\n      <th>48</th>\n      <td>48</td>\n      <td>Texas</td>\n      <td>25145561</td>\n      <td>25146091</td>\n      <td>25241971</td>\n    </tr>\n    <tr>\n      <th>49</th>\n      <td>49</td>\n      <td>Utah</td>\n      <td>2763885</td>\n      <td>2763891</td>\n      <td>2775332</td>\n    </tr>\n    <tr>\n      <th>50</th>\n      <td>50</td>\n      <td>Vermont</td>\n      <td>625741</td>\n      <td>625737</td>\n      <td>625879</td>\n    </tr>\n    <tr>\n      <th>51</th>\n      <td>51</td>\n      <td>Virginia</td>\n      <td>8001024</td>\n      <td>8001049</td>\n      <td>8023699</td>\n    </tr>\n    <tr>\n      <th>52</th>\n      <td>53</td>\n      <td>Washington</td>\n      <td>6724540</td>\n      <td>6724540</td>\n      <td>6742830</td>\n    </tr>\n    <tr>\n      <th>53</th>\n      <td>54</td>\n      <td>West Virginia</td>\n      <td>1852994</td>\n      <td>1853018</td>\n      <td>1854239</td>\n    </tr>\n    <tr>\n      <th>54</th>\n      <td>55</td>\n      <td>Wisconsin</td>\n      <td>5686986</td>\n      <td>5687285</td>\n      <td>5690475</td>\n    </tr>\n    <tr>\n      <th>55</th>\n      <td>56</td>\n      <td>Wyoming</td>\n      <td>563626</td>\n      <td>563775</td>\n      <td>564487</td>\n    </tr>\n    <tr>\n      <th>56</th>\n      <td>72</td>\n      <td>Puerto Rico</td>\n      <td>3725789</td>\n      <td>3726157</td>\n      <td>3721525</td>\n    </tr>\n  </tbody>\n</table>\n</div>"
     },
     "execution_count": 14,
     "metadata": {},
     "output_type": "execute_result"
    }
   ],
   "source": [
    "censusRaw = pd.read_csv(censusInformation)\n",
    "censusRaw"
   ],
   "metadata": {
    "collapsed": false,
    "pycharm": {
     "name": "#%%\n"
    }
   }
  },
  {
   "cell_type": "code",
   "execution_count": 15,
   "outputs": [],
   "source": [
    "# Lets rekey the row labels to make this easier to query\n",
    "censusRaw.set_index(\"NAME\", drop=True, inplace=True)"
   ],
   "metadata": {
    "collapsed": false,
    "pycharm": {
     "name": "#%%\n"
    }
   }
  },
  {
   "cell_type": "code",
   "execution_count": 16,
   "outputs": [
    {
     "data": {
      "text/plain": "                      CENSUS2010POP\nNAME                               \nUnited States             308745538\nNortheast Region           55317240\nMidwest Region             66927001\nSouth Region              114555744\nWest Region                71945553\nAlabama                     4779736\nAlaska                       710231\nArizona                     6392017\nArkansas                    2915918\nCalifornia                 37253956\nColorado                    5029196\nConnecticut                 3574097\nDelaware                     897934\nDistrict of Columbia         601723\nFlorida                    18801310\nGeorgia                     9687653\nHawaii                      1360301\nIdaho                       1567582\nIllinois                   12830632\nIndiana                     6483802\nIowa                        3046355\nKansas                      2853118\nKentucky                    4339367\nLouisiana                   4533372\nMaine                       1328361\nMaryland                    5773552\nMassachusetts               6547629\nMichigan                    9883640\nMinnesota                   5303925\nMississippi                 2967297\nMissouri                    5988927\nMontana                      989415\nNebraska                    1826341\nNevada                      2700551\nNew Hampshire               1316470\nNew Jersey                  8791894\nNew Mexico                  2059179\nNew York                   19378102\nNorth Carolina              9535483\nNorth Dakota                 672591\nOhio                       11536504\nOklahoma                    3751351\nOregon                      3831074\nPennsylvania               12702379\nRhode Island                1052567\nSouth Carolina              4625364\nSouth Dakota                 814180\nTennessee                   6346105\nTexas                      25145561\nUtah                        2763885\nVermont                      625741\nVirginia                    8001024\nWashington                  6724540\nWest Virginia               1852994\nWisconsin                   5686986\nWyoming                      563626\nPuerto Rico                 3725789",
      "text/html": "<div>\n<style scoped>\n    .dataframe tbody tr th:only-of-type {\n        vertical-align: middle;\n    }\n\n    .dataframe tbody tr th {\n        vertical-align: top;\n    }\n\n    .dataframe thead th {\n        text-align: right;\n    }\n</style>\n<table border=\"1\" class=\"dataframe\">\n  <thead>\n    <tr style=\"text-align: right;\">\n      <th></th>\n      <th>CENSUS2010POP</th>\n    </tr>\n    <tr>\n      <th>NAME</th>\n      <th></th>\n    </tr>\n  </thead>\n  <tbody>\n    <tr>\n      <th>United States</th>\n      <td>308745538</td>\n    </tr>\n    <tr>\n      <th>Northeast Region</th>\n      <td>55317240</td>\n    </tr>\n    <tr>\n      <th>Midwest Region</th>\n      <td>66927001</td>\n    </tr>\n    <tr>\n      <th>South Region</th>\n      <td>114555744</td>\n    </tr>\n    <tr>\n      <th>West Region</th>\n      <td>71945553</td>\n    </tr>\n    <tr>\n      <th>Alabama</th>\n      <td>4779736</td>\n    </tr>\n    <tr>\n      <th>Alaska</th>\n      <td>710231</td>\n    </tr>\n    <tr>\n      <th>Arizona</th>\n      <td>6392017</td>\n    </tr>\n    <tr>\n      <th>Arkansas</th>\n      <td>2915918</td>\n    </tr>\n    <tr>\n      <th>California</th>\n      <td>37253956</td>\n    </tr>\n    <tr>\n      <th>Colorado</th>\n      <td>5029196</td>\n    </tr>\n    <tr>\n      <th>Connecticut</th>\n      <td>3574097</td>\n    </tr>\n    <tr>\n      <th>Delaware</th>\n      <td>897934</td>\n    </tr>\n    <tr>\n      <th>District of Columbia</th>\n      <td>601723</td>\n    </tr>\n    <tr>\n      <th>Florida</th>\n      <td>18801310</td>\n    </tr>\n    <tr>\n      <th>Georgia</th>\n      <td>9687653</td>\n    </tr>\n    <tr>\n      <th>Hawaii</th>\n      <td>1360301</td>\n    </tr>\n    <tr>\n      <th>Idaho</th>\n      <td>1567582</td>\n    </tr>\n    <tr>\n      <th>Illinois</th>\n      <td>12830632</td>\n    </tr>\n    <tr>\n      <th>Indiana</th>\n      <td>6483802</td>\n    </tr>\n    <tr>\n      <th>Iowa</th>\n      <td>3046355</td>\n    </tr>\n    <tr>\n      <th>Kansas</th>\n      <td>2853118</td>\n    </tr>\n    <tr>\n      <th>Kentucky</th>\n      <td>4339367</td>\n    </tr>\n    <tr>\n      <th>Louisiana</th>\n      <td>4533372</td>\n    </tr>\n    <tr>\n      <th>Maine</th>\n      <td>1328361</td>\n    </tr>\n    <tr>\n      <th>Maryland</th>\n      <td>5773552</td>\n    </tr>\n    <tr>\n      <th>Massachusetts</th>\n      <td>6547629</td>\n    </tr>\n    <tr>\n      <th>Michigan</th>\n      <td>9883640</td>\n    </tr>\n    <tr>\n      <th>Minnesota</th>\n      <td>5303925</td>\n    </tr>\n    <tr>\n      <th>Mississippi</th>\n      <td>2967297</td>\n    </tr>\n    <tr>\n      <th>Missouri</th>\n      <td>5988927</td>\n    </tr>\n    <tr>\n      <th>Montana</th>\n      <td>989415</td>\n    </tr>\n    <tr>\n      <th>Nebraska</th>\n      <td>1826341</td>\n    </tr>\n    <tr>\n      <th>Nevada</th>\n      <td>2700551</td>\n    </tr>\n    <tr>\n      <th>New Hampshire</th>\n      <td>1316470</td>\n    </tr>\n    <tr>\n      <th>New Jersey</th>\n      <td>8791894</td>\n    </tr>\n    <tr>\n      <th>New Mexico</th>\n      <td>2059179</td>\n    </tr>\n    <tr>\n      <th>New York</th>\n      <td>19378102</td>\n    </tr>\n    <tr>\n      <th>North Carolina</th>\n      <td>9535483</td>\n    </tr>\n    <tr>\n      <th>North Dakota</th>\n      <td>672591</td>\n    </tr>\n    <tr>\n      <th>Ohio</th>\n      <td>11536504</td>\n    </tr>\n    <tr>\n      <th>Oklahoma</th>\n      <td>3751351</td>\n    </tr>\n    <tr>\n      <th>Oregon</th>\n      <td>3831074</td>\n    </tr>\n    <tr>\n      <th>Pennsylvania</th>\n      <td>12702379</td>\n    </tr>\n    <tr>\n      <th>Rhode Island</th>\n      <td>1052567</td>\n    </tr>\n    <tr>\n      <th>South Carolina</th>\n      <td>4625364</td>\n    </tr>\n    <tr>\n      <th>South Dakota</th>\n      <td>814180</td>\n    </tr>\n    <tr>\n      <th>Tennessee</th>\n      <td>6346105</td>\n    </tr>\n    <tr>\n      <th>Texas</th>\n      <td>25145561</td>\n    </tr>\n    <tr>\n      <th>Utah</th>\n      <td>2763885</td>\n    </tr>\n    <tr>\n      <th>Vermont</th>\n      <td>625741</td>\n    </tr>\n    <tr>\n      <th>Virginia</th>\n      <td>8001024</td>\n    </tr>\n    <tr>\n      <th>Washington</th>\n      <td>6724540</td>\n    </tr>\n    <tr>\n      <th>West Virginia</th>\n      <td>1852994</td>\n    </tr>\n    <tr>\n      <th>Wisconsin</th>\n      <td>5686986</td>\n    </tr>\n    <tr>\n      <th>Wyoming</th>\n      <td>563626</td>\n    </tr>\n    <tr>\n      <th>Puerto Rico</th>\n      <td>3725789</td>\n    </tr>\n  </tbody>\n</table>\n</div>"
     },
     "execution_count": 16,
     "metadata": {},
     "output_type": "execute_result"
    }
   ],
   "source": [
    "# Lets try pulling just Iowa\n",
    "census = censusRaw[[\"CENSUS2010POP\"]]\n",
    "census"
   ],
   "metadata": {
    "collapsed": false,
    "pycharm": {
     "name": "#%%\n"
    }
   }
  },
  {
   "cell_type": "code",
   "execution_count": 17,
   "outputs": [
    {
     "data": {
      "text/plain": "3046355"
     },
     "execution_count": 17,
     "metadata": {},
     "output_type": "execute_result"
    }
   ],
   "source": [
    "census.loc[\"Iowa\"][\"CENSUS2010POP\"]"
   ],
   "metadata": {
    "collapsed": false,
    "pycharm": {
     "name": "#%%\n"
    }
   }
  },
  {
   "cell_type": "code",
   "execution_count": 18,
   "outputs": [
    {
     "data": {
      "text/plain": "{'Iowa': [8.27,\n  12.89,\n  33.95,\n  52.58,\n  58.74,\n  68.47,\n  72.18,\n  73.27,\n  60.98,\n  53.02,\n  34.48,\n  15.65,\n  3046355],\n 'New York': [22.27,\n  24.58,\n  38.84,\n  50.09,\n  59.95,\n  66.09,\n  71.6,\n  68.34,\n  61.77,\n  49.63,\n  38.87,\n  23.77,\n  19378102],\n 'Arizona': [22.27,\n  24.58,\n  38.84,\n  50.09,\n  59.95,\n  66.09,\n  71.6,\n  68.34,\n  61.77,\n  49.63,\n  38.87,\n  23.77,\n  6392017]}"
     },
     "execution_count": 18,
     "metadata": {},
     "output_type": "execute_result"
    }
   ],
   "source": [
    "# Now we have an idea of how to tie these together\n",
    "for key in weather:\n",
    "    censusValue = census.loc[key][\"CENSUS2010POP\"]\n",
    "    weather[key].append(censusValue)\n",
    "weather"
   ],
   "metadata": {
    "collapsed": false,
    "pycharm": {
     "name": "#%%\n"
    }
   }
  },
  {
   "cell_type": "markdown",
   "source": [
    "# Conversion back to a dataframe"
   ],
   "metadata": {
    "collapsed": false,
    "pycharm": {
     "name": "#%% md\n"
    }
   }
  },
  {
   "cell_type": "code",
   "execution_count": 19,
   "outputs": [
    {
     "data": {
      "text/plain": "          Iowa     New York     Arizona\n0         8.27        22.27       22.27\n1        12.89        24.58       24.58\n2        33.95        38.84       38.84\n3        52.58        50.09       50.09\n4        58.74        59.95       59.95\n5        68.47        66.09       66.09\n6        72.18        71.60       71.60\n7        73.27        68.34       68.34\n8        60.98        61.77       61.77\n9        53.02        49.63       49.63\n10       34.48        38.87       38.87\n11       15.65        23.77       23.77\n12  3046355.00  19378102.00  6392017.00",
      "text/html": "<div>\n<style scoped>\n    .dataframe tbody tr th:only-of-type {\n        vertical-align: middle;\n    }\n\n    .dataframe tbody tr th {\n        vertical-align: top;\n    }\n\n    .dataframe thead th {\n        text-align: right;\n    }\n</style>\n<table border=\"1\" class=\"dataframe\">\n  <thead>\n    <tr style=\"text-align: right;\">\n      <th></th>\n      <th>Iowa</th>\n      <th>New York</th>\n      <th>Arizona</th>\n    </tr>\n  </thead>\n  <tbody>\n    <tr>\n      <th>0</th>\n      <td>8.27</td>\n      <td>22.27</td>\n      <td>22.27</td>\n    </tr>\n    <tr>\n      <th>1</th>\n      <td>12.89</td>\n      <td>24.58</td>\n      <td>24.58</td>\n    </tr>\n    <tr>\n      <th>2</th>\n      <td>33.95</td>\n      <td>38.84</td>\n      <td>38.84</td>\n    </tr>\n    <tr>\n      <th>3</th>\n      <td>52.58</td>\n      <td>50.09</td>\n      <td>50.09</td>\n    </tr>\n    <tr>\n      <th>4</th>\n      <td>58.74</td>\n      <td>59.95</td>\n      <td>59.95</td>\n    </tr>\n    <tr>\n      <th>5</th>\n      <td>68.47</td>\n      <td>66.09</td>\n      <td>66.09</td>\n    </tr>\n    <tr>\n      <th>6</th>\n      <td>72.18</td>\n      <td>71.60</td>\n      <td>71.60</td>\n    </tr>\n    <tr>\n      <th>7</th>\n      <td>73.27</td>\n      <td>68.34</td>\n      <td>68.34</td>\n    </tr>\n    <tr>\n      <th>8</th>\n      <td>60.98</td>\n      <td>61.77</td>\n      <td>61.77</td>\n    </tr>\n    <tr>\n      <th>9</th>\n      <td>53.02</td>\n      <td>49.63</td>\n      <td>49.63</td>\n    </tr>\n    <tr>\n      <th>10</th>\n      <td>34.48</td>\n      <td>38.87</td>\n      <td>38.87</td>\n    </tr>\n    <tr>\n      <th>11</th>\n      <td>15.65</td>\n      <td>23.77</td>\n      <td>23.77</td>\n    </tr>\n    <tr>\n      <th>12</th>\n      <td>3046355.00</td>\n      <td>19378102.00</td>\n      <td>6392017.00</td>\n    </tr>\n  </tbody>\n</table>\n</div>"
     },
     "execution_count": 19,
     "metadata": {},
     "output_type": "execute_result"
    }
   ],
   "source": [
    "weatherDF = pd.DataFrame.from_dict(weather)\n",
    "weatherDF"
   ],
   "metadata": {
    "collapsed": false,
    "pycharm": {
     "name": "#%%\n"
    }
   }
  },
  {
   "cell_type": "code",
   "execution_count": 20,
   "outputs": [
    {
     "data": {
      "text/plain": "            Iowa     New York     Arizona\nJan         8.27        22.27       22.27\nFeb        12.89        24.58       24.58\nMar        33.95        38.84       38.84\nApr        52.58        50.09       50.09\nMay        58.74        59.95       59.95\nJun        68.47        66.09       66.09\nJul        72.18        71.60       71.60\nAug        73.27        68.34       68.34\nSept       60.98        61.77       61.77\nOct        53.02        49.63       49.63\nNov        34.48        38.87       38.87\nDec        15.65        23.77       23.77\nPop   3046355.00  19378102.00  6392017.00",
      "text/html": "<div>\n<style scoped>\n    .dataframe tbody tr th:only-of-type {\n        vertical-align: middle;\n    }\n\n    .dataframe tbody tr th {\n        vertical-align: top;\n    }\n\n    .dataframe thead th {\n        text-align: right;\n    }\n</style>\n<table border=\"1\" class=\"dataframe\">\n  <thead>\n    <tr style=\"text-align: right;\">\n      <th></th>\n      <th>Iowa</th>\n      <th>New York</th>\n      <th>Arizona</th>\n    </tr>\n  </thead>\n  <tbody>\n    <tr>\n      <th>Jan</th>\n      <td>8.27</td>\n      <td>22.27</td>\n      <td>22.27</td>\n    </tr>\n    <tr>\n      <th>Feb</th>\n      <td>12.89</td>\n      <td>24.58</td>\n      <td>24.58</td>\n    </tr>\n    <tr>\n      <th>Mar</th>\n      <td>33.95</td>\n      <td>38.84</td>\n      <td>38.84</td>\n    </tr>\n    <tr>\n      <th>Apr</th>\n      <td>52.58</td>\n      <td>50.09</td>\n      <td>50.09</td>\n    </tr>\n    <tr>\n      <th>May</th>\n      <td>58.74</td>\n      <td>59.95</td>\n      <td>59.95</td>\n    </tr>\n    <tr>\n      <th>Jun</th>\n      <td>68.47</td>\n      <td>66.09</td>\n      <td>66.09</td>\n    </tr>\n    <tr>\n      <th>Jul</th>\n      <td>72.18</td>\n      <td>71.60</td>\n      <td>71.60</td>\n    </tr>\n    <tr>\n      <th>Aug</th>\n      <td>73.27</td>\n      <td>68.34</td>\n      <td>68.34</td>\n    </tr>\n    <tr>\n      <th>Sept</th>\n      <td>60.98</td>\n      <td>61.77</td>\n      <td>61.77</td>\n    </tr>\n    <tr>\n      <th>Oct</th>\n      <td>53.02</td>\n      <td>49.63</td>\n      <td>49.63</td>\n    </tr>\n    <tr>\n      <th>Nov</th>\n      <td>34.48</td>\n      <td>38.87</td>\n      <td>38.87</td>\n    </tr>\n    <tr>\n      <th>Dec</th>\n      <td>15.65</td>\n      <td>23.77</td>\n      <td>23.77</td>\n    </tr>\n    <tr>\n      <th>Pop</th>\n      <td>3046355.00</td>\n      <td>19378102.00</td>\n      <td>6392017.00</td>\n    </tr>\n  </tbody>\n</table>\n</div>"
     },
     "execution_count": 20,
     "metadata": {},
     "output_type": "execute_result"
    }
   ],
   "source": [
    "# Now lets add some row indexes to make this nicer.\n",
    "weatherDF.index = [\"Jan\", \"Feb\", \"Mar\", \"Apr\", \"May\", \"Jun\", \"Jul\", \"Aug\", \"Sept\", \"Oct\", \"Nov\", \"Dec\", \"Pop\"]\n",
    "weatherDF"
   ],
   "metadata": {
    "collapsed": false,
    "pycharm": {
     "name": "#%%\n"
    }
   }
  },
  {
   "cell_type": "code",
   "execution_count": 20,
   "outputs": [],
   "source": [],
   "metadata": {
    "collapsed": false,
    "pycharm": {
     "name": "#%%\n"
    }
   }
  }
 ],
 "metadata": {
  "kernelspec": {
   "display_name": "Python 3",
   "language": "python",
   "name": "python3"
  },
  "language_info": {
   "codemirror_mode": {
    "name": "ipython",
    "version": 2
   },
   "file_extension": ".py",
   "mimetype": "text/x-python",
   "name": "python",
   "nbconvert_exporter": "python",
   "pygments_lexer": "ipython2",
   "version": "2.7.6"
  }
 },
 "nbformat": 4,
 "nbformat_minor": 0
}