{
 "cells": [
  {
   "cell_type": "markdown",
   "metadata": {
    "collapsed": true,
    "pycharm": {
     "name": "#%% md\n"
    }
   },
   "source": [
    "# 06.01.01 - CSVImportExport\n",
    "\n",
    "## Purpose\n",
    "\n",
    "This notebook specifically talks about dealing with CSV files.  Both input/output.  Please note that we won't be doing really any analysis on these files.  Just pulling them in, doing simple operations, and exporting them\n",
    "\n",
    "This notebook is part of a set of notebooks about file input/output.\n",
    "\n",
    "## Requirements\n",
    "\n",
    "This notebook will read from the data directory within the Github repo.  Pulling this notebook, by itself, will likely NOT work.  You will need to pull down the entire repository.\n",
    "\n",
    "This notebook will also read from a CSV online.  So internet access at the time of run is required.\n",
    "\n",
    "This notebook is developed in PyCharm.  It's possible that you may need to modify some paths to get this working if you are using Jupyter or have a different environment.  Please look at and modify the _dataDir_ variable below, as needed"
   ]
  },
  {
   "cell_type": "code",
   "execution_count": 2,
   "outputs": [],
   "source": [
    "# IMPORTANT: CHANGE THIS PATH IF IT DOESN'T WORK FOR YOU!!!\n",
    "dataDir = \"../../data/\"\n",
    "\n",
    "\n",
    "import pandas as pd"
   ],
   "metadata": {
    "collapsed": false,
    "pycharm": {
     "name": "#%%\n"
    }
   }
  },
  {
   "cell_type": "markdown",
   "source": [
    "# Reading from on-disk locations"
   ],
   "metadata": {
    "collapsed": false,
    "pycharm": {
     "name": "#%% md\n"
    }
   }
  },
  {
   "cell_type": "code",
   "execution_count": 3,
   "outputs": [
    {
     "data": {
      "text/plain": "     Rank  Year         Name  Frequency\n0       1  1980      Michael       3886\n1       2  1980        Jason       2389\n2       3  1980  Christopher       2273\n3       4  1980      Matthew       2112\n4       5  1980        David       2088\n..    ...   ...          ...        ...\n845    21  2013       NATHAN        470\n846    22  2013       ANDREW        468\n847    23  2013        HENRY        463\n848    24  2013        DAVID        461\n849    25  2013         JACK        440\n\n[850 rows x 4 columns]",
      "text/html": "<div>\n<style scoped>\n    .dataframe tbody tr th:only-of-type {\n        vertical-align: middle;\n    }\n\n    .dataframe tbody tr th {\n        vertical-align: top;\n    }\n\n    .dataframe thead th {\n        text-align: right;\n    }\n</style>\n<table border=\"1\" class=\"dataframe\">\n  <thead>\n    <tr style=\"text-align: right;\">\n      <th></th>\n      <th>Rank</th>\n      <th>Year</th>\n      <th>Name</th>\n      <th>Frequency</th>\n    </tr>\n  </thead>\n  <tbody>\n    <tr>\n      <th>0</th>\n      <td>1</td>\n      <td>1980</td>\n      <td>Michael</td>\n      <td>3886</td>\n    </tr>\n    <tr>\n      <th>1</th>\n      <td>2</td>\n      <td>1980</td>\n      <td>Jason</td>\n      <td>2389</td>\n    </tr>\n    <tr>\n      <th>2</th>\n      <td>3</td>\n      <td>1980</td>\n      <td>Christopher</td>\n      <td>2273</td>\n    </tr>\n    <tr>\n      <th>3</th>\n      <td>4</td>\n      <td>1980</td>\n      <td>Matthew</td>\n      <td>2112</td>\n    </tr>\n    <tr>\n      <th>4</th>\n      <td>5</td>\n      <td>1980</td>\n      <td>David</td>\n      <td>2088</td>\n    </tr>\n    <tr>\n      <th>...</th>\n      <td>...</td>\n      <td>...</td>\n      <td>...</td>\n      <td>...</td>\n    </tr>\n    <tr>\n      <th>845</th>\n      <td>21</td>\n      <td>2013</td>\n      <td>NATHAN</td>\n      <td>470</td>\n    </tr>\n    <tr>\n      <th>846</th>\n      <td>22</td>\n      <td>2013</td>\n      <td>ANDREW</td>\n      <td>468</td>\n    </tr>\n    <tr>\n      <th>847</th>\n      <td>23</td>\n      <td>2013</td>\n      <td>HENRY</td>\n      <td>463</td>\n    </tr>\n    <tr>\n      <th>848</th>\n      <td>24</td>\n      <td>2013</td>\n      <td>DAVID</td>\n      <td>461</td>\n    </tr>\n    <tr>\n      <th>849</th>\n      <td>25</td>\n      <td>2013</td>\n      <td>JACK</td>\n      <td>440</td>\n    </tr>\n  </tbody>\n</table>\n<p>850 rows × 4 columns</p>\n</div>"
     },
     "execution_count": 3,
     "metadata": {},
     "output_type": "execute_result"
    }
   ],
   "source": [
    "boyNames = pd.read_csv(f\"{dataDir}/BoyNames.csv\")\n",
    "boyNames"
   ],
   "metadata": {
    "collapsed": false,
    "pycharm": {
     "name": "#%%\n"
    }
   }
  },
  {
   "cell_type": "code",
   "execution_count": null,
   "outputs": [],
   "source": [],
   "metadata": {
    "collapsed": false,
    "pycharm": {
     "name": "#%%\n"
    }
   }
  }
 ],
 "metadata": {
  "kernelspec": {
   "display_name": "Python 3",
   "language": "python",
   "name": "python3"
  },
  "language_info": {
   "codemirror_mode": {
    "name": "ipython",
    "version": 2
   },
   "file_extension": ".py",
   "mimetype": "text/x-python",
   "name": "python",
   "nbconvert_exporter": "python",
   "pygments_lexer": "ipython2",
   "version": "2.7.6"
  }
 },
 "nbformat": 4,
 "nbformat_minor": 0
}