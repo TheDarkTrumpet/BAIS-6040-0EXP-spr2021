{
 "cells": [
  {
   "cell_type": "markdown",
   "metadata": {
    "collapsed": true,
    "pycharm": {
     "name": "#%% md\n"
    }
   },
   "source": [
    "# 05.01.01 - Pandas\n",
    "\n",
    "## Purpose\n",
    "This notebook goes over Pandas basics.  Mostly generating pandas objects based off existing structures and/or creating new ones.  We'll also cover updating pandas objects.\n",
    "\n",
    "Next module we'll talk more about how to use datasets and to load it"
   ]
  },
  {
   "cell_type": "code",
   "execution_count": 1,
   "outputs": [],
   "source": [
    "# Standard naming convention\n",
    "import pandas as pd"
   ],
   "metadata": {
    "collapsed": false,
    "pycharm": {
     "name": "#%%\n"
    }
   }
  },
  {
   "cell_type": "code",
   "execution_count": 2,
   "outputs": [
    {
     "data": {
      "text/plain": "0     5\n1    10\n2    15\n3    20\ndtype: int64"
     },
     "execution_count": 2,
     "metadata": {},
     "output_type": "execute_result"
    }
   ],
   "source": [
    "# Generate 4 elements, just a range/sequence\n",
    "explicitDataSet = pd.Series([5, 10, 15, 20])\n",
    "explicitDataSet"
   ],
   "metadata": {
    "collapsed": false,
    "pycharm": {
     "name": "#%%\n"
    }
   }
  },
  {
   "cell_type": "code",
   "execution_count": 3,
   "outputs": [
    {
     "data": {
      "text/plain": "15"
     },
     "execution_count": 3,
     "metadata": {},
     "output_type": "execute_result"
    }
   ],
   "source": [
    "# To pull a single element\n",
    "explicitDataSet[2]"
   ],
   "metadata": {
    "collapsed": false,
    "pycharm": {
     "name": "#%%\n"
    }
   }
  },
  {
   "cell_type": "code",
   "execution_count": 4,
   "outputs": [
    {
     "data": {
      "text/plain": "2    15\n3    20\ndtype: int64"
     },
     "execution_count": 4,
     "metadata": {},
     "output_type": "execute_result"
    }
   ],
   "source": [
    "# To pull a range\n",
    "explicitDataSet[2:]"
   ],
   "metadata": {
    "collapsed": false,
    "pycharm": {
     "name": "#%%\n"
    }
   }
  },
  {
   "cell_type": "code",
   "execution_count": 5,
   "outputs": [
    {
     "data": {
      "text/plain": "2    15\n3    20\ndtype: int64"
     },
     "execution_count": 5,
     "metadata": {},
     "output_type": "execute_result"
    }
   ],
   "source": [
    "# We can assign to another object, just like we've seen before\n",
    "explicitDataSetSubSet = explicitDataSet[2:]\n",
    "explicitDataSetSubSet"
   ],
   "metadata": {
    "collapsed": false,
    "pycharm": {
     "name": "#%%\n"
    }
   }
  },
  {
   "cell_type": "code",
   "execution_count": 6,
   "outputs": [
    {
     "data": {
      "text/plain": "20"
     },
     "execution_count": 6,
     "metadata": {},
     "output_type": "execute_result"
    }
   ],
   "source": [
    "# Uncomment the below line and run this.\n",
    "# explicitDataSetSubSet[0] # Note this gives an error!\n",
    "explicitDataSetSubSet[3]  # only 2 rows, but index 3???"
   ],
   "metadata": {
    "collapsed": false,
    "pycharm": {
     "name": "#%%\n"
    }
   }
  },
  {
   "cell_type": "code",
   "execution_count": 7,
   "outputs": [
    {
     "data": {
      "text/plain": "RangeIndex(start=2, stop=4, step=1)"
     },
     "execution_count": 7,
     "metadata": {},
     "output_type": "execute_result"
    }
   ],
   "source": [
    "# This will list the indexes currently in the dataframe\n",
    "explicitDataSetSubSet.index"
   ],
   "metadata": {
    "collapsed": false,
    "pycharm": {
     "name": "#%%\n"
    }
   }
  },
  {
   "cell_type": "code",
   "execution_count": 8,
   "outputs": [
    {
     "data": {
      "text/plain": "2"
     },
     "execution_count": 8,
     "metadata": {},
     "output_type": "execute_result"
    }
   ],
   "source": [
    "# Gives the length of the dataFrame\n",
    "len(explicitDataSetSubSet)"
   ],
   "metadata": {
    "collapsed": false,
    "pycharm": {
     "name": "#%%\n"
    }
   }
  },
  {
   "cell_type": "code",
   "execution_count": 9,
   "outputs": [
    {
     "data": {
      "text/plain": "15"
     },
     "execution_count": 9,
     "metadata": {},
     "output_type": "execute_result"
    }
   ],
   "source": [
    "# We can get the 'true' index, as if this was a standard object\n",
    "# by using iloc\n",
    "explicitDataSetSubSet.iloc[0] # This is what we expect"
   ],
   "metadata": {
    "collapsed": false,
    "pycharm": {
     "name": "#%%\n"
    }
   }
  },
  {
   "cell_type": "code",
   "execution_count": 10,
   "outputs": [
    {
     "data": {
      "text/plain": "0    15\n1    20\ndtype: int64"
     },
     "execution_count": 10,
     "metadata": {},
     "output_type": "execute_result"
    }
   ],
   "source": [
    "# We may want to reset the index to make things consistent\n",
    "# Note, this works, but returns a new dataframe\n",
    "explicitDataSetSubSet.reset_index(drop=True)"
   ],
   "metadata": {
    "collapsed": false,
    "pycharm": {
     "name": "#%%\n"
    }
   }
  },
  {
   "cell_type": "code",
   "execution_count": 11,
   "outputs": [
    {
     "data": {
      "text/plain": "2    15\n3    20\ndtype: int64"
     },
     "execution_count": 11,
     "metadata": {},
     "output_type": "execute_result"
    }
   ],
   "source": [
    "explicitDataSetSubSet"
   ],
   "metadata": {
    "collapsed": false,
    "pycharm": {
     "name": "#%%\n"
    }
   }
  },
  {
   "cell_type": "code",
   "execution_count": 12,
   "outputs": [
    {
     "data": {
      "text/plain": "0    15\n1    20\ndtype: int64"
     },
     "execution_count": 12,
     "metadata": {},
     "output_type": "execute_result"
    }
   ],
   "source": [
    "# We can use inplace to overwrite our current dataframe\n",
    "explicitDataSetSubSet.reset_index(inplace=True, drop=True)\n",
    "explicitDataSetSubSet"
   ],
   "metadata": {
    "collapsed": false,
    "pycharm": {
     "name": "#%%\n"
    }
   }
  },
  {
   "cell_type": "markdown",
   "source": [
    "The important part of the above activity is to realize that Pandas has a separate index, than the index we're normally aware of.  This can cause some confusion, hence the rather verbose example list.  So just remember, index in Pandas language isn't the same as index as in a list, or in numpy, etc\n",
    "\n",
    "Indexes can actually be more than just numbers, so lets try that."
   ],
   "metadata": {
    "collapsed": false,
    "pycharm": {
     "name": "#%% md\n"
    }
   }
  },
  {
   "cell_type": "code",
   "execution_count": 13,
   "outputs": [
    {
     "data": {
      "text/plain": "0     5\n1    10\n2    15\n3    20\ndtype: int64"
     },
     "execution_count": 13,
     "metadata": {},
     "output_type": "execute_result"
    }
   ],
   "source": [
    "explicitDataSet"
   ],
   "metadata": {
    "collapsed": false,
    "pycharm": {
     "name": "#%%\n"
    }
   }
  },
  {
   "cell_type": "code",
   "execution_count": 14,
   "outputs": [
    {
     "data": {
      "text/plain": "Foo     5\nBar    10\nCar    15\nZar    20\ndtype: int64"
     },
     "execution_count": 14,
     "metadata": {},
     "output_type": "execute_result"
    }
   ],
   "source": [
    "explicitDataSet.index = [\"Foo\", \"Bar\", \"Car\", \"Zar\"]\n",
    "explicitDataSet"
   ],
   "metadata": {
    "collapsed": false,
    "pycharm": {
     "name": "#%%\n"
    }
   }
  },
  {
   "cell_type": "code",
   "execution_count": 15,
   "outputs": [
    {
     "name": "stdout",
     "output_type": "stream",
     "text": [
      "explicitDataSet['Foo'] => 5\n",
      "explicitDataSet.iloc[0] => 5\n"
     ]
    }
   ],
   "source": [
    "# Now we can reference the rows two different ways:\n",
    "print(f\"explicitDataSet['Foo'] => {explicitDataSet['Foo']}\")\n",
    "print(f\"explicitDataSet.iloc[0] => {explicitDataSet.iloc[0]}\")"
   ],
   "metadata": {
    "collapsed": false,
    "pycharm": {
     "name": "#%%\n"
    }
   }
  },
  {
   "cell_type": "code",
   "execution_count": 16,
   "outputs": [],
   "source": [
    "# We don't have to cast, in some cases - pay attention to the below\n",
    "explicitDataSet['Foo'] = \"105\""
   ],
   "metadata": {
    "collapsed": false,
    "pycharm": {
     "name": "#%%\n"
    }
   }
  },
  {
   "cell_type": "code",
   "execution_count": 17,
   "outputs": [
    {
     "data": {
      "text/plain": "Foo    105\nBar     10\nCar     15\nZar     20\ndtype: int64"
     },
     "execution_count": 17,
     "metadata": {},
     "output_type": "execute_result"
    }
   ],
   "source": [
    "explicitDataSet\n"
   ],
   "metadata": {
    "collapsed": false,
    "pycharm": {
     "name": "#%%\n"
    }
   }
  },
  {
   "cell_type": "code",
   "execution_count": 18,
   "outputs": [
    {
     "data": {
      "text/plain": "Foo    Hello, world\nBar              10\nCar              15\nZar              20\ndtype: object"
     },
     "execution_count": 18,
     "metadata": {},
     "output_type": "execute_result"
    }
   ],
   "source": [
    "# We're still in dynamic line, but watch the dtype in this case\n",
    "# Went from dtype: int64 -> object\n",
    "explicitDataSet[\"Foo\"] = \"Hello, world\"\n",
    "explicitDataSet"
   ],
   "metadata": {
    "collapsed": false,
    "pycharm": {
     "name": "#%%\n"
    }
   }
  },
  {
   "cell_type": "markdown",
   "source": [
    "In general, it's bad to mix data types.  Pay close attention to the below \"filter\".  In this case\n",
    "we are searching for all values that are greater than 10.  This doesn't work because Foo => 'Hello, world'."
   ],
   "metadata": {
    "collapsed": false,
    "pycharm": {
     "name": "#%% md\n"
    }
   }
  },
  {
   "cell_type": "code",
   "execution_count": 19,
   "outputs": [],
   "source": [
    "# Uncomment out and run, to see the error message\n",
    "# explicitDataSet[(explicitDataSet > 10)]"
   ],
   "metadata": {
    "collapsed": false,
    "pycharm": {
     "name": "#%%\n"
    }
   }
  },
  {
   "cell_type": "code",
   "execution_count": 20,
   "outputs": [
    {
     "data": {
      "text/plain": "Car    15\nZar    20\ndtype: int64"
     },
     "execution_count": 20,
     "metadata": {},
     "output_type": "execute_result"
    }
   ],
   "source": [
    "explicitDataSet = pd.Series([5, 10, 15, 20])\n",
    "explicitDataSet.index = [\"Foo\", \"Bar\", \"Car\", \"Zar\"]\n",
    "explicitDataSet[(explicitDataSet > 10)]"
   ],
   "metadata": {
    "collapsed": false,
    "pycharm": {
     "name": "#%%\n"
    }
   }
  },
  {
   "cell_type": "markdown",
   "source": [
    "Thus far, data frames don't have much use. Lets make a more complicated data source"
   ],
   "metadata": {
    "collapsed": false,
    "pycharm": {
     "name": "#%% md\n"
    }
   }
  },
  {
   "cell_type": "code",
   "execution_count": 21,
   "outputs": [
    {
     "data": {
      "text/plain": "array([[ 14,  64,  21,  -5, -16,  26],\n       [ 25,  57,  87, -16,  73,  -1],\n       [ 49,  72,  65, -17, -17,   7],\n       [ 65,  20,  91,  70,  37,  27],\n       [-19,  74,  45,   2,  66,  22],\n       [ 55,   0, -13,  83,  -8,  62],\n       [  9,  54,  35,  49,  79,  48],\n       [ 84,  51,  92,  67,  77,  63],\n       [ -8,   3,  83,  -1, -17,   5],\n       [ 44,  44,  19,  -3,  89, -10],\n       [ -4,   4,  19,  30, -17,  80],\n       [ 70,  48,   7,  62,  54,  14]])"
     },
     "execution_count": 21,
     "metadata": {},
     "output_type": "execute_result"
    }
   ],
   "source": [
    "import numpy.random as rnd\n",
    "# Generate some fixture data\n",
    "months = [\"Jan\", \"Feb\", \"Mar\", \"Apr\", \"May\", \"Jun\", \"Jul\", \"Aug\", \"Sept\", \"Oct\", \"Nov\", \"Dec\"]\n",
    "years = [2015, 2016, 2017, 2018, 2019, 2020]\n",
    "\n",
    "npTemps = rnd.randint(-20, 100, size=(len(months), len(years)))\n",
    "npTemps"
   ],
   "metadata": {
    "collapsed": false,
    "pycharm": {
     "name": "#%%\n"
    }
   }
  },
  {
   "cell_type": "code",
   "execution_count": 22,
   "outputs": [
    {
     "data": {
      "text/plain": "      2015  2016  2017  2018  2019  2020\nJan     14    64    21    -5   -16    26\nFeb     25    57    87   -16    73    -1\nMar     49    72    65   -17   -17     7\nApr     65    20    91    70    37    27\nMay    -19    74    45     2    66    22\nJun     55     0   -13    83    -8    62\nJul      9    54    35    49    79    48\nAug     84    51    92    67    77    63\nSept    -8     3    83    -1   -17     5\nOct     44    44    19    -3    89   -10\nNov     -4     4    19    30   -17    80\nDec     70    48     7    62    54    14",
      "text/html": "<div>\n<style scoped>\n    .dataframe tbody tr th:only-of-type {\n        vertical-align: middle;\n    }\n\n    .dataframe tbody tr th {\n        vertical-align: top;\n    }\n\n    .dataframe thead th {\n        text-align: right;\n    }\n</style>\n<table border=\"1\" class=\"dataframe\">\n  <thead>\n    <tr style=\"text-align: right;\">\n      <th></th>\n      <th>2015</th>\n      <th>2016</th>\n      <th>2017</th>\n      <th>2018</th>\n      <th>2019</th>\n      <th>2020</th>\n    </tr>\n  </thead>\n  <tbody>\n    <tr>\n      <th>Jan</th>\n      <td>14</td>\n      <td>64</td>\n      <td>21</td>\n      <td>-5</td>\n      <td>-16</td>\n      <td>26</td>\n    </tr>\n    <tr>\n      <th>Feb</th>\n      <td>25</td>\n      <td>57</td>\n      <td>87</td>\n      <td>-16</td>\n      <td>73</td>\n      <td>-1</td>\n    </tr>\n    <tr>\n      <th>Mar</th>\n      <td>49</td>\n      <td>72</td>\n      <td>65</td>\n      <td>-17</td>\n      <td>-17</td>\n      <td>7</td>\n    </tr>\n    <tr>\n      <th>Apr</th>\n      <td>65</td>\n      <td>20</td>\n      <td>91</td>\n      <td>70</td>\n      <td>37</td>\n      <td>27</td>\n    </tr>\n    <tr>\n      <th>May</th>\n      <td>-19</td>\n      <td>74</td>\n      <td>45</td>\n      <td>2</td>\n      <td>66</td>\n      <td>22</td>\n    </tr>\n    <tr>\n      <th>Jun</th>\n      <td>55</td>\n      <td>0</td>\n      <td>-13</td>\n      <td>83</td>\n      <td>-8</td>\n      <td>62</td>\n    </tr>\n    <tr>\n      <th>Jul</th>\n      <td>9</td>\n      <td>54</td>\n      <td>35</td>\n      <td>49</td>\n      <td>79</td>\n      <td>48</td>\n    </tr>\n    <tr>\n      <th>Aug</th>\n      <td>84</td>\n      <td>51</td>\n      <td>92</td>\n      <td>67</td>\n      <td>77</td>\n      <td>63</td>\n    </tr>\n    <tr>\n      <th>Sept</th>\n      <td>-8</td>\n      <td>3</td>\n      <td>83</td>\n      <td>-1</td>\n      <td>-17</td>\n      <td>5</td>\n    </tr>\n    <tr>\n      <th>Oct</th>\n      <td>44</td>\n      <td>44</td>\n      <td>19</td>\n      <td>-3</td>\n      <td>89</td>\n      <td>-10</td>\n    </tr>\n    <tr>\n      <th>Nov</th>\n      <td>-4</td>\n      <td>4</td>\n      <td>19</td>\n      <td>30</td>\n      <td>-17</td>\n      <td>80</td>\n    </tr>\n    <tr>\n      <th>Dec</th>\n      <td>70</td>\n      <td>48</td>\n      <td>7</td>\n      <td>62</td>\n      <td>54</td>\n      <td>14</td>\n    </tr>\n  </tbody>\n</table>\n</div>"
     },
     "execution_count": 22,
     "metadata": {},
     "output_type": "execute_result"
    }
   ],
   "source": [
    "wonkyWeather = pd.DataFrame(npTemps, columns=years, index=months)\n",
    "wonkyWeather"
   ],
   "metadata": {
    "collapsed": false,
    "pycharm": {
     "name": "#%%\n"
    }
   }
  },
  {
   "cell_type": "code",
   "execution_count": 22,
   "outputs": [],
   "source": [],
   "metadata": {
    "collapsed": false,
    "pycharm": {
     "name": "#%%\n"
    }
   }
  }
 ],
 "metadata": {
  "kernelspec": {
   "display_name": "Python 3",
   "language": "python",
   "name": "python3"
  },
  "language_info": {
   "codemirror_mode": {
    "name": "ipython",
    "version": 2
   },
   "file_extension": ".py",
   "mimetype": "text/x-python",
   "name": "python",
   "nbconvert_exporter": "python",
   "pygments_lexer": "ipython2",
   "version": "2.7.6"
  }
 },
 "nbformat": 4,
 "nbformat_minor": 0
}