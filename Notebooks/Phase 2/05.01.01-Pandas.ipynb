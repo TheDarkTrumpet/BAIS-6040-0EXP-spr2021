{
 "cells": [
  {
   "cell_type": "markdown",
   "metadata": {
    "collapsed": true,
    "pycharm": {
     "name": "#%% md\n"
    }
   },
   "source": [
    "# 05.01.01 - Pandas\n",
    "\n",
    "## Purpose\n",
    "This notebook goes over Pandas basics.  Mostly generating pandas objects based off existing structures and/or creating new ones.  We'll also cover updating pandas objects.\n",
    "\n",
    "Next module we'll talk more about how to use datasets and to load it"
   ]
  },
  {
   "cell_type": "code",
   "execution_count": 1,
   "outputs": [],
   "source": [
    "# Standard naming convention\n",
    "import pandas as pd"
   ],
   "metadata": {
    "collapsed": false,
    "pycharm": {
     "name": "#%%\n"
    }
   }
  },
  {
   "cell_type": "code",
   "execution_count": 2,
   "outputs": [
    {
     "data": {
      "text/plain": "0     5\n1    10\n2    15\n3    20\ndtype: int64"
     },
     "execution_count": 2,
     "metadata": {},
     "output_type": "execute_result"
    }
   ],
   "source": [
    "# Generate 4 elements, just a range/sequence\n",
    "explicitDataSet = pd.Series([5, 10, 15, 20])\n",
    "explicitDataSet"
   ],
   "metadata": {
    "collapsed": false,
    "pycharm": {
     "name": "#%%\n"
    }
   }
  },
  {
   "cell_type": "code",
   "execution_count": 3,
   "outputs": [
    {
     "data": {
      "text/plain": "15"
     },
     "execution_count": 3,
     "metadata": {},
     "output_type": "execute_result"
    }
   ],
   "source": [
    "# To pull a single element\n",
    "explicitDataSet[2]"
   ],
   "metadata": {
    "collapsed": false,
    "pycharm": {
     "name": "#%%\n"
    }
   }
  },
  {
   "cell_type": "code",
   "execution_count": 4,
   "outputs": [
    {
     "data": {
      "text/plain": "2    15\n3    20\ndtype: int64"
     },
     "execution_count": 4,
     "metadata": {},
     "output_type": "execute_result"
    }
   ],
   "source": [
    "# To pull a range\n",
    "explicitDataSet[2:]"
   ],
   "metadata": {
    "collapsed": false,
    "pycharm": {
     "name": "#%%\n"
    }
   }
  },
  {
   "cell_type": "code",
   "execution_count": 5,
   "outputs": [
    {
     "data": {
      "text/plain": "2    15\n3    20\ndtype: int64"
     },
     "execution_count": 5,
     "metadata": {},
     "output_type": "execute_result"
    }
   ],
   "source": [
    "# We can assign to another object, just like we've seen before\n",
    "explicitDataSetSubSet = explicitDataSet[2:]\n",
    "explicitDataSetSubSet"
   ],
   "metadata": {
    "collapsed": false,
    "pycharm": {
     "name": "#%%\n"
    }
   }
  },
  {
   "cell_type": "code",
   "execution_count": 6,
   "outputs": [
    {
     "data": {
      "text/plain": "20"
     },
     "execution_count": 6,
     "metadata": {},
     "output_type": "execute_result"
    }
   ],
   "source": [
    "# Uncomment the below line and run this.\n",
    "# explicitDataSetSubSet[0] # Note this gives an error!\n",
    "explicitDataSetSubSet[3]  # only 2 rows, but index 3???"
   ],
   "metadata": {
    "collapsed": false,
    "pycharm": {
     "name": "#%%\n"
    }
   }
  },
  {
   "cell_type": "code",
   "execution_count": 7,
   "outputs": [
    {
     "data": {
      "text/plain": "RangeIndex(start=2, stop=4, step=1)"
     },
     "execution_count": 7,
     "metadata": {},
     "output_type": "execute_result"
    }
   ],
   "source": [
    "# This will list the indexes currently in the dataframe\n",
    "explicitDataSetSubSet.index"
   ],
   "metadata": {
    "collapsed": false,
    "pycharm": {
     "name": "#%%\n"
    }
   }
  },
  {
   "cell_type": "code",
   "execution_count": 8,
   "outputs": [
    {
     "data": {
      "text/plain": "2"
     },
     "execution_count": 8,
     "metadata": {},
     "output_type": "execute_result"
    }
   ],
   "source": [
    "# Gives the length of the dataFrame\n",
    "len(explicitDataSetSubSet)"
   ],
   "metadata": {
    "collapsed": false,
    "pycharm": {
     "name": "#%%\n"
    }
   }
  },
  {
   "cell_type": "code",
   "execution_count": 9,
   "outputs": [
    {
     "data": {
      "text/plain": "15"
     },
     "execution_count": 9,
     "metadata": {},
     "output_type": "execute_result"
    }
   ],
   "source": [
    "# We can get the 'true' index, as if this was a standard object\n",
    "# by using iloc\n",
    "explicitDataSetSubSet.iloc[0] # This is what we expect"
   ],
   "metadata": {
    "collapsed": false,
    "pycharm": {
     "name": "#%%\n"
    }
   }
  },
  {
   "cell_type": "code",
   "execution_count": 10,
   "outputs": [
    {
     "data": {
      "text/plain": "0    15\n1    20\ndtype: int64"
     },
     "execution_count": 10,
     "metadata": {},
     "output_type": "execute_result"
    }
   ],
   "source": [
    "# We may want to reset the index to make things consistent\n",
    "# Note, this works, but returns a new dataframe\n",
    "explicitDataSetSubSet.reset_index(drop=True)"
   ],
   "metadata": {
    "collapsed": false,
    "pycharm": {
     "name": "#%%\n"
    }
   }
  },
  {
   "cell_type": "code",
   "execution_count": 11,
   "outputs": [
    {
     "data": {
      "text/plain": "2    15\n3    20\ndtype: int64"
     },
     "execution_count": 11,
     "metadata": {},
     "output_type": "execute_result"
    }
   ],
   "source": [
    "explicitDataSetSubSet"
   ],
   "metadata": {
    "collapsed": false,
    "pycharm": {
     "name": "#%%\n"
    }
   }
  },
  {
   "cell_type": "code",
   "execution_count": 12,
   "outputs": [
    {
     "data": {
      "text/plain": "0    15\n1    20\ndtype: int64"
     },
     "execution_count": 12,
     "metadata": {},
     "output_type": "execute_result"
    }
   ],
   "source": [
    "# We can use inplace to overwrite our current dataframe\n",
    "explicitDataSetSubSet.reset_index(inplace=True, drop=True)\n",
    "explicitDataSetSubSet"
   ],
   "metadata": {
    "collapsed": false,
    "pycharm": {
     "name": "#%%\n"
    }
   }
  },
  {
   "cell_type": "markdown",
   "source": [
    "The important part of the above activity is to realize that Pandas has a separate index, than the index we're normally aware of.  This can cause some confusion, hence the rather verbose example list.  So just remember, index in Pandas language isn't the same as index as in a list, or in numpy, etc\n",
    "\n",
    "Indexes can actually be more than just numbers, so lets try that."
   ],
   "metadata": {
    "collapsed": false,
    "pycharm": {
     "name": "#%% md\n"
    }
   }
  },
  {
   "cell_type": "code",
   "execution_count": 13,
   "outputs": [
    {
     "data": {
      "text/plain": "0     5\n1    10\n2    15\n3    20\ndtype: int64"
     },
     "execution_count": 13,
     "metadata": {},
     "output_type": "execute_result"
    }
   ],
   "source": [
    "explicitDataSet"
   ],
   "metadata": {
    "collapsed": false,
    "pycharm": {
     "name": "#%%\n"
    }
   }
  },
  {
   "cell_type": "code",
   "execution_count": 14,
   "outputs": [
    {
     "data": {
      "text/plain": "Foo     5\nBar    10\nCar    15\nZar    20\ndtype: int64"
     },
     "execution_count": 14,
     "metadata": {},
     "output_type": "execute_result"
    }
   ],
   "source": [
    "explicitDataSet.index = [\"Foo\", \"Bar\", \"Car\", \"Zar\"]\n",
    "explicitDataSet"
   ],
   "metadata": {
    "collapsed": false,
    "pycharm": {
     "name": "#%%\n"
    }
   }
  },
  {
   "cell_type": "code",
   "execution_count": 15,
   "outputs": [
    {
     "name": "stdout",
     "output_type": "stream",
     "text": [
      "explicitDataSet['Foo'] => 5\n",
      "explicitDataSet.iloc[0] => 5\n"
     ]
    }
   ],
   "source": [
    "# Now we can reference the rows two different ways:\n",
    "print(f\"explicitDataSet['Foo'] => {explicitDataSet['Foo']}\")\n",
    "print(f\"explicitDataSet.iloc[0] => {explicitDataSet.iloc[0]}\")"
   ],
   "metadata": {
    "collapsed": false,
    "pycharm": {
     "name": "#%%\n"
    }
   }
  },
  {
   "cell_type": "code",
   "execution_count": 16,
   "outputs": [],
   "source": [
    "# We don't have to cast, in some cases - pay attention to the below\n",
    "explicitDataSet['Foo'] = \"105\""
   ],
   "metadata": {
    "collapsed": false,
    "pycharm": {
     "name": "#%%\n"
    }
   }
  },
  {
   "cell_type": "code",
   "execution_count": 17,
   "outputs": [
    {
     "data": {
      "text/plain": "Foo    105\nBar     10\nCar     15\nZar     20\ndtype: int64"
     },
     "execution_count": 17,
     "metadata": {},
     "output_type": "execute_result"
    }
   ],
   "source": [
    "explicitDataSet\n"
   ],
   "metadata": {
    "collapsed": false,
    "pycharm": {
     "name": "#%%\n"
    }
   }
  },
  {
   "cell_type": "code",
   "execution_count": 18,
   "outputs": [
    {
     "data": {
      "text/plain": "Foo    Hello, world\nBar              10\nCar              15\nZar              20\ndtype: object"
     },
     "execution_count": 18,
     "metadata": {},
     "output_type": "execute_result"
    }
   ],
   "source": [
    "# We're still in dynamic line, but watch the dtype in this case\n",
    "# Went from dtype: int64 -> object\n",
    "explicitDataSet[\"Foo\"] = \"Hello, world\"\n",
    "explicitDataSet"
   ],
   "metadata": {
    "collapsed": false,
    "pycharm": {
     "name": "#%%\n"
    }
   }
  },
  {
   "cell_type": "markdown",
   "source": [
    "In general, it's bad to mix data types.  Pay close attention to the below \"filter\".  In this case\n",
    "we are searching for all values that are greater than 10.  This doesn't work because Foo => 'Hello, world'."
   ],
   "metadata": {
    "collapsed": false,
    "pycharm": {
     "name": "#%% md\n"
    }
   }
  },
  {
   "cell_type": "code",
   "execution_count": 19,
   "outputs": [],
   "source": [
    "# Uncomment out and run, to see the error message\n",
    "# explicitDataSet[(explicitDataSet > 10)]"
   ],
   "metadata": {
    "collapsed": false,
    "pycharm": {
     "name": "#%%\n"
    }
   }
  },
  {
   "cell_type": "code",
   "execution_count": 20,
   "outputs": [
    {
     "data": {
      "text/plain": "Car    15\nZar    20\ndtype: int64"
     },
     "execution_count": 20,
     "metadata": {},
     "output_type": "execute_result"
    }
   ],
   "source": [
    "explicitDataSet = pd.Series([5, 10, 15, 20])\n",
    "explicitDataSet.index = [\"Foo\", \"Bar\", \"Car\", \"Zar\"]\n",
    "explicitDataSet[(explicitDataSet > 10)]"
   ],
   "metadata": {
    "collapsed": false,
    "pycharm": {
     "name": "#%%\n"
    }
   }
  },
  {
   "cell_type": "markdown",
   "source": [
    "Thus far, data frames don't have much use. Lets make a more complicated data source"
   ],
   "metadata": {
    "collapsed": false,
    "pycharm": {
     "name": "#%% md\n"
    }
   }
  },
  {
   "cell_type": "code",
   "execution_count": 21,
   "outputs": [
    {
     "data": {
      "text/plain": "array([[ 39,  -3,  77,  88,  81,  69],\n       [ 77,  60,  57,  12,  47,  30],\n       [ 76,   3,  68,  23,  53, -11],\n       [ 99,  45,  -2,  79,  39,  49],\n       [ 28,  17,  49,   7,  -1,  28],\n       [ -7,  10,  98,  41,  34,  27],\n       [ 56, -15,  39,  50,   0,  32],\n       [ 77,  92,  -5,  45,  20,   6],\n       [ 70,   7,  19,  74,  -8,  -4],\n       [ 61, -11,  71,   6, -17,   1],\n       [ -7,  18,  43,  -4,  60,  84],\n       [ -5,  69,  50,  16,  93,  19]])"
     },
     "execution_count": 21,
     "metadata": {},
     "output_type": "execute_result"
    }
   ],
   "source": [
    "import numpy.random as rnd\n",
    "# Generate some fixture data\n",
    "months = [\"Jan\", \"Feb\", \"Mar\", \"Apr\", \"May\", \"Jun\", \"Jul\", \"Aug\", \"Sept\", \"Oct\", \"Nov\", \"Dec\"]\n",
    "years = [2015, 2016, 2017, 2018, 2019, 2020]\n",
    "\n",
    "rnd.seed(1024)\n",
    "\n",
    "npTemps = rnd.randint(-20, 100, size=(len(months), len(years)))\n",
    "npTemps"
   ],
   "metadata": {
    "collapsed": false,
    "pycharm": {
     "name": "#%%\n"
    }
   }
  },
  {
   "cell_type": "code",
   "execution_count": 22,
   "outputs": [
    {
     "data": {
      "text/plain": "      2015  2016  2017  2018  2019  2020\nJan     39    -3    77    88    81    69\nFeb     77    60    57    12    47    30\nMar     76     3    68    23    53   -11\nApr     99    45    -2    79    39    49\nMay     28    17    49     7    -1    28\nJun     -7    10    98    41    34    27\nJul     56   -15    39    50     0    32\nAug     77    92    -5    45    20     6\nSept    70     7    19    74    -8    -4\nOct     61   -11    71     6   -17     1\nNov     -7    18    43    -4    60    84\nDec     -5    69    50    16    93    19",
      "text/html": "<div>\n<style scoped>\n    .dataframe tbody tr th:only-of-type {\n        vertical-align: middle;\n    }\n\n    .dataframe tbody tr th {\n        vertical-align: top;\n    }\n\n    .dataframe thead th {\n        text-align: right;\n    }\n</style>\n<table border=\"1\" class=\"dataframe\">\n  <thead>\n    <tr style=\"text-align: right;\">\n      <th></th>\n      <th>2015</th>\n      <th>2016</th>\n      <th>2017</th>\n      <th>2018</th>\n      <th>2019</th>\n      <th>2020</th>\n    </tr>\n  </thead>\n  <tbody>\n    <tr>\n      <th>Jan</th>\n      <td>39</td>\n      <td>-3</td>\n      <td>77</td>\n      <td>88</td>\n      <td>81</td>\n      <td>69</td>\n    </tr>\n    <tr>\n      <th>Feb</th>\n      <td>77</td>\n      <td>60</td>\n      <td>57</td>\n      <td>12</td>\n      <td>47</td>\n      <td>30</td>\n    </tr>\n    <tr>\n      <th>Mar</th>\n      <td>76</td>\n      <td>3</td>\n      <td>68</td>\n      <td>23</td>\n      <td>53</td>\n      <td>-11</td>\n    </tr>\n    <tr>\n      <th>Apr</th>\n      <td>99</td>\n      <td>45</td>\n      <td>-2</td>\n      <td>79</td>\n      <td>39</td>\n      <td>49</td>\n    </tr>\n    <tr>\n      <th>May</th>\n      <td>28</td>\n      <td>17</td>\n      <td>49</td>\n      <td>7</td>\n      <td>-1</td>\n      <td>28</td>\n    </tr>\n    <tr>\n      <th>Jun</th>\n      <td>-7</td>\n      <td>10</td>\n      <td>98</td>\n      <td>41</td>\n      <td>34</td>\n      <td>27</td>\n    </tr>\n    <tr>\n      <th>Jul</th>\n      <td>56</td>\n      <td>-15</td>\n      <td>39</td>\n      <td>50</td>\n      <td>0</td>\n      <td>32</td>\n    </tr>\n    <tr>\n      <th>Aug</th>\n      <td>77</td>\n      <td>92</td>\n      <td>-5</td>\n      <td>45</td>\n      <td>20</td>\n      <td>6</td>\n    </tr>\n    <tr>\n      <th>Sept</th>\n      <td>70</td>\n      <td>7</td>\n      <td>19</td>\n      <td>74</td>\n      <td>-8</td>\n      <td>-4</td>\n    </tr>\n    <tr>\n      <th>Oct</th>\n      <td>61</td>\n      <td>-11</td>\n      <td>71</td>\n      <td>6</td>\n      <td>-17</td>\n      <td>1</td>\n    </tr>\n    <tr>\n      <th>Nov</th>\n      <td>-7</td>\n      <td>18</td>\n      <td>43</td>\n      <td>-4</td>\n      <td>60</td>\n      <td>84</td>\n    </tr>\n    <tr>\n      <th>Dec</th>\n      <td>-5</td>\n      <td>69</td>\n      <td>50</td>\n      <td>16</td>\n      <td>93</td>\n      <td>19</td>\n    </tr>\n  </tbody>\n</table>\n</div>"
     },
     "execution_count": 22,
     "metadata": {},
     "output_type": "execute_result"
    }
   ],
   "source": [
    "wonkyWeather = pd.DataFrame(npTemps, columns=years, index=months)\n",
    "wonkyWeather"
   ],
   "metadata": {
    "collapsed": false,
    "pycharm": {
     "name": "#%%\n"
    }
   }
  },
  {
   "cell_type": "markdown",
   "source": [
    "There are many ways to pull information from a Pandas dataframe.  Some methods are:"
   ],
   "metadata": {
    "collapsed": false,
    "pycharm": {
     "name": "#%% md\n"
    }
   }
  },
  {
   "cell_type": "code",
   "execution_count": 23,
   "outputs": [
    {
     "data": {
      "text/plain": "Jan     39\nFeb     77\nMar     76\nApr     99\nMay     28\nJun     -7\nJul     56\nAug     77\nSept    70\nOct     61\nNov     -7\nDec     -5\nName: 2015, dtype: int64"
     },
     "execution_count": 23,
     "metadata": {},
     "output_type": "execute_result"
    }
   ],
   "source": [
    "# Query a single column\n",
    "wonkyWeather[2015]"
   ],
   "metadata": {
    "collapsed": false,
    "pycharm": {
     "name": "#%%\n"
    }
   }
  },
  {
   "cell_type": "code",
   "execution_count": 24,
   "outputs": [
    {
     "data": {
      "text/plain": "      2015  2020\nJan     39    69\nFeb     77    30\nMar     76   -11\nApr     99    49\nMay     28    28\nJun     -7    27\nJul     56    32\nAug     77     6\nSept    70    -4\nOct     61     1\nNov     -7    84\nDec     -5    19",
      "text/html": "<div>\n<style scoped>\n    .dataframe tbody tr th:only-of-type {\n        vertical-align: middle;\n    }\n\n    .dataframe tbody tr th {\n        vertical-align: top;\n    }\n\n    .dataframe thead th {\n        text-align: right;\n    }\n</style>\n<table border=\"1\" class=\"dataframe\">\n  <thead>\n    <tr style=\"text-align: right;\">\n      <th></th>\n      <th>2015</th>\n      <th>2020</th>\n    </tr>\n  </thead>\n  <tbody>\n    <tr>\n      <th>Jan</th>\n      <td>39</td>\n      <td>69</td>\n    </tr>\n    <tr>\n      <th>Feb</th>\n      <td>77</td>\n      <td>30</td>\n    </tr>\n    <tr>\n      <th>Mar</th>\n      <td>76</td>\n      <td>-11</td>\n    </tr>\n    <tr>\n      <th>Apr</th>\n      <td>99</td>\n      <td>49</td>\n    </tr>\n    <tr>\n      <th>May</th>\n      <td>28</td>\n      <td>28</td>\n    </tr>\n    <tr>\n      <th>Jun</th>\n      <td>-7</td>\n      <td>27</td>\n    </tr>\n    <tr>\n      <th>Jul</th>\n      <td>56</td>\n      <td>32</td>\n    </tr>\n    <tr>\n      <th>Aug</th>\n      <td>77</td>\n      <td>6</td>\n    </tr>\n    <tr>\n      <th>Sept</th>\n      <td>70</td>\n      <td>-4</td>\n    </tr>\n    <tr>\n      <th>Oct</th>\n      <td>61</td>\n      <td>1</td>\n    </tr>\n    <tr>\n      <th>Nov</th>\n      <td>-7</td>\n      <td>84</td>\n    </tr>\n    <tr>\n      <th>Dec</th>\n      <td>-5</td>\n      <td>19</td>\n    </tr>\n  </tbody>\n</table>\n</div>"
     },
     "execution_count": 24,
     "metadata": {},
     "output_type": "execute_result"
    }
   ],
   "source": [
    "# Query multiple columns\n",
    "wonkyWeather[[2015, 2020]]"
   ],
   "metadata": {
    "collapsed": false,
    "pycharm": {
     "name": "#%%\n"
    }
   }
  },
  {
   "cell_type": "code",
   "execution_count": 25,
   "outputs": [
    {
     "data": {
      "text/plain": "2015    39\n2016    -3\n2017    77\n2018    88\n2019    81\n2020    69\nName: Jan, dtype: int64"
     },
     "execution_count": 25,
     "metadata": {},
     "output_type": "execute_result"
    }
   ],
   "source": [
    "# Getting a row\n",
    "wonkyWeather.loc[\"Jan\"]"
   ],
   "metadata": {
    "collapsed": false,
    "pycharm": {
     "name": "#%%\n"
    }
   }
  },
  {
   "cell_type": "code",
   "execution_count": 26,
   "outputs": [
    {
     "data": {
      "text/plain": "2015    39\n2016    -3\n2017    77\n2018    88\n2019    81\n2020    69\nName: Jan, dtype: int64"
     },
     "execution_count": 26,
     "metadata": {},
     "output_type": "execute_result"
    }
   ],
   "source": [
    "# Another way to get a row\n",
    "wonkyWeather.iloc[0]"
   ],
   "metadata": {
    "collapsed": false,
    "pycharm": {
     "name": "#%%\n"
    }
   }
  },
  {
   "cell_type": "code",
   "execution_count": 27,
   "outputs": [
    {
     "data": {
      "text/plain": "     2015  2016  2017  2018  2019  2020\nJan    39    -3    77    88    81    69\nMar    76     3    68    23    53   -11",
      "text/html": "<div>\n<style scoped>\n    .dataframe tbody tr th:only-of-type {\n        vertical-align: middle;\n    }\n\n    .dataframe tbody tr th {\n        vertical-align: top;\n    }\n\n    .dataframe thead th {\n        text-align: right;\n    }\n</style>\n<table border=\"1\" class=\"dataframe\">\n  <thead>\n    <tr style=\"text-align: right;\">\n      <th></th>\n      <th>2015</th>\n      <th>2016</th>\n      <th>2017</th>\n      <th>2018</th>\n      <th>2019</th>\n      <th>2020</th>\n    </tr>\n  </thead>\n  <tbody>\n    <tr>\n      <th>Jan</th>\n      <td>39</td>\n      <td>-3</td>\n      <td>77</td>\n      <td>88</td>\n      <td>81</td>\n      <td>69</td>\n    </tr>\n    <tr>\n      <th>Mar</th>\n      <td>76</td>\n      <td>3</td>\n      <td>68</td>\n      <td>23</td>\n      <td>53</td>\n      <td>-11</td>\n    </tr>\n  </tbody>\n</table>\n</div>"
     },
     "execution_count": 27,
     "metadata": {},
     "output_type": "execute_result"
    }
   ],
   "source": [
    "# Getting multiple rows work like columns\n",
    "wonkyWeather.loc[[\"Jan\", \"Mar\"]]"
   ],
   "metadata": {
    "collapsed": false,
    "pycharm": {
     "name": "#%%\n"
    }
   }
  },
  {
   "cell_type": "code",
   "execution_count": 28,
   "outputs": [
    {
     "data": {
      "text/plain": "     2015  2016  2017  2018  2019  2020\nJan    39    -3    77    88    81    69\nFeb    77    60    57    12    47    30\nMar    76     3    68    23    53   -11\nApr    99    45    -2    79    39    49",
      "text/html": "<div>\n<style scoped>\n    .dataframe tbody tr th:only-of-type {\n        vertical-align: middle;\n    }\n\n    .dataframe tbody tr th {\n        vertical-align: top;\n    }\n\n    .dataframe thead th {\n        text-align: right;\n    }\n</style>\n<table border=\"1\" class=\"dataframe\">\n  <thead>\n    <tr style=\"text-align: right;\">\n      <th></th>\n      <th>2015</th>\n      <th>2016</th>\n      <th>2017</th>\n      <th>2018</th>\n      <th>2019</th>\n      <th>2020</th>\n    </tr>\n  </thead>\n  <tbody>\n    <tr>\n      <th>Jan</th>\n      <td>39</td>\n      <td>-3</td>\n      <td>77</td>\n      <td>88</td>\n      <td>81</td>\n      <td>69</td>\n    </tr>\n    <tr>\n      <th>Feb</th>\n      <td>77</td>\n      <td>60</td>\n      <td>57</td>\n      <td>12</td>\n      <td>47</td>\n      <td>30</td>\n    </tr>\n    <tr>\n      <th>Mar</th>\n      <td>76</td>\n      <td>3</td>\n      <td>68</td>\n      <td>23</td>\n      <td>53</td>\n      <td>-11</td>\n    </tr>\n    <tr>\n      <th>Apr</th>\n      <td>99</td>\n      <td>45</td>\n      <td>-2</td>\n      <td>79</td>\n      <td>39</td>\n      <td>49</td>\n    </tr>\n  </tbody>\n</table>\n</div>"
     },
     "execution_count": 28,
     "metadata": {},
     "output_type": "execute_result"
    }
   ],
   "source": [
    "wonkyWeather.iloc[0:4]"
   ],
   "metadata": {
    "collapsed": false,
    "pycharm": {
     "name": "#%%\n"
    }
   }
  },
  {
   "cell_type": "code",
   "execution_count": 29,
   "outputs": [
    {
     "data": {
      "text/plain": "      2015  2016  2017  2018  2019  2020\nJan     39    -3    77    88    81    69\nMar     76     3    68    23    53   -11\nMay     28    17    49     7    -1    28\nJul     56   -15    39    50     0    32\nSept    70     7    19    74    -8    -4\nNov     -7    18    43    -4    60    84",
      "text/html": "<div>\n<style scoped>\n    .dataframe tbody tr th:only-of-type {\n        vertical-align: middle;\n    }\n\n    .dataframe tbody tr th {\n        vertical-align: top;\n    }\n\n    .dataframe thead th {\n        text-align: right;\n    }\n</style>\n<table border=\"1\" class=\"dataframe\">\n  <thead>\n    <tr style=\"text-align: right;\">\n      <th></th>\n      <th>2015</th>\n      <th>2016</th>\n      <th>2017</th>\n      <th>2018</th>\n      <th>2019</th>\n      <th>2020</th>\n    </tr>\n  </thead>\n  <tbody>\n    <tr>\n      <th>Jan</th>\n      <td>39</td>\n      <td>-3</td>\n      <td>77</td>\n      <td>88</td>\n      <td>81</td>\n      <td>69</td>\n    </tr>\n    <tr>\n      <th>Mar</th>\n      <td>76</td>\n      <td>3</td>\n      <td>68</td>\n      <td>23</td>\n      <td>53</td>\n      <td>-11</td>\n    </tr>\n    <tr>\n      <th>May</th>\n      <td>28</td>\n      <td>17</td>\n      <td>49</td>\n      <td>7</td>\n      <td>-1</td>\n      <td>28</td>\n    </tr>\n    <tr>\n      <th>Jul</th>\n      <td>56</td>\n      <td>-15</td>\n      <td>39</td>\n      <td>50</td>\n      <td>0</td>\n      <td>32</td>\n    </tr>\n    <tr>\n      <th>Sept</th>\n      <td>70</td>\n      <td>7</td>\n      <td>19</td>\n      <td>74</td>\n      <td>-8</td>\n      <td>-4</td>\n    </tr>\n    <tr>\n      <th>Nov</th>\n      <td>-7</td>\n      <td>18</td>\n      <td>43</td>\n      <td>-4</td>\n      <td>60</td>\n      <td>84</td>\n    </tr>\n  </tbody>\n</table>\n</div>"
     },
     "execution_count": 29,
     "metadata": {},
     "output_type": "execute_result"
    }
   ],
   "source": [
    "# Every other month\n",
    "wonkyWeather.iloc[range(0, 12, 2)]"
   ],
   "metadata": {
    "collapsed": false,
    "pycharm": {
     "name": "#%%\n"
    }
   }
  },
  {
   "cell_type": "code",
   "execution_count": 30,
   "outputs": [
    {
     "data": {
      "text/plain": "Jan     69\nMar    -11\nMay     28\nJul     32\nSept    -4\nNov     84\nName: 2020, dtype: int64"
     },
     "execution_count": 30,
     "metadata": {},
     "output_type": "execute_result"
    }
   ],
   "source": [
    "# Combining Filtering - every other month in 2020\n",
    "wonkyWeather[2020].iloc[range(0, 12, 2)]"
   ],
   "metadata": {
    "collapsed": false,
    "pycharm": {
     "name": "#%%\n"
    }
   }
  },
  {
   "cell_type": "markdown",
   "source": [
    "We can also filter information from the dataframe as well"
   ],
   "metadata": {
    "collapsed": false,
    "pycharm": {
     "name": "#%% md\n"
    }
   }
  },
  {
   "cell_type": "code",
   "execution_count": 31,
   "outputs": [
    {
     "data": {
      "text/plain": "      2015  2016  2017  2018  2019  2020\nJan   39.0   NaN  77.0  88.0  81.0  69.0\nFeb   77.0  60.0  57.0  12.0  47.0  30.0\nMar   76.0   3.0  68.0  23.0  53.0   NaN\nApr   99.0  45.0   NaN  79.0  39.0  49.0\nMay   28.0  17.0  49.0   7.0   NaN  28.0\nJun    NaN  10.0  98.0  41.0  34.0  27.0\nJul   56.0   NaN  39.0  50.0   NaN  32.0\nAug   77.0  92.0   NaN  45.0  20.0   6.0\nSept  70.0   7.0  19.0  74.0   NaN   NaN\nOct   61.0   NaN  71.0   6.0   NaN   1.0\nNov    NaN  18.0  43.0   NaN  60.0  84.0\nDec    NaN  69.0  50.0  16.0  93.0  19.0",
      "text/html": "<div>\n<style scoped>\n    .dataframe tbody tr th:only-of-type {\n        vertical-align: middle;\n    }\n\n    .dataframe tbody tr th {\n        vertical-align: top;\n    }\n\n    .dataframe thead th {\n        text-align: right;\n    }\n</style>\n<table border=\"1\" class=\"dataframe\">\n  <thead>\n    <tr style=\"text-align: right;\">\n      <th></th>\n      <th>2015</th>\n      <th>2016</th>\n      <th>2017</th>\n      <th>2018</th>\n      <th>2019</th>\n      <th>2020</th>\n    </tr>\n  </thead>\n  <tbody>\n    <tr>\n      <th>Jan</th>\n      <td>39.0</td>\n      <td>NaN</td>\n      <td>77.0</td>\n      <td>88.0</td>\n      <td>81.0</td>\n      <td>69.0</td>\n    </tr>\n    <tr>\n      <th>Feb</th>\n      <td>77.0</td>\n      <td>60.0</td>\n      <td>57.0</td>\n      <td>12.0</td>\n      <td>47.0</td>\n      <td>30.0</td>\n    </tr>\n    <tr>\n      <th>Mar</th>\n      <td>76.0</td>\n      <td>3.0</td>\n      <td>68.0</td>\n      <td>23.0</td>\n      <td>53.0</td>\n      <td>NaN</td>\n    </tr>\n    <tr>\n      <th>Apr</th>\n      <td>99.0</td>\n      <td>45.0</td>\n      <td>NaN</td>\n      <td>79.0</td>\n      <td>39.0</td>\n      <td>49.0</td>\n    </tr>\n    <tr>\n      <th>May</th>\n      <td>28.0</td>\n      <td>17.0</td>\n      <td>49.0</td>\n      <td>7.0</td>\n      <td>NaN</td>\n      <td>28.0</td>\n    </tr>\n    <tr>\n      <th>Jun</th>\n      <td>NaN</td>\n      <td>10.0</td>\n      <td>98.0</td>\n      <td>41.0</td>\n      <td>34.0</td>\n      <td>27.0</td>\n    </tr>\n    <tr>\n      <th>Jul</th>\n      <td>56.0</td>\n      <td>NaN</td>\n      <td>39.0</td>\n      <td>50.0</td>\n      <td>NaN</td>\n      <td>32.0</td>\n    </tr>\n    <tr>\n      <th>Aug</th>\n      <td>77.0</td>\n      <td>92.0</td>\n      <td>NaN</td>\n      <td>45.0</td>\n      <td>20.0</td>\n      <td>6.0</td>\n    </tr>\n    <tr>\n      <th>Sept</th>\n      <td>70.0</td>\n      <td>7.0</td>\n      <td>19.0</td>\n      <td>74.0</td>\n      <td>NaN</td>\n      <td>NaN</td>\n    </tr>\n    <tr>\n      <th>Oct</th>\n      <td>61.0</td>\n      <td>NaN</td>\n      <td>71.0</td>\n      <td>6.0</td>\n      <td>NaN</td>\n      <td>1.0</td>\n    </tr>\n    <tr>\n      <th>Nov</th>\n      <td>NaN</td>\n      <td>18.0</td>\n      <td>43.0</td>\n      <td>NaN</td>\n      <td>60.0</td>\n      <td>84.0</td>\n    </tr>\n    <tr>\n      <th>Dec</th>\n      <td>NaN</td>\n      <td>69.0</td>\n      <td>50.0</td>\n      <td>16.0</td>\n      <td>93.0</td>\n      <td>19.0</td>\n    </tr>\n  </tbody>\n</table>\n</div>"
     },
     "execution_count": 31,
     "metadata": {},
     "output_type": "execute_result"
    }
   ],
   "source": [
    "# Filter off every column.  Note the NaNs going on\n",
    "wonkyWeather[(wonkyWeather > 0)]"
   ],
   "metadata": {
    "collapsed": false,
    "pycharm": {
     "name": "#%%\n"
    }
   }
  },
  {
   "cell_type": "code",
   "execution_count": 32,
   "outputs": [
    {
     "data": {
      "text/plain": "      2015  2016  2017  2018  2019  2020\nJan     39    -3    77    88    81    69\nFeb     77    60    57    12    47    30\nMar     76     3    68    23    53   -11\nApr     99    45    -2    79    39    49\nMay     28    17    49     7    -1    28\nJul     56   -15    39    50     0    32\nAug     77    92    -5    45    20     6\nSept    70     7    19    74    -8    -4\nOct     61   -11    71     6   -17     1",
      "text/html": "<div>\n<style scoped>\n    .dataframe tbody tr th:only-of-type {\n        vertical-align: middle;\n    }\n\n    .dataframe tbody tr th {\n        vertical-align: top;\n    }\n\n    .dataframe thead th {\n        text-align: right;\n    }\n</style>\n<table border=\"1\" class=\"dataframe\">\n  <thead>\n    <tr style=\"text-align: right;\">\n      <th></th>\n      <th>2015</th>\n      <th>2016</th>\n      <th>2017</th>\n      <th>2018</th>\n      <th>2019</th>\n      <th>2020</th>\n    </tr>\n  </thead>\n  <tbody>\n    <tr>\n      <th>Jan</th>\n      <td>39</td>\n      <td>-3</td>\n      <td>77</td>\n      <td>88</td>\n      <td>81</td>\n      <td>69</td>\n    </tr>\n    <tr>\n      <th>Feb</th>\n      <td>77</td>\n      <td>60</td>\n      <td>57</td>\n      <td>12</td>\n      <td>47</td>\n      <td>30</td>\n    </tr>\n    <tr>\n      <th>Mar</th>\n      <td>76</td>\n      <td>3</td>\n      <td>68</td>\n      <td>23</td>\n      <td>53</td>\n      <td>-11</td>\n    </tr>\n    <tr>\n      <th>Apr</th>\n      <td>99</td>\n      <td>45</td>\n      <td>-2</td>\n      <td>79</td>\n      <td>39</td>\n      <td>49</td>\n    </tr>\n    <tr>\n      <th>May</th>\n      <td>28</td>\n      <td>17</td>\n      <td>49</td>\n      <td>7</td>\n      <td>-1</td>\n      <td>28</td>\n    </tr>\n    <tr>\n      <th>Jul</th>\n      <td>56</td>\n      <td>-15</td>\n      <td>39</td>\n      <td>50</td>\n      <td>0</td>\n      <td>32</td>\n    </tr>\n    <tr>\n      <th>Aug</th>\n      <td>77</td>\n      <td>92</td>\n      <td>-5</td>\n      <td>45</td>\n      <td>20</td>\n      <td>6</td>\n    </tr>\n    <tr>\n      <th>Sept</th>\n      <td>70</td>\n      <td>7</td>\n      <td>19</td>\n      <td>74</td>\n      <td>-8</td>\n      <td>-4</td>\n    </tr>\n    <tr>\n      <th>Oct</th>\n      <td>61</td>\n      <td>-11</td>\n      <td>71</td>\n      <td>6</td>\n      <td>-17</td>\n      <td>1</td>\n    </tr>\n  </tbody>\n</table>\n</div>"
     },
     "execution_count": 32,
     "metadata": {},
     "output_type": "execute_result"
    }
   ],
   "source": [
    "# Get months where, in 2015, the temperature was > 0\n",
    "# Note we are missing june, nov, dec\n",
    "wonkyWeather[(wonkyWeather[2015] > 0)]"
   ],
   "metadata": {
    "collapsed": false,
    "pycharm": {
     "name": "#%%\n"
    }
   }
  },
  {
   "cell_type": "code",
   "execution_count": 33,
   "outputs": [
    {
     "data": {
      "text/plain": "      2015  2016  2017  2018  2019  2020\nJan     39    -3    77    88    81    69\nFeb     77    60    57    12    47    30\nMar     76     3    68    23    53   -11\nApr     99    45    -2    79    39    49\nMay     28    17    49     7    -1    28\nJul     56   -15    39    50     0    32\nAug     77    92    -5    45    20     6\nSept    70     7    19    74    -8    -4\nOct     61   -11    71     6   -17     1",
      "text/html": "<div>\n<style scoped>\n    .dataframe tbody tr th:only-of-type {\n        vertical-align: middle;\n    }\n\n    .dataframe tbody tr th {\n        vertical-align: top;\n    }\n\n    .dataframe thead th {\n        text-align: right;\n    }\n</style>\n<table border=\"1\" class=\"dataframe\">\n  <thead>\n    <tr style=\"text-align: right;\">\n      <th></th>\n      <th>2015</th>\n      <th>2016</th>\n      <th>2017</th>\n      <th>2018</th>\n      <th>2019</th>\n      <th>2020</th>\n    </tr>\n  </thead>\n  <tbody>\n    <tr>\n      <th>Jan</th>\n      <td>39</td>\n      <td>-3</td>\n      <td>77</td>\n      <td>88</td>\n      <td>81</td>\n      <td>69</td>\n    </tr>\n    <tr>\n      <th>Feb</th>\n      <td>77</td>\n      <td>60</td>\n      <td>57</td>\n      <td>12</td>\n      <td>47</td>\n      <td>30</td>\n    </tr>\n    <tr>\n      <th>Mar</th>\n      <td>76</td>\n      <td>3</td>\n      <td>68</td>\n      <td>23</td>\n      <td>53</td>\n      <td>-11</td>\n    </tr>\n    <tr>\n      <th>Apr</th>\n      <td>99</td>\n      <td>45</td>\n      <td>-2</td>\n      <td>79</td>\n      <td>39</td>\n      <td>49</td>\n    </tr>\n    <tr>\n      <th>May</th>\n      <td>28</td>\n      <td>17</td>\n      <td>49</td>\n      <td>7</td>\n      <td>-1</td>\n      <td>28</td>\n    </tr>\n    <tr>\n      <th>Jul</th>\n      <td>56</td>\n      <td>-15</td>\n      <td>39</td>\n      <td>50</td>\n      <td>0</td>\n      <td>32</td>\n    </tr>\n    <tr>\n      <th>Aug</th>\n      <td>77</td>\n      <td>92</td>\n      <td>-5</td>\n      <td>45</td>\n      <td>20</td>\n      <td>6</td>\n    </tr>\n    <tr>\n      <th>Sept</th>\n      <td>70</td>\n      <td>7</td>\n      <td>19</td>\n      <td>74</td>\n      <td>-8</td>\n      <td>-4</td>\n    </tr>\n    <tr>\n      <th>Oct</th>\n      <td>61</td>\n      <td>-11</td>\n      <td>71</td>\n      <td>6</td>\n      <td>-17</td>\n      <td>1</td>\n    </tr>\n  </tbody>\n</table>\n</div>"
     },
     "execution_count": 33,
     "metadata": {},
     "output_type": "execute_result"
    }
   ],
   "source": [
    "wonkyWeather[lambda d: d[2015] > 0]"
   ],
   "metadata": {
    "collapsed": false,
    "pycharm": {
     "name": "#%%\n"
    }
   }
  },
  {
   "cell_type": "code",
   "execution_count": 34,
   "outputs": [
    {
     "data": {
      "text/plain": "2015    56\n2017    39\n2018    50\n2020    32\nName: Jul, dtype: int64"
     },
     "execution_count": 34,
     "metadata": {},
     "output_type": "execute_result"
    }
   ],
   "source": [
    "# Get all years where July's temp was greater than 0\n",
    "julyGreaterZero = wonkyWeather.loc['Jul'][lambda d: d > 0]\n",
    "julyGreaterZero"
   ],
   "metadata": {
    "collapsed": false,
    "pycharm": {
     "name": "#%%\n"
    }
   }
  },
  {
   "cell_type": "code",
   "execution_count": 35,
   "outputs": [
    {
     "name": "stdout",
     "output_type": "stream",
     "text": [
      "type of julyGreaterZero => <class 'pandas.core.series.Series'>\n",
      "type of wonkyWeather => <class 'pandas.core.frame.DataFrame'>\n"
     ]
    }
   ],
   "source": [
    "print(f\"type of julyGreaterZero => {type(julyGreaterZero)}\")\n",
    "print(f\"type of wonkyWeather => {type(wonkyWeather)}\")"
   ],
   "metadata": {
    "collapsed": false,
    "pycharm": {
     "name": "#%%\n"
    }
   }
  },
  {
   "cell_type": "code",
   "execution_count": 36,
   "outputs": [
    {
     "data": {
      "text/plain": "2015    56\n2016   -15\n2017    39\n2018    50\n2019     0\n2020    32\nName: Jul, dtype: int64"
     },
     "execution_count": 36,
     "metadata": {},
     "output_type": "execute_result"
    }
   ],
   "source": [
    "# Pull row for July\n",
    "wonkyWeather.loc['Jul']"
   ],
   "metadata": {
    "collapsed": false,
    "pycharm": {
     "name": "#%%\n"
    }
   }
  },
  {
   "cell_type": "code",
   "execution_count": 37,
   "outputs": [
    {
     "data": {
      "text/plain": "Jan     88\nFeb     12\nMar     23\nApr     79\nMay      7\nJun     41\nJul     50\nAug     45\nSept    74\nOct      6\nNov     -4\nDec     16\nName: 2018, dtype: int64"
     },
     "execution_count": 37,
     "metadata": {},
     "output_type": "execute_result"
    }
   ],
   "source": [
    "# Pull column for 2018\n",
    "wonkyWeather.loc[:, 2018]"
   ],
   "metadata": {
    "collapsed": false,
    "pycharm": {
     "name": "#%%\n"
    }
   }
  },
  {
   "cell_type": "code",
   "execution_count": 38,
   "outputs": [
    {
     "data": {
      "text/plain": "      2016  2018\nJan     -3    88\nFeb     60    12\nMar      3    23\nApr     45    79\nMay     17     7\nJun     10    41\nJul    -15    50\nAug     92    45\nSept     7    74\nOct    -11     6\nNov     18    -4\nDec     69    16",
      "text/html": "<div>\n<style scoped>\n    .dataframe tbody tr th:only-of-type {\n        vertical-align: middle;\n    }\n\n    .dataframe tbody tr th {\n        vertical-align: top;\n    }\n\n    .dataframe thead th {\n        text-align: right;\n    }\n</style>\n<table border=\"1\" class=\"dataframe\">\n  <thead>\n    <tr style=\"text-align: right;\">\n      <th></th>\n      <th>2016</th>\n      <th>2018</th>\n    </tr>\n  </thead>\n  <tbody>\n    <tr>\n      <th>Jan</th>\n      <td>-3</td>\n      <td>88</td>\n    </tr>\n    <tr>\n      <th>Feb</th>\n      <td>60</td>\n      <td>12</td>\n    </tr>\n    <tr>\n      <th>Mar</th>\n      <td>3</td>\n      <td>23</td>\n    </tr>\n    <tr>\n      <th>Apr</th>\n      <td>45</td>\n      <td>79</td>\n    </tr>\n    <tr>\n      <th>May</th>\n      <td>17</td>\n      <td>7</td>\n    </tr>\n    <tr>\n      <th>Jun</th>\n      <td>10</td>\n      <td>41</td>\n    </tr>\n    <tr>\n      <th>Jul</th>\n      <td>-15</td>\n      <td>50</td>\n    </tr>\n    <tr>\n      <th>Aug</th>\n      <td>92</td>\n      <td>45</td>\n    </tr>\n    <tr>\n      <th>Sept</th>\n      <td>7</td>\n      <td>74</td>\n    </tr>\n    <tr>\n      <th>Oct</th>\n      <td>-11</td>\n      <td>6</td>\n    </tr>\n    <tr>\n      <th>Nov</th>\n      <td>18</td>\n      <td>-4</td>\n    </tr>\n    <tr>\n      <th>Dec</th>\n      <td>69</td>\n      <td>16</td>\n    </tr>\n  </tbody>\n</table>\n</div>"
     },
     "execution_count": 38,
     "metadata": {},
     "output_type": "execute_result"
    }
   ],
   "source": [
    "# Pull both 2016, and 2018\n",
    "wonkyWeather.loc[:, (2016, 2018)]"
   ],
   "metadata": {
    "collapsed": false,
    "pycharm": {
     "name": "#%%\n"
    }
   }
  },
  {
   "cell_type": "code",
   "execution_count": 39,
   "outputs": [
    {
     "data": {
      "text/plain": "     2016  2018\nApr    45    79\nOct   -11     6\nDec    69    16",
      "text/html": "<div>\n<style scoped>\n    .dataframe tbody tr th:only-of-type {\n        vertical-align: middle;\n    }\n\n    .dataframe tbody tr th {\n        vertical-align: top;\n    }\n\n    .dataframe thead th {\n        text-align: right;\n    }\n</style>\n<table border=\"1\" class=\"dataframe\">\n  <thead>\n    <tr style=\"text-align: right;\">\n      <th></th>\n      <th>2016</th>\n      <th>2018</th>\n    </tr>\n  </thead>\n  <tbody>\n    <tr>\n      <th>Apr</th>\n      <td>45</td>\n      <td>79</td>\n    </tr>\n    <tr>\n      <th>Oct</th>\n      <td>-11</td>\n      <td>6</td>\n    </tr>\n    <tr>\n      <th>Dec</th>\n      <td>69</td>\n      <td>16</td>\n    </tr>\n  </tbody>\n</table>\n</div>"
     },
     "execution_count": 39,
     "metadata": {},
     "output_type": "execute_result"
    }
   ],
   "source": [
    "# Pull a few months, and a few years\n",
    "wonkyWeather.loc[(\"Apr\", \"Oct\", \"Dec\"), (2016, 2018)]"
   ],
   "metadata": {
    "collapsed": false,
    "pycharm": {
     "name": "#%%\n"
    }
   }
  },
  {
   "cell_type": "code",
   "execution_count": 40,
   "outputs": [
    {
     "data": {
      "text/plain": "2015     True\n2016    False\n2017     True\n2018     True\n2019    False\n2020     True\nName: Jul, dtype: bool"
     },
     "execution_count": 40,
     "metadata": {},
     "output_type": "execute_result"
    }
   ],
   "source": [
    "wonkyWeather.loc['Jul'] > 0"
   ],
   "metadata": {
    "collapsed": false,
    "pycharm": {
     "name": "#%%\n"
    }
   }
  },
  {
   "cell_type": "code",
   "execution_count": 41,
   "outputs": [
    {
     "data": {
      "text/plain": "2015    56\n2017    39\n2018    50\n2020    32\nName: Jul, dtype: int64"
     },
     "execution_count": 41,
     "metadata": {},
     "output_type": "execute_result"
    }
   ],
   "source": [
    "wonkyWeather.loc['Jul', wonkyWeather.loc['Jul'] > 0]"
   ],
   "metadata": {
    "collapsed": false,
    "pycharm": {
     "name": "#%%\n"
    }
   }
  },
  {
   "cell_type": "code",
   "execution_count": 42,
   "outputs": [
    {
     "data": {
      "text/plain": "      2015  2017  2018  2020\nJan     39    77    88    69\nFeb     77    57    12    30\nMar     76    68    23   -11\nApr     99    -2    79    49\nMay     28    49     7    28\nJun     -7    98    41    27\nJul     56    39    50    32\nAug     77    -5    45     6\nSept    70    19    74    -4\nOct     61    71     6     1\nNov     -7    43    -4    84\nDec     -5    50    16    19",
      "text/html": "<div>\n<style scoped>\n    .dataframe tbody tr th:only-of-type {\n        vertical-align: middle;\n    }\n\n    .dataframe tbody tr th {\n        vertical-align: top;\n    }\n\n    .dataframe thead th {\n        text-align: right;\n    }\n</style>\n<table border=\"1\" class=\"dataframe\">\n  <thead>\n    <tr style=\"text-align: right;\">\n      <th></th>\n      <th>2015</th>\n      <th>2017</th>\n      <th>2018</th>\n      <th>2020</th>\n    </tr>\n  </thead>\n  <tbody>\n    <tr>\n      <th>Jan</th>\n      <td>39</td>\n      <td>77</td>\n      <td>88</td>\n      <td>69</td>\n    </tr>\n    <tr>\n      <th>Feb</th>\n      <td>77</td>\n      <td>57</td>\n      <td>12</td>\n      <td>30</td>\n    </tr>\n    <tr>\n      <th>Mar</th>\n      <td>76</td>\n      <td>68</td>\n      <td>23</td>\n      <td>-11</td>\n    </tr>\n    <tr>\n      <th>Apr</th>\n      <td>99</td>\n      <td>-2</td>\n      <td>79</td>\n      <td>49</td>\n    </tr>\n    <tr>\n      <th>May</th>\n      <td>28</td>\n      <td>49</td>\n      <td>7</td>\n      <td>28</td>\n    </tr>\n    <tr>\n      <th>Jun</th>\n      <td>-7</td>\n      <td>98</td>\n      <td>41</td>\n      <td>27</td>\n    </tr>\n    <tr>\n      <th>Jul</th>\n      <td>56</td>\n      <td>39</td>\n      <td>50</td>\n      <td>32</td>\n    </tr>\n    <tr>\n      <th>Aug</th>\n      <td>77</td>\n      <td>-5</td>\n      <td>45</td>\n      <td>6</td>\n    </tr>\n    <tr>\n      <th>Sept</th>\n      <td>70</td>\n      <td>19</td>\n      <td>74</td>\n      <td>-4</td>\n    </tr>\n    <tr>\n      <th>Oct</th>\n      <td>61</td>\n      <td>71</td>\n      <td>6</td>\n      <td>1</td>\n    </tr>\n    <tr>\n      <th>Nov</th>\n      <td>-7</td>\n      <td>43</td>\n      <td>-4</td>\n      <td>84</td>\n    </tr>\n    <tr>\n      <th>Dec</th>\n      <td>-5</td>\n      <td>50</td>\n      <td>16</td>\n      <td>19</td>\n    </tr>\n  </tbody>\n</table>\n</div>"
     },
     "execution_count": 42,
     "metadata": {},
     "output_type": "execute_result"
    }
   ],
   "source": [
    "wonkyWeather.loc[:, wonkyWeather.loc['Jul'] > 0]"
   ],
   "metadata": {
    "collapsed": false,
    "pycharm": {
     "name": "#%%\n"
    }
   }
  },
  {
   "cell_type": "code",
   "execution_count": 42,
   "outputs": [],
   "source": [],
   "metadata": {
    "collapsed": false,
    "pycharm": {
     "name": "#%%\n"
    }
   }
  }
 ],
 "metadata": {
  "kernelspec": {
   "display_name": "Python 3",
   "language": "python",
   "name": "python3"
  },
  "language_info": {
   "codemirror_mode": {
    "name": "ipython",
    "version": 2
   },
   "file_extension": ".py",
   "mimetype": "text/x-python",
   "name": "python",
   "nbconvert_exporter": "python",
   "pygments_lexer": "ipython2",
   "version": "2.7.6"
  }
 },
 "nbformat": 4,
 "nbformat_minor": 0
}