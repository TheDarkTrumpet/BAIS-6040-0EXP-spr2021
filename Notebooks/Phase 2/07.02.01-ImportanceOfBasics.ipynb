{
 "cells": [
  {
   "cell_type": "markdown",
   "metadata": {
    "collapsed": true,
    "pycharm": {
     "name": "#%% md\n"
    }
   },
   "source": [
    "# 07.02.01 - ImportanceOfBasics\n",
    "\n",
    "## Purpose\n",
    "This notebook is designed to take an \"off the shelf\" problem and apply what we've learned in Python to solve the problem.  Problem solving is an important skill to gain, and be that in Python, Data Science, or whatever, how we approach problems is important.\n",
    "\n",
    "Remember, not all problems should be approached head on.  Project Euler helps reinforce that, since many problems on the site are computationally impossible to brute force one's way through.\n",
    "\n",
    "## Project Euler, Problem 1\n",
    "\n",
    "If we list all the natural numbers below 10 that are multiples of 3 or 5, we get 3, 5, 6 and 9. The sum of these multiples is 23.\n",
    "\n",
    "Find the sum of all the multiples of 3 or 5 below 1000.\n",
    "\n",
    "## My Version/Summation\n",
    "Multiples of 3 or 5\n",
    "\n",
    "[3, 5, 6, 9]"
   ]
  },
  {
   "cell_type": "code",
   "execution_count": 1,
   "outputs": [
    {
     "data": {
      "text/plain": "[1, 2, 3, 4, 5, 6, 7, 8, 9]"
     },
     "execution_count": 1,
     "metadata": {},
     "output_type": "execute_result"
    }
   ],
   "source": [
    "# Start by generating just a list of integers, and see what we get.\n",
    "naturalNumbers = range(1, 10)\n",
    "list(naturalNumbers)"
   ],
   "metadata": {
    "collapsed": false,
    "pycharm": {
     "name": "#%%\n"
    }
   }
  },
  {
   "cell_type": "code",
   "execution_count": 2,
   "outputs": [
    {
     "data": {
      "text/plain": "[3, 5, 6, 9]"
     },
     "execution_count": 2,
     "metadata": {},
     "output_type": "execute_result"
    }
   ],
   "source": [
    "# One way to solve this, using filter and lambda\n",
    "mul35 = list(filter(lambda x: x%3 == 0 or x%5 == 0, naturalNumbers))\n",
    "mul35"
   ],
   "metadata": {
    "collapsed": false,
    "pycharm": {
     "name": "#%%\n"
    }
   }
  },
  {
   "cell_type": "code",
   "execution_count": 3,
   "outputs": [
    {
     "data": {
      "text/plain": "23"
     },
     "execution_count": 3,
     "metadata": {},
     "output_type": "execute_result"
    }
   ],
   "source": [
    "sum(mul35)"
   ],
   "metadata": {
    "collapsed": false,
    "pycharm": {
     "name": "#%%\n"
    }
   }
  },
  {
   "cell_type": "code",
   "execution_count": 4,
   "outputs": [
    {
     "data": {
      "text/plain": "466"
     },
     "execution_count": 4,
     "metadata": {},
     "output_type": "execute_result"
    }
   ],
   "source": [
    "# Always start with a subset, verify one's answers.  Then expand the problem out further.\n",
    "naturalNumbersBelow1k = range(1, 1000)\n",
    "mul35Below1k = list(filter(lambda x: x%3 == 0 or x%5 == 0, naturalNumbersBelow1k))\n",
    "len(mul35Below1k)"
   ],
   "metadata": {
    "collapsed": false,
    "pycharm": {
     "name": "#%%\n"
    }
   }
  },
  {
   "cell_type": "code",
   "execution_count": 5,
   "outputs": [
    {
     "data": {
      "text/plain": "233168"
     },
     "execution_count": 5,
     "metadata": {},
     "output_type": "execute_result"
    }
   ],
   "source": [
    "# The correct answer is below, we'll save this as a variable to easier confirm later\n",
    "correctAnswer = sum(mul35Below1k)\n",
    "correctAnswer"
   ],
   "metadata": {
    "collapsed": false,
    "pycharm": {
     "name": "#%%\n"
    }
   }
  },
  {
   "cell_type": "markdown",
   "source": [
    "# Another way to solve the problem.\n",
    "\n",
    "Problems can be solved multiple ways.  Often times the \"correct answer\" is \"It depends\".  The above answer uses range/filter to attempt to solve the problem.  The option below creates functions for everything, and a for loop, and we solve it that way"
   ],
   "metadata": {
    "collapsed": false,
    "pycharm": {
     "name": "#%% md\n"
    }
   }
  },
  {
   "cell_type": "code",
   "execution_count": 6,
   "outputs": [],
   "source": [
    "def generateRange(start, stop):\n",
    "    return list(range(start, stop))\n",
    "\n",
    "def getMultiplesOf3And5(elements):\n",
    "    returnList = []\n",
    "    for x in elements:\n",
    "        if x % 3 == 0 or x % 5 == 0:\n",
    "            returnList.append(x)\n",
    "    return returnList\n",
    "\n",
    "def getFinalSum(elements):\n",
    "    return sum(elements)"
   ],
   "metadata": {
    "collapsed": false,
    "pycharm": {
     "name": "#%%\n"
    }
   }
  },
  {
   "cell_type": "code",
   "execution_count": 7,
   "outputs": [
    {
     "data": {
      "text/plain": "233168"
     },
     "execution_count": 7,
     "metadata": {},
     "output_type": "execute_result"
    }
   ],
   "source": [
    "getFinalSum(getMultiplesOf3And5(generateRange(1, 1000)))"
   ],
   "metadata": {
    "collapsed": false,
    "pycharm": {
     "name": "#%%\n"
    }
   }
  },
  {
   "cell_type": "markdown",
   "source": [
    "# Another way to solve the problem.\n",
    "\n",
    "We used a function and a for loop before.  But can we use a while loop instead?  Yep...."
   ],
   "metadata": {
    "collapsed": false,
    "pycharm": {
     "name": "#%% md\n"
    }
   }
  },
  {
   "cell_type": "code",
   "execution_count": 8,
   "outputs": [
    {
     "data": {
      "text/plain": "233168"
     },
     "execution_count": 8,
     "metadata": {},
     "output_type": "execute_result"
    }
   ],
   "source": [
    "number = 0\n",
    "totalSum = 0\n",
    "while number < 1000:\n",
    "    if number % 3 == 0 or number % 5 == 0:\n",
    "        totalSum += number   # totalSum = totalSum + number\n",
    "    number += 1\n",
    "totalSum"
   ],
   "metadata": {
    "collapsed": false,
    "pycharm": {
     "name": "#%%\n"
    }
   }
  },
  {
   "cell_type": "markdown",
   "source": [
    "# Another way to solve the problem.\n",
    "\n",
    "We have yet other ways we can solve the problem.  Below, we'll use recursion to solve the problem"
   ],
   "metadata": {
    "collapsed": false,
    "pycharm": {
     "name": "#%% md\n"
    }
   }
  },
  {
   "cell_type": "code",
   "execution_count": 9,
   "outputs": [
    {
     "data": {
      "text/plain": "233168"
     },
     "execution_count": 9,
     "metadata": {},
     "output_type": "execute_result"
    }
   ],
   "source": [
    "def recursiveAddition(start = 0, stop = 1000):\n",
    "    if start >= stop:\n",
    "        return 0\n",
    "    if start % 3 == 0 or start % 5 == 0:\n",
    "        return start + recursiveAddition(start + 1, stop)\n",
    "    return  recursiveAddition(start + 1, stop)\n",
    "\n",
    "recursiveAddition(stop = 1000)"
   ],
   "metadata": {
    "collapsed": false,
    "pycharm": {
     "name": "#%%\n"
    }
   }
  },
  {
   "cell_type": "markdown",
   "source": [
    "The point of everything we've done above is that there are many, many, many ways to solve computational problems.  There's, often times, not a single best answer and all answers should be defended for why they're good or bad.\n",
    "\n",
    "It's also useful to keep in mind that often times approaching a problem in a specific way will limit your ability to solve the problem.  Neural Plasticity (https://pubmed.ncbi.nlm.nih.gov/29080018/ and https://en.wikipedia.org/wiki/Neuroplasticity) is important."
   ],
   "metadata": {
    "collapsed": false,
    "pycharm": {
     "name": "#%% md\n"
    }
   }
  }
 ],
 "metadata": {
  "kernelspec": {
   "display_name": "Python 3",
   "language": "python",
   "name": "python3"
  },
  "language_info": {
   "codemirror_mode": {
    "name": "ipython",
    "version": 2
   },
   "file_extension": ".py",
   "mimetype": "text/x-python",
   "name": "python",
   "nbconvert_exporter": "python",
   "pygments_lexer": "ipython2",
   "version": "2.7.6"
  }
 },
 "nbformat": 4,
 "nbformat_minor": 0
}