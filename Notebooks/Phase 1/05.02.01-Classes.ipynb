{
 "cells": [
  {
   "cell_type": "markdown",
   "metadata": {
    "collapsed": true,
    "pycharm": {
     "name": "#%% md\n"
    }
   },
   "source": [
    "# 04.02.01 - Classes\n",
    "\n",
    "## Description\n",
    "\n",
    "This document demonstrates the concepts of classes.  Classes are part abstraction from the use of functions we've been doing, and can group state together with functionality.  **many** things written (in most languages) tend to use classes.\n",
    "\n",
    "This document is split into 3 parts:\n",
    "\n",
    "1. The limitation of current ways of writing code.\n",
    "2. Refactoring #1 to classes\n",
    "3. Extending existing classes (monkey patching)"
   ]
  },
  {
   "cell_type": "markdown",
   "source": [
    "# Limitation of functions/global variables"
   ],
   "metadata": {
    "collapsed": false,
    "pycharm": {
     "name": "#%% md\n"
    }
   }
  },
  {
   "cell_type": "code",
   "execution_count": 1,
   "outputs": [
    {
     "name": "stdout",
     "output_type": "stream",
     "text": [
      "A dog says, Woof\n",
      "A cat says, Meow\n",
      "A snake says, ???\n",
      "A cat says, ???\n"
     ]
    }
   ],
   "source": [
    "cat_says = \"Meow\"\n",
    "dog_says = \"Woof\"\n",
    "snake_says = \"???\"\n",
    "\n",
    "# Option 1, different functions for each \"say\"\n",
    "def say_dog(dog_says):\n",
    "    print(f\"A dog says, {dog_says}\")\n",
    "\n",
    "def say_cat(cat_says):\n",
    "    print(f\"A cat says, {cat_says}\")\n",
    "\n",
    "def say_snake(snake_says):\n",
    "    print(f\"A snake says, {snake_says}\")\n",
    "\n",
    "say_dog(dog_says)\n",
    "say_cat(cat_says)\n",
    "say_snake(snake_says)\n",
    "say_cat(snake_says) #???"
   ],
   "metadata": {
    "collapsed": false,
    "pycharm": {
     "name": "#%%\n"
    }
   }
  },
  {
   "cell_type": "code",
   "execution_count": 2,
   "outputs": [
    {
     "name": "stdout",
     "output_type": "stream",
     "text": [
      "A dog says, Woof\n",
      "A cat says, Meow\n",
      "A snake says, ???\n"
     ]
    }
   ],
   "source": [
    "# Option 2, using if statements\n",
    "def say(animal):\n",
    "    if(animal == \"Meow\"):\n",
    "        print(f\"A cat says, {animal}\")\n",
    "    elif(animal == \"Woof\"):\n",
    "        print(f\"A dog says, {dog_says}\")   # Note it's reading from global namespace\n",
    "    elif(animal == \"???\"):\n",
    "        print(f\"A snake says, {animal}\")\n",
    "\n",
    "say(dog_says)\n",
    "say(cat_says)\n",
    "say(snake_says)"
   ],
   "metadata": {
    "collapsed": false,
    "pycharm": {
     "name": "#%%\n"
    }
   }
  },
  {
   "cell_type": "markdown",
   "source": [
    "# Fixing this using classes\n",
    "Classes will help group state with methods, to reduce duplication and allow expansion later on."
   ],
   "metadata": {
    "collapsed": false,
    "pycharm": {
     "name": "#%% md\n"
    }
   }
  },
  {
   "cell_type": "code",
   "execution_count": 3,
   "outputs": [
    {
     "name": "stdout",
     "output_type": "stream",
     "text": [
      "A Dog says, Woof\n",
      "A Cat says, Woof\n",
      "A Snake says, ???\n",
      "A Snake says, hisssssss\n"
     ]
    }
   ],
   "source": [
    "class Animal:\n",
    "    def __init__(self, animal, says):\n",
    "        self.animal = animal\n",
    "        self.says = says\n",
    "    def say(self):\n",
    "        print(f\"A {self.animal} says, {self.says}\")\n",
    "\n",
    "dog = Animal(\"Dog\", \"Woof\")\n",
    "dog.say()\n",
    "\n",
    "cat = Animal(\"Cat\", \"Woof\")\n",
    "cat.say()\n",
    "\n",
    "snake = Animal(\"Snake\", \"???\")\n",
    "snake.say()\n",
    "snake.says = \"hisssssss\"\n",
    "snake.say()"
   ],
   "metadata": {
    "collapsed": false,
    "pycharm": {
     "name": "#%%\n"
    }
   }
  },
  {
   "cell_type": "markdown",
   "source": [
    "# Static Classes & Class Methods\n",
    "Classes don't necessarily need to keep state per object.  We can have a static class that has more common useful elements that are shared among all \"instances\" of a class.\n",
    "\n",
    "Note that syntax-speaking, the definition is very similar, but we use decorators\n",
    "- @classmethod can access class variables\n",
    "- @staticmethod can not access class variables"
   ],
   "metadata": {
    "collapsed": false,
    "pycharm": {
     "name": "#%% md\n"
    }
   }
  },
  {
   "cell_type": "code",
   "execution_count": 4,
   "outputs": [
    {
     "name": "stdout",
     "output_type": "stream",
     "text": [
      "An animal, Cat, says Meow\n",
      "Cat says, Meow\n"
     ]
    }
   ],
   "source": [
    "class Animal2:\n",
    "    class_type = \"animal\"\n",
    "    # no def __init__\n",
    "    @classmethod\n",
    "    def say(cls, animal_type, says):\n",
    "        print(f\"An {cls.class_type}, {animal_type}, says {says}\")\n",
    "\n",
    "    @staticmethod\n",
    "    def say2(animal_type, says):\n",
    "        print(f\"{animal_type} says, {says}\")\n",
    "\n",
    "Animal2.say(\"Cat\", \"Meow\")\n",
    "Animal2.say2(\"Cat\", \"Meow\")"
   ],
   "metadata": {
    "collapsed": false,
    "pycharm": {
     "name": "#%%\n"
    }
   }
  },
  {
   "cell_type": "markdown",
   "source": [
    "# All together\n",
    "We can mix and put these together, class variables and instance variables need to be paid attention to, to get it right, though."
   ],
   "metadata": {
    "collapsed": false,
    "pycharm": {
     "name": "#%% md\n"
    }
   }
  },
  {
   "cell_type": "code",
   "execution_count": 5,
   "outputs": [
    {
     "name": "stdout",
     "output_type": "stream",
     "text": [
      "An animal, Cat says, Meow\n",
      "An, animal, ????\n",
      "A Dog says Bark\n"
     ]
    }
   ],
   "source": [
    "class Animal3:\n",
    "    class_type = \"animal\"\n",
    "\n",
    "    def __init__(self, animal, says):\n",
    "        self.animal = animal\n",
    "        self.says = says\n",
    "\n",
    "    def say(self):\n",
    "        print(f\"An {self.class_type}, {self.animal} says, {self.says}\")\n",
    "\n",
    "    @classmethod\n",
    "    def sayC(cls):\n",
    "        print(f\"An, {cls.class_type}, ????\")\n",
    "\n",
    "    @staticmethod\n",
    "    def sayS(animal, says):\n",
    "        print(f\"A {animal} says {says}\")\n",
    "\n",
    "catAnimal = Animal3(\"Cat\", \"Meow\")\n",
    "catAnimal.say()\n",
    "catAnimal.sayC()\n",
    "catAnimal.sayS(\"Dog\", \"Bark\")"
   ],
   "metadata": {
    "collapsed": false,
    "pycharm": {
     "name": "#%%\n"
    }
   }
  },
  {
   "cell_type": "markdown",
   "source": [
    "# Monkey Patching\n",
    "The process of hijacking a class and extending it to your own needs."
   ],
   "metadata": {
    "collapsed": false,
    "pycharm": {
     "name": "#%% md\n"
    }
   }
  },
  {
   "cell_type": "code",
   "execution_count": 6,
   "outputs": [
    {
     "name": "stdout",
     "output_type": "stream",
     "text": [
      "An Cat has a fur color White\n"
     ]
    }
   ],
   "source": [
    "import types\n",
    "def fur_color(self):\n",
    "    print(f\"An {self.animal} has a fur color {self.fur}\")\n",
    "catAnimal.fur = \"White\"\n",
    "catAnimal.furcolor = types.MethodType(fur_color, catAnimal)\n",
    "\n",
    "catAnimal.furcolor()"
   ],
   "metadata": {
    "collapsed": false,
    "pycharm": {
     "name": "#%%\n"
    }
   }
  },
  {
   "cell_type": "code",
   "execution_count": 6,
   "outputs": [],
   "source": [],
   "metadata": {
    "collapsed": false,
    "pycharm": {
     "name": "#%%\n"
    }
   }
  }
 ],
 "metadata": {
  "kernelspec": {
   "display_name": "Python 3",
   "language": "python",
   "name": "python3"
  },
  "language_info": {
   "codemirror_mode": {
    "name": "ipython",
    "version": 2
   },
   "file_extension": ".py",
   "mimetype": "text/x-python",
   "name": "python",
   "nbconvert_exporter": "python",
   "pygments_lexer": "ipython2",
   "version": "2.7.6"
  }
 },
 "nbformat": 4,
 "nbformat_minor": 0
}