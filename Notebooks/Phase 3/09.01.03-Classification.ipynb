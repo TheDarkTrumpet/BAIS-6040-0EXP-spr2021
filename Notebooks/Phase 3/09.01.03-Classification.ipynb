{
 "cells": [
  {
   "cell_type": "markdown",
   "metadata": {
    "collapsed": true,
    "pycharm": {
     "name": "#%% md\n"
    }
   },
   "source": [
    "# 09.03.01 - Classification\n",
    "\n",
    "## Purpose\n",
    "\n",
    "This notebook will go over two classification strategies using the test set we talked about in 09.01 and 09.02\n",
    "\n",
    "## Libraries\n",
    "\n",
    "* Sklearn\n",
    "\n",
    "## References/Reading"
   ]
  }
 ],
 "metadata": {
  "kernelspec": {
   "display_name": "Python 3",
   "language": "python",
   "name": "python3"
  },
  "language_info": {
   "codemirror_mode": {
    "name": "ipython",
    "version": 2
   },
   "file_extension": ".py",
   "mimetype": "text/x-python",
   "name": "python",
   "nbconvert_exporter": "python",
   "pygments_lexer": "ipython2",
   "version": "2.7.6"
  }
 },
 "nbformat": 4,
 "nbformat_minor": 0
}