{
 "cells": [
  {
   "cell_type": "markdown",
   "metadata": {
    "collapsed": true,
    "pycharm": {
     "name": "#%% md\n"
    }
   },
   "source": [
    "# Homework 5\n",
    "## Purpose:\n",
    "This homework will encompass two modules, that are highly related to each other.  This will primarily deal with Pandas and working with Pandas objects and pulling/pushing data into different formats and to process a notebook.\n",
    "\n",
    "## Required Hand-in\n",
    "Two things need to be handed in for this homework.  One is the notebook itself, and the second is a CSV output (see last step)\n",
    "\n",
    "## Homework\n",
    "1.  Pull in the LaborDataSheet.csv file into a Pandas data frame\n",
    "    - It's available on Github, or you could get it from your copy.  Ideally, pull from a definitive source, which in this case is Github directly.  You can do this by clicking \"raw\" while viewing the file on Github, and using the URL.\n",
    "2.  Print out the data frame (this is okay to do, in this case, as it'll only print out a portion of the full data set.\n",
    "3.  Create a new dataframe, from the old one, filtering to include only store 10764.\n",
    "4.  Print this data frame, make sure you have the selector correct.  Also get the info for this data frame (method name, it's been covered)\n",
    "5.  Add a new column, call it \"DATE\".  This should be the TimeStamp without the time portion, so just the date\n",
    "    - I didn't cover this, but there's ample information online.  Remember to read the documentation surrounding anything you find.\n",
    "5.  Using .groupby and .agg, create a dataFrame that includes the manager, the date, and the sum of the sales for that given day.\n",
    "    - There may be other ways to do this.  If you prefer to use another method, have at it, as long as you get a structure similar to mine.\n",
    "6.  Add a column header to the new sum, call it \"Daily Sales\".  This can, and should, be done with #5 (in the same line)\n",
    "7.  Export this data frame to a CSV, and attach it with the homework\n",
    "8.  The rest of this homework is pretty free form, but it'll be weighted on what information you can gather from this information and what your analysis is.  Try to do as much of this in Python as possible, and include any work you do along with your analysis.  For the analysis, please create a markdown cell somewhere (either before or after the analysis).  Some questions to consider answering include:\n",
    "    1. What manager made the most money (in total)?\n",
    "    2. What manager made the most money (in terms of average days worked)?\n",
    "    3. What days did the most sales occur?  Did this hold true for all the managers that were around those days, or were some managers better?\n",
    "    4. What days were sales better than others?\n",
    "\n",
    "As I said though, #8 is very, very flexible.  Try to find some cool information and present it back."
   ]
  },
  {
   "cell_type": "code",
   "execution_count": 1,
   "outputs": [
    {
     "data": {
      "text/plain": "       Store        TimeStamp     Manager  Projected Sales  Sales  DT TTL\n0       4007    2/4/2017 7:10    Monica H            281.0  296.0     192\n1       4007    2/4/2017 8:04     David H            670.0  347.0     111\n2       4007   2/3/2017 18:41     David H            784.0  649.0     143\n3       4007   2/4/2017 10:06     David H            852.0  750.0     158\n4       4007   2/5/2017 10:57      Zoey D             54.0  108.0     104\n...      ...              ...         ...              ...    ...     ...\n13173  16250  9/25/2017 13:22  Carmella R            669.0  758.0     238\n13174  16250  9/25/2017 14:33  Carmella R            421.0  395.0     126\n13175  16250  9/25/2017 17:36  Carmella R            365.0  439.0     194\n13176  16250  9/25/2017 17:37  Carmella R            425.0  435.0     197\n13177  16250  9/25/2017 17:39  Carmella R            375.0  374.0     234\n\n[13178 rows x 6 columns]",
      "text/html": "<div>\n<style scoped>\n    .dataframe tbody tr th:only-of-type {\n        vertical-align: middle;\n    }\n\n    .dataframe tbody tr th {\n        vertical-align: top;\n    }\n\n    .dataframe thead th {\n        text-align: right;\n    }\n</style>\n<table border=\"1\" class=\"dataframe\">\n  <thead>\n    <tr style=\"text-align: right;\">\n      <th></th>\n      <th>Store</th>\n      <th>TimeStamp</th>\n      <th>Manager</th>\n      <th>Projected Sales</th>\n      <th>Sales</th>\n      <th>DT TTL</th>\n    </tr>\n  </thead>\n  <tbody>\n    <tr>\n      <th>0</th>\n      <td>4007</td>\n      <td>2/4/2017 7:10</td>\n      <td>Monica H</td>\n      <td>281.0</td>\n      <td>296.0</td>\n      <td>192</td>\n    </tr>\n    <tr>\n      <th>1</th>\n      <td>4007</td>\n      <td>2/4/2017 8:04</td>\n      <td>David H</td>\n      <td>670.0</td>\n      <td>347.0</td>\n      <td>111</td>\n    </tr>\n    <tr>\n      <th>2</th>\n      <td>4007</td>\n      <td>2/3/2017 18:41</td>\n      <td>David H</td>\n      <td>784.0</td>\n      <td>649.0</td>\n      <td>143</td>\n    </tr>\n    <tr>\n      <th>3</th>\n      <td>4007</td>\n      <td>2/4/2017 10:06</td>\n      <td>David H</td>\n      <td>852.0</td>\n      <td>750.0</td>\n      <td>158</td>\n    </tr>\n    <tr>\n      <th>4</th>\n      <td>4007</td>\n      <td>2/5/2017 10:57</td>\n      <td>Zoey D</td>\n      <td>54.0</td>\n      <td>108.0</td>\n      <td>104</td>\n    </tr>\n    <tr>\n      <th>...</th>\n      <td>...</td>\n      <td>...</td>\n      <td>...</td>\n      <td>...</td>\n      <td>...</td>\n      <td>...</td>\n    </tr>\n    <tr>\n      <th>13173</th>\n      <td>16250</td>\n      <td>9/25/2017 13:22</td>\n      <td>Carmella R</td>\n      <td>669.0</td>\n      <td>758.0</td>\n      <td>238</td>\n    </tr>\n    <tr>\n      <th>13174</th>\n      <td>16250</td>\n      <td>9/25/2017 14:33</td>\n      <td>Carmella R</td>\n      <td>421.0</td>\n      <td>395.0</td>\n      <td>126</td>\n    </tr>\n    <tr>\n      <th>13175</th>\n      <td>16250</td>\n      <td>9/25/2017 17:36</td>\n      <td>Carmella R</td>\n      <td>365.0</td>\n      <td>439.0</td>\n      <td>194</td>\n    </tr>\n    <tr>\n      <th>13176</th>\n      <td>16250</td>\n      <td>9/25/2017 17:37</td>\n      <td>Carmella R</td>\n      <td>425.0</td>\n      <td>435.0</td>\n      <td>197</td>\n    </tr>\n    <tr>\n      <th>13177</th>\n      <td>16250</td>\n      <td>9/25/2017 17:39</td>\n      <td>Carmella R</td>\n      <td>375.0</td>\n      <td>374.0</td>\n      <td>234</td>\n    </tr>\n  </tbody>\n</table>\n<p>13178 rows × 6 columns</p>\n</div>"
     },
     "execution_count": 1,
     "metadata": {},
     "output_type": "execute_result"
    }
   ],
   "source": [
    "import pandas as pd\n",
    "laborData = pd.read_csv(\"https://raw.githubusercontent.com/TheDarkTrumpet/BAIS-6040-0EXP-spr2021/master/data/LaborSheetData.csv\")\n",
    "laborData"
   ],
   "metadata": {
    "collapsed": false,
    "pycharm": {
     "name": "#%%\n"
    }
   }
  },
  {
   "cell_type": "code",
   "execution_count": 2,
   "outputs": [
    {
     "data": {
      "text/plain": "      Store        TimeStamp  Manager  Projected Sales  Sales  DT TTL\n1274  10764   1/25/2017 8:29  Erica F            441.0  538.0     189\n1275  10764   1/25/2017 8:45  Erica F            194.0  149.0     108\n1276  10764  1/25/2017 10:17  Erica F            278.0  320.0     135\n1277  10764  1/25/2017 10:40  Erica F            180.0  220.0     160\n1278  10764  1/25/2017 11:15  Erica F            551.0  661.0     158\n...     ...              ...      ...              ...    ...     ...\n5156  10764  9/25/2017 12:51  Erica F            846.0  905.0     210\n5157  10764  9/25/2017 13:08  Erica F            961.0  891.0     217\n5158  10764  9/25/2017 14:27  Erica F            771.0  684.0     237\n5159  10764  9/25/2017 17:09  Erica F            562.0  524.0     215\n5160  10764  9/25/2017 17:12  Erica F            434.0  526.0     393\n\n[3887 rows x 6 columns]",
      "text/html": "<div>\n<style scoped>\n    .dataframe tbody tr th:only-of-type {\n        vertical-align: middle;\n    }\n\n    .dataframe tbody tr th {\n        vertical-align: top;\n    }\n\n    .dataframe thead th {\n        text-align: right;\n    }\n</style>\n<table border=\"1\" class=\"dataframe\">\n  <thead>\n    <tr style=\"text-align: right;\">\n      <th></th>\n      <th>Store</th>\n      <th>TimeStamp</th>\n      <th>Manager</th>\n      <th>Projected Sales</th>\n      <th>Sales</th>\n      <th>DT TTL</th>\n    </tr>\n  </thead>\n  <tbody>\n    <tr>\n      <th>1274</th>\n      <td>10764</td>\n      <td>1/25/2017 8:29</td>\n      <td>Erica F</td>\n      <td>441.0</td>\n      <td>538.0</td>\n      <td>189</td>\n    </tr>\n    <tr>\n      <th>1275</th>\n      <td>10764</td>\n      <td>1/25/2017 8:45</td>\n      <td>Erica F</td>\n      <td>194.0</td>\n      <td>149.0</td>\n      <td>108</td>\n    </tr>\n    <tr>\n      <th>1276</th>\n      <td>10764</td>\n      <td>1/25/2017 10:17</td>\n      <td>Erica F</td>\n      <td>278.0</td>\n      <td>320.0</td>\n      <td>135</td>\n    </tr>\n    <tr>\n      <th>1277</th>\n      <td>10764</td>\n      <td>1/25/2017 10:40</td>\n      <td>Erica F</td>\n      <td>180.0</td>\n      <td>220.0</td>\n      <td>160</td>\n    </tr>\n    <tr>\n      <th>1278</th>\n      <td>10764</td>\n      <td>1/25/2017 11:15</td>\n      <td>Erica F</td>\n      <td>551.0</td>\n      <td>661.0</td>\n      <td>158</td>\n    </tr>\n    <tr>\n      <th>...</th>\n      <td>...</td>\n      <td>...</td>\n      <td>...</td>\n      <td>...</td>\n      <td>...</td>\n      <td>...</td>\n    </tr>\n    <tr>\n      <th>5156</th>\n      <td>10764</td>\n      <td>9/25/2017 12:51</td>\n      <td>Erica F</td>\n      <td>846.0</td>\n      <td>905.0</td>\n      <td>210</td>\n    </tr>\n    <tr>\n      <th>5157</th>\n      <td>10764</td>\n      <td>9/25/2017 13:08</td>\n      <td>Erica F</td>\n      <td>961.0</td>\n      <td>891.0</td>\n      <td>217</td>\n    </tr>\n    <tr>\n      <th>5158</th>\n      <td>10764</td>\n      <td>9/25/2017 14:27</td>\n      <td>Erica F</td>\n      <td>771.0</td>\n      <td>684.0</td>\n      <td>237</td>\n    </tr>\n    <tr>\n      <th>5159</th>\n      <td>10764</td>\n      <td>9/25/2017 17:09</td>\n      <td>Erica F</td>\n      <td>562.0</td>\n      <td>524.0</td>\n      <td>215</td>\n    </tr>\n    <tr>\n      <th>5160</th>\n      <td>10764</td>\n      <td>9/25/2017 17:12</td>\n      <td>Erica F</td>\n      <td>434.0</td>\n      <td>526.0</td>\n      <td>393</td>\n    </tr>\n  </tbody>\n</table>\n<p>3887 rows × 6 columns</p>\n</div>"
     },
     "execution_count": 2,
     "metadata": {},
     "output_type": "execute_result"
    }
   ],
   "source": [
    "store = laborData[(laborData[\"Store\"] == 10764)]\n",
    "store"
   ],
   "metadata": {
    "collapsed": false,
    "pycharm": {
     "name": "#%%\n"
    }
   }
  },
  {
   "cell_type": "code",
   "execution_count": 3,
   "outputs": [
    {
     "name": "stdout",
     "output_type": "stream",
     "text": [
      "<class 'pandas.core.frame.DataFrame'>\n",
      "Int64Index: 3887 entries, 1274 to 5160\n",
      "Data columns (total 6 columns):\n",
      " #   Column           Non-Null Count  Dtype  \n",
      "---  ------           --------------  -----  \n",
      " 0   Store            3887 non-null   int64  \n",
      " 1   TimeStamp        3887 non-null   object \n",
      " 2   Manager          3887 non-null   object \n",
      " 3   Projected Sales  3887 non-null   float64\n",
      " 4   Sales            3887 non-null   float64\n",
      " 5   DT TTL           3887 non-null   int64  \n",
      "dtypes: float64(2), int64(2), object(2)\n",
      "memory usage: 212.6+ KB\n"
     ]
    }
   ],
   "source": [
    "store.info()"
   ],
   "metadata": {
    "collapsed": false,
    "pycharm": {
     "name": "#%%\n"
    }
   }
  },
  {
   "cell_type": "code",
   "execution_count": 4,
   "outputs": [
    {
     "name": "stderr",
     "output_type": "stream",
     "text": [
      "<ipython-input-4-09e4e46fc1f6>:1: SettingWithCopyWarning: \n",
      "A value is trying to be set on a copy of a slice from a DataFrame.\n",
      "Try using .loc[row_indexer,col_indexer] = value instead\n",
      "\n",
      "See the caveats in the documentation: https://pandas.pydata.org/pandas-docs/stable/user_guide/indexing.html#returning-a-view-versus-a-copy\n",
      "  store['DATE'] = pd.to_datetime(store['TimeStamp']).dt.date\n"
     ]
    }
   ],
   "source": [
    "store['DATE'] = pd.to_datetime(store['TimeStamp']).dt.date"
   ],
   "metadata": {
    "collapsed": false,
    "pycharm": {
     "name": "#%%\n"
    }
   }
  },
  {
   "cell_type": "code",
   "execution_count": 5,
   "outputs": [
    {
     "data": {
      "text/plain": "      Manager        DATE  Daily Sales\n0     Ariel A  2017-01-26       954.00\n1     Ariel A  2017-01-28       711.00\n2     Ariel A  2017-02-03       581.00\n3     Ariel A  2017-02-05       108.00\n4     Ariel A  2017-02-09       765.00\n...       ...         ...          ...\n1162   Zoey D  2017-05-07      1926.00\n1163   Zoey D  2017-06-04      2079.00\n1164   Zoey D  2017-06-05      1424.75\n1165   Zoey D  2017-06-07      2340.82\n1166   Zoey D  2017-06-11      1859.88\n\n[1167 rows x 3 columns]",
      "text/html": "<div>\n<style scoped>\n    .dataframe tbody tr th:only-of-type {\n        vertical-align: middle;\n    }\n\n    .dataframe tbody tr th {\n        vertical-align: top;\n    }\n\n    .dataframe thead th {\n        text-align: right;\n    }\n</style>\n<table border=\"1\" class=\"dataframe\">\n  <thead>\n    <tr style=\"text-align: right;\">\n      <th></th>\n      <th>Manager</th>\n      <th>DATE</th>\n      <th>Daily Sales</th>\n    </tr>\n  </thead>\n  <tbody>\n    <tr>\n      <th>0</th>\n      <td>Ariel A</td>\n      <td>2017-01-26</td>\n      <td>954.00</td>\n    </tr>\n    <tr>\n      <th>1</th>\n      <td>Ariel A</td>\n      <td>2017-01-28</td>\n      <td>711.00</td>\n    </tr>\n    <tr>\n      <th>2</th>\n      <td>Ariel A</td>\n      <td>2017-02-03</td>\n      <td>581.00</td>\n    </tr>\n    <tr>\n      <th>3</th>\n      <td>Ariel A</td>\n      <td>2017-02-05</td>\n      <td>108.00</td>\n    </tr>\n    <tr>\n      <th>4</th>\n      <td>Ariel A</td>\n      <td>2017-02-09</td>\n      <td>765.00</td>\n    </tr>\n    <tr>\n      <th>...</th>\n      <td>...</td>\n      <td>...</td>\n      <td>...</td>\n    </tr>\n    <tr>\n      <th>1162</th>\n      <td>Zoey D</td>\n      <td>2017-05-07</td>\n      <td>1926.00</td>\n    </tr>\n    <tr>\n      <th>1163</th>\n      <td>Zoey D</td>\n      <td>2017-06-04</td>\n      <td>2079.00</td>\n    </tr>\n    <tr>\n      <th>1164</th>\n      <td>Zoey D</td>\n      <td>2017-06-05</td>\n      <td>1424.75</td>\n    </tr>\n    <tr>\n      <th>1165</th>\n      <td>Zoey D</td>\n      <td>2017-06-07</td>\n      <td>2340.82</td>\n    </tr>\n    <tr>\n      <th>1166</th>\n      <td>Zoey D</td>\n      <td>2017-06-11</td>\n      <td>1859.88</td>\n    </tr>\n  </tbody>\n</table>\n<p>1167 rows × 3 columns</p>\n</div>"
     },
     "execution_count": 5,
     "metadata": {},
     "output_type": "execute_result"
    }
   ],
   "source": [
    "storeSales = store.groupby([\"Manager\", \"DATE\"])[\"Sales\"].agg('sum').reset_index(name=\"Daily Sales\")\n",
    "storeSales"
   ],
   "metadata": {
    "collapsed": false,
    "pycharm": {
     "name": "#%%\n"
    }
   }
  },
  {
   "cell_type": "code",
   "execution_count": 6,
   "outputs": [],
   "source": [
    "storeSales.to_csv(\"../export/managersales.csv\")"
   ],
   "metadata": {
    "collapsed": false,
    "pycharm": {
     "name": "#%%\n"
    }
   }
  },
  {
   "cell_type": "markdown",
   "source": [
    "# Analysis Section\n",
    "Use the space below to do some interesting stuff"
   ],
   "metadata": {
    "collapsed": false,
    "pycharm": {
     "name": "#%% md\n"
    }
   }
  },
  {
   "cell_type": "code",
   "execution_count": 7,
   "outputs": [],
   "source": [
    "# storeSales.groupby([\"Manager\"])[\"Daily Sales\"].agg('sum').reset_index(name=\"Total\").sort_values(by=[\"Total\"], ascending=False)"
   ],
   "metadata": {
    "collapsed": false,
    "pycharm": {
     "name": "#%%\n"
    }
   }
  },
  {
   "cell_type": "code",
   "execution_count": 8,
   "outputs": [],
   "source": [
    "# storeSales.groupby([\"Manager\"]).count()"
   ],
   "metadata": {
    "collapsed": false,
    "pycharm": {
     "name": "#%%\n"
    }
   }
  },
  {
   "cell_type": "code",
   "execution_count": 9,
   "outputs": [],
   "source": [
    "# with pd.option_context('display.max_rows', None, 'display.max_columns', None):  # more options can be specified also\n",
    "#    print(storeSales)"
   ],
   "metadata": {
    "collapsed": false,
    "pycharm": {
     "name": "#%%\n"
    }
   }
  },
  {
   "cell_type": "code",
   "execution_count": 10,
   "outputs": [],
   "source": [
    "# storeSales.groupby([\"Manager\"])[\"Sales\"].agg('sum')"
   ],
   "metadata": {
    "collapsed": false,
    "pycharm": {
     "name": "#%%\n"
    }
   }
  },
  {
   "cell_type": "code",
   "execution_count": 10,
   "outputs": [],
   "source": [],
   "metadata": {
    "collapsed": false,
    "pycharm": {
     "name": "#%%\n"
    }
   }
  }
 ],
 "metadata": {
  "kernelspec": {
   "display_name": "Python 3",
   "language": "python",
   "name": "python3"
  },
  "language_info": {
   "codemirror_mode": {
    "name": "ipython",
    "version": 2
   },
   "file_extension": ".py",
   "mimetype": "text/x-python",
   "name": "python",
   "nbconvert_exporter": "python",
   "pygments_lexer": "ipython2",
   "version": "2.7.6"
  }
 },
 "nbformat": 4,
 "nbformat_minor": 0
}