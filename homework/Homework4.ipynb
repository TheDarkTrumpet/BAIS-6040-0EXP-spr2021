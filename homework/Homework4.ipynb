{
 "cells": [
  {
   "cell_type": "markdown",
   "metadata": {
    "collapsed": true,
    "pycharm": {
     "name": "#%% md\n"
    }
   },
   "source": [
    "# Homework 4\n",
    "\n",
    "## Purpose:\n",
    "The previous homework was aimed at two objectives.  First, to get a handle on looping structures, how to generate data sets, and general use.  Second, was to try and get people to think more like what's necessary to solve programmatic problems.\n",
    "\n",
    "This homework will build on that concept.  We have two parts of the homework.  The first being an improvement on homework 1 by adding functions, using more concise generation of the data sets, and so on.  The second being working with NumPy, and how to work with arrays and matrices.\n",
    "## Required Hand-in\n",
    "Two notebooks are required.  The first notebook will be the extension of homework 2.  In this notebook please submit improvements upon your original design based off the contents of this week's lectures and independent research.  The second notebook will need to be what's listed in the Homework section part 2.\n",
    "\n",
    "## Homework\n",
    "### Part 1 - Improvements on original design\n",
    "For the first part of this, please look back at homework 2.  Look at areas that were not as concise as they should have been, or could be improved upon.  Utilize aspects and helpers within numpy to accomplish this.  Also look at your looping structures to see if you can make improvements in the way you handled week 2.  No one is exempt from improvements in their code.  If you feel like you can't improve your existing code, then defend it at the end of the notebook as a markdown block.\n",
    "\n",
    "Furthermore, I'll be publishing the answer for homework 2 early in the week.  Your improvements can use the answers as guidance, but should not be copied.  Spend time thinking about why I wrote it the way I did, and how you wrote it.  How are other examples online doing it?  The main purpose of this part of the assignment is to **think** about what you did, and how you can make improvements and to be able to defend design decisions.  Code reviews are a big part of development, and you'll be questioned in the \"real world\" about what you did and why.  Pretend you're in that situation.\n",
    "\n",
    "### Part 2 - NumPy and Matrices\n",
    "This homework will have a similar thought to that of homework 2, except now we'll work in 2 dimensions.  So looping will be required, as will slicing and the like.  Please perform the following steps:\n",
    "\n",
    "Please seed your random creations below (once only, before running them all)\n",
    "\n",
    "1.  Generate a 10x10 random matrix\n",
    "2.  Generate 2x random matrices\n",
    "    - One should be 10x1\n",
    "    - Other should be 1x11\n",
    "3.  Concatenate the matrices together in a way to get a 11x11 matrix\n",
    "    - Note: ~~We didn't have this in the lecture directly, since we have different dimensions, you'll need to read some documentation.~~ Correction (Thanks Alyssa for the correction):  It's possible to use concatenate for this, somehow this didn't work for me the first time around.  There are many ways to do this, I suggest playing with the different options.  See: https://numpy.org/doc/stable/reference/routines.array-manipulation.html\n",
    "4.  Determine the total number of even numbers, and total odd numbers\n",
    "    - Note: There are multiple ways of accomplishing this.  One option is a for/while loop, the other is using numpy libraries.  See https://numpy.org/doc/stable/reference/routines.html\n",
    "5.  Apply the round and sqrt functions to first get the sqrt of each element in the matrix, then to round that value.\n",
    "    - Note:  There are multiple ways of accomplishing this.  One option is a for/while loop, the other is using numpy libraries.\n",
    "    - https://numpy.org/doc/stable/reference/generated/numpy.vectorize.html is one of the best ways to accomplish this.\n",
    "6. Sum the columns (vertical) of the matrix, adding all rows in that column, and add it to a new list.  Output this list"
   ]
  },
  {
   "cell_type": "markdown",
   "source": [
    "# Part 1 and 2 - Generation"
   ],
   "metadata": {
    "collapsed": false,
    "pycharm": {
     "name": "#%% md\n"
    }
   }
  },
  {
   "cell_type": "code",
   "execution_count": 1,
   "outputs": [
    {
     "data": {
      "text/plain": "array([[60, 18, 98, 90, 98, 81, 78, 33, 68, 51],\n       [97, 24, 89, 44, 74, 10, 66, 19, 60, 70],\n       [49, 38, 70, 28, 20, 49, 14, 31, 62, 55],\n       [48, 77,  6, 60, 71, 21, 53, 98, 16, 66],\n       [41, 27, 91, 28, 40, 95, 13, 17, 82, 10],\n       [92, 27,  4, 22, 14, 39, 64, 17, 81, 16],\n       [90, 71, 37, 40,  6, 47, 47, 29, 93, 81],\n       [28, 21, 70, 22, 36, 70, 46, 74, 11, 90],\n       [77, 79, 14, 36, 63, 50, 97, 95, 70, 72],\n       [35, 98, 56, 32, 31, 23,  9, 19, 33, 49]])"
     },
     "execution_count": 1,
     "metadata": {},
     "output_type": "execute_result"
    }
   ],
   "source": [
    "import numpy as np\n",
    "import numpy.random as rnd\n",
    "rnd.seed(1024)\n",
    "matrixA = rnd.randint(1, 100, (10,10))\n",
    "matrixB = rnd.randint(1, 100, (10,1))\n",
    "matrixC = rnd.randint(1, 100, (1,11))\n",
    "matrixA"
   ],
   "metadata": {
    "collapsed": false,
    "pycharm": {
     "name": "#%%\n"
    }
   }
  },
  {
   "cell_type": "code",
   "execution_count": 2,
   "outputs": [
    {
     "data": {
      "text/plain": "array([[46],\n       [83],\n       [81],\n       [32],\n       [43],\n       [13],\n       [91],\n       [68],\n       [49],\n       [67]])"
     },
     "execution_count": 2,
     "metadata": {},
     "output_type": "execute_result"
    }
   ],
   "source": [
    "matrixB"
   ],
   "metadata": {
    "collapsed": false,
    "pycharm": {
     "name": "#%%\n"
    }
   }
  },
  {
   "cell_type": "code",
   "execution_count": 3,
   "outputs": [
    {
     "data": {
      "text/plain": "array([[84, 63, 97, 65, 95, 57, 15, 19, 29, 78, 66]])"
     },
     "execution_count": 3,
     "metadata": {},
     "output_type": "execute_result"
    }
   ],
   "source": [
    "matrixC"
   ],
   "metadata": {
    "collapsed": false,
    "pycharm": {
     "name": "#%%\n"
    }
   }
  },
  {
   "cell_type": "markdown",
   "source": [
    "# Part 3 - Concatenate"
   ],
   "metadata": {
    "collapsed": false,
    "pycharm": {
     "name": "#%% md\n"
    }
   }
  },
  {
   "cell_type": "code",
   "execution_count": 4,
   "outputs": [
    {
     "data": {
      "text/plain": "array([[60, 18, 98, 90, 98, 81, 78, 33, 68, 51, 46],\n       [97, 24, 89, 44, 74, 10, 66, 19, 60, 70, 83],\n       [49, 38, 70, 28, 20, 49, 14, 31, 62, 55, 81],\n       [48, 77,  6, 60, 71, 21, 53, 98, 16, 66, 32],\n       [41, 27, 91, 28, 40, 95, 13, 17, 82, 10, 43],\n       [92, 27,  4, 22, 14, 39, 64, 17, 81, 16, 13],\n       [90, 71, 37, 40,  6, 47, 47, 29, 93, 81, 91],\n       [28, 21, 70, 22, 36, 70, 46, 74, 11, 90, 68],\n       [77, 79, 14, 36, 63, 50, 97, 95, 70, 72, 49],\n       [35, 98, 56, 32, 31, 23,  9, 19, 33, 49, 67],\n       [84, 63, 97, 65, 95, 57, 15, 19, 29, 78, 66]])"
     },
     "execution_count": 4,
     "metadata": {},
     "output_type": "execute_result"
    }
   ],
   "source": [
    "# Option A\n",
    "bigMatrix = np.c_[matrixA, matrixB]\n",
    "bigMatrix = np.r_[bigMatrix, matrixC]\n",
    "bigMatrix"
   ],
   "metadata": {
    "collapsed": false,
    "pycharm": {
     "name": "#%%\n"
    }
   }
  },
  {
   "cell_type": "code",
   "execution_count": 5,
   "outputs": [
    {
     "data": {
      "text/plain": "array([[60, 18, 98, 90, 98, 81, 78, 33, 68, 51, 46],\n       [97, 24, 89, 44, 74, 10, 66, 19, 60, 70, 83],\n       [49, 38, 70, 28, 20, 49, 14, 31, 62, 55, 81],\n       [48, 77,  6, 60, 71, 21, 53, 98, 16, 66, 32],\n       [41, 27, 91, 28, 40, 95, 13, 17, 82, 10, 43],\n       [92, 27,  4, 22, 14, 39, 64, 17, 81, 16, 13],\n       [90, 71, 37, 40,  6, 47, 47, 29, 93, 81, 91],\n       [28, 21, 70, 22, 36, 70, 46, 74, 11, 90, 68],\n       [77, 79, 14, 36, 63, 50, 97, 95, 70, 72, 49],\n       [35, 98, 56, 32, 31, 23,  9, 19, 33, 49, 67],\n       [84, 63, 97, 65, 95, 57, 15, 19, 29, 78, 66]])"
     },
     "execution_count": 5,
     "metadata": {},
     "output_type": "execute_result"
    }
   ],
   "source": [
    "# Option B\n",
    "bigMatrix2 = np.hstack((matrixA, matrixB))\n",
    "bigMatrix2 = np.vstack((bigMatrix2, matrixC))\n",
    "bigMatrix2"
   ],
   "metadata": {
    "collapsed": false,
    "pycharm": {
     "name": "#%%\n"
    }
   }
  },
  {
   "cell_type": "code",
   "execution_count": 11,
   "outputs": [
    {
     "data": {
      "text/plain": "array([[60, 18, 98, 90, 98, 81, 78, 33, 68, 51, 46],\n       [97, 24, 89, 44, 74, 10, 66, 19, 60, 70, 83],\n       [49, 38, 70, 28, 20, 49, 14, 31, 62, 55, 81],\n       [48, 77,  6, 60, 71, 21, 53, 98, 16, 66, 32],\n       [41, 27, 91, 28, 40, 95, 13, 17, 82, 10, 43],\n       [92, 27,  4, 22, 14, 39, 64, 17, 81, 16, 13],\n       [90, 71, 37, 40,  6, 47, 47, 29, 93, 81, 91],\n       [28, 21, 70, 22, 36, 70, 46, 74, 11, 90, 68],\n       [77, 79, 14, 36, 63, 50, 97, 95, 70, 72, 49],\n       [35, 98, 56, 32, 31, 23,  9, 19, 33, 49, 67],\n       [84, 63, 97, 65, 95, 57, 15, 19, 29, 78, 66]])"
     },
     "execution_count": 11,
     "metadata": {},
     "output_type": "execute_result"
    }
   ],
   "source": [
    "# Option C\n",
    "bigMatrix3 = np.concatenate((matrixA, matrixB), axis=1)\n",
    "bigMatrix3 = np.concatenate((bigMatrix3, matrixC))\n",
    "bigMatrix3"
   ],
   "metadata": {
    "collapsed": false,
    "pycharm": {
     "name": "#%%\n"
    }
   }
  },
  {
   "cell_type": "markdown",
   "source": [
    "# Part 4 - Count Even/Odds"
   ],
   "metadata": {
    "collapsed": false,
    "pycharm": {
     "name": "#%% md\n"
    }
   }
  },
  {
   "cell_type": "code",
   "execution_count": 6,
   "outputs": [
    {
     "name": "stdout",
     "output_type": "stream",
     "text": [
      "Number of evens: 61, odds: 38\n"
     ]
    }
   ],
   "source": [
    "evens = len(np.argwhere(bigMatrix % 2 == 0))\n",
    "odds = len(np.argwhere(bigMatrix % 3 == 0))\n",
    "print(f\"Number of evens: {evens}, odds: {odds}\")\n"
   ],
   "metadata": {
    "collapsed": false,
    "pycharm": {
     "name": "#%%\n"
    }
   }
  },
  {
   "cell_type": "markdown",
   "source": [
    "# Part 5 - Square-root & Rounding"
   ],
   "metadata": {
    "collapsed": false,
    "pycharm": {
     "name": "#%% md\n"
    }
   }
  },
  {
   "cell_type": "code",
   "execution_count": 7,
   "outputs": [
    {
     "data": {
      "text/plain": "array([[ 8,  4, 10,  9, 10,  9,  9,  6,  8,  7,  7],\n       [10,  5,  9,  7,  9,  3,  8,  4,  8,  8,  9],\n       [ 7,  6,  8,  5,  4,  7,  4,  6,  8,  7,  9],\n       [ 7,  9,  2,  8,  8,  5,  7, 10,  4,  8,  6],\n       [ 6,  5, 10,  5,  6, 10,  4,  4,  9,  3,  7],\n       [10,  5,  2,  5,  4,  6,  8,  4,  9,  4,  4],\n       [ 9,  8,  6,  6,  2,  7,  7,  5, 10,  9, 10],\n       [ 5,  5,  8,  5,  6,  8,  7,  9,  3,  9,  8],\n       [ 9,  9,  4,  6,  8,  7, 10, 10,  8,  8,  7],\n       [ 6, 10,  7,  6,  6,  5,  3,  4,  6,  7,  8],\n       [ 9,  8, 10,  8, 10,  8,  4,  4,  5,  9,  8]])"
     },
     "execution_count": 7,
     "metadata": {},
     "output_type": "execute_result"
    }
   ],
   "source": [
    "from math import sqrt\n",
    "vMatrix = np.vectorize(lambda x: round(sqrt(x)))\n",
    "sqrtMatrix = vMatrix(bigMatrix)\n",
    "sqrtMatrix"
   ],
   "metadata": {
    "collapsed": false,
    "pycharm": {
     "name": "#%%\n"
    }
   }
  },
  {
   "cell_type": "markdown",
   "source": [
    "# Part 6 - Vertical Summing"
   ],
   "metadata": {
    "collapsed": false,
    "pycharm": {
     "name": "#%% md\n"
    }
   }
  },
  {
   "cell_type": "code",
   "execution_count": 8,
   "outputs": [
    {
     "data": {
      "text/plain": "[86, 74, 76, 70, 73, 75, 71, 66, 78, 79, 83]"
     },
     "execution_count": 8,
     "metadata": {},
     "output_type": "execute_result"
    }
   ],
   "source": [
    "matrixLength = len(sqrtMatrix)\n",
    "lengths = []\n",
    "for x in range(0, matrixLength):\n",
    "    lengths.append(sum(sqrtMatrix[:,x]))\n",
    "lengths\n"
   ],
   "metadata": {
    "collapsed": false,
    "pycharm": {
     "name": "#%%\n"
    }
   }
  },
  {
   "cell_type": "code",
   "execution_count": 8,
   "outputs": [],
   "source": [],
   "metadata": {
    "collapsed": false,
    "pycharm": {
     "name": "#%%\n"
    }
   }
  }
 ],
 "metadata": {
  "kernelspec": {
   "display_name": "Python 3",
   "language": "python",
   "name": "python3"
  },
  "language_info": {
   "codemirror_mode": {
    "name": "ipython",
    "version": 2
   },
   "file_extension": ".py",
   "mimetype": "text/x-python",
   "name": "python",
   "nbconvert_exporter": "python",
   "pygments_lexer": "ipython2",
   "version": "2.7.6"
  }
 },
 "nbformat": 4,
 "nbformat_minor": 0
}