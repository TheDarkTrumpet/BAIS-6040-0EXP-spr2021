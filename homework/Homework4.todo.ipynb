{
 "cells": [
  {
   "cell_type": "markdown",
   "metadata": {
    "collapsed": true,
    "pycharm": {
     "name": "#%% md\n"
    }
   },
   "source": [
    "# Homework 4\n",
    "\n",
    "## Purpose:\n",
    "The previous homework assignments were designed to create a solid foundation for going further in Python.  NumPy is our first \"real\" 3rd party module that we'll start using.\n",
    "\n",
    "## Required Hand-in\n",
    "Only one notebook is required for this particular homework.  Like all homeworks, each step flows into the next step.  Meaning, the output of step 1/2 is used in step 3.  The matrix from step 3 is used in step 4.  Step 4 -> step 5.  And so on.  All homeworks will follow a similar format, unless otherwise stated.\n",
    "\n",
    "## Homework\n",
    "\n",
    "### Part 1 - NumPy and Matrices\n",
    "This homework will have a similar thought to that of homework 2, except now we'll work in 2 dimensions.  So looping will be required, as will slicing and the like.  Please perform the following steps:\n",
    "\n",
    "Please seed your random creations below (once only, before running them all)\n",
    "\n",
    "1.  Generate a 10x10 random matrix\n",
    "2.  Generate 2x random matrices\n",
    "    - One should be 10x1\n",
    "    - Other should be 1x11\n",
    "3.  Concatenate the matrices (from step 1 and 2) together in a way to get a 11x11 matrix\n",
    "    - Note: We didn't have this in the lecture directly, since we have different dimensions, you'll need to read some documentation.  See: https://numpy.org/doc/stable/reference/routines.array-manipulation.html\n",
    "4.  Determine the total number of even numbers, and total odd numbers\n",
    "    - Note: There are multiple ways of accomplishing this.  One option is a for/while loop, the other is using numpy libraries.  See https://numpy.org/doc/stable/reference/routines.html\n",
    "5.  Apply the round and sqrt functions to first get the sqrt of each element in the matrix, then to round that value.\n",
    "    - Note:  There are multiple ways of accomplishing this.  One option is a for/while loop, the other is using numpy libraries.\n",
    "    - https://numpy.org/doc/stable/reference/generated/numpy.vectorize.html is one of the best ways to accomplish this.\n",
    "6. Sum the columns (vertical) of the matrix, adding all rows in that column, and add it to a new list.  Output this list"
   ]
  },
  {
   "cell_type": "markdown",
   "metadata": {
    "pycharm": {
     "name": "#%% md\n"
    }
   },
   "source": [
    "# Part 1 and 2 - Generation"
   ]
  },
  {
   "cell_type": "code",
   "execution_count": 2,
   "metadata": {
    "pycharm": {
     "name": "#%%\n"
    }
   },
   "outputs": [
    {
     "data": {
      "text/plain": [
       "array([[60, 18, 98, 90, 98, 81, 78, 33, 68, 51],\n",
       "       [97, 24, 89, 44, 74, 10, 66, 19, 60, 70],\n",
       "       [49, 38, 70, 28, 20, 49, 14, 31, 62, 55],\n",
       "       [48, 77,  6, 60, 71, 21, 53, 98, 16, 66],\n",
       "       [41, 27, 91, 28, 40, 95, 13, 17, 82, 10],\n",
       "       [92, 27,  4, 22, 14, 39, 64, 17, 81, 16],\n",
       "       [90, 71, 37, 40,  6, 47, 47, 29, 93, 81],\n",
       "       [28, 21, 70, 22, 36, 70, 46, 74, 11, 90],\n",
       "       [77, 79, 14, 36, 63, 50, 97, 95, 70, 72],\n",
       "       [35, 98, 56, 32, 31, 23,  9, 19, 33, 49]])"
      ]
     },
     "execution_count": 2,
     "metadata": {},
     "output_type": "execute_result"
    }
   ],
   "source": []
  },
  {
   "cell_type": "code",
   "execution_count": 3,
   "metadata": {
    "pycharm": {
     "name": "#%%\n"
    }
   },
   "outputs": [
    {
     "data": {
      "text/plain": [
       "array([[46],\n",
       "       [83],\n",
       "       [81],\n",
       "       [32],\n",
       "       [43],\n",
       "       [13],\n",
       "       [91],\n",
       "       [68],\n",
       "       [49],\n",
       "       [67]])"
      ]
     },
     "execution_count": 3,
     "metadata": {},
     "output_type": "execute_result"
    }
   ],
   "source": []
  },
  {
   "cell_type": "code",
   "execution_count": 4,
   "metadata": {
    "pycharm": {
     "name": "#%%\n"
    }
   },
   "outputs": [
    {
     "data": {
      "text/plain": [
       "array([[84, 63, 97, 65, 95, 57, 15, 19, 29, 78, 66]])"
      ]
     },
     "execution_count": 4,
     "metadata": {},
     "output_type": "execute_result"
    }
   ],
   "source": []
  },
  {
   "cell_type": "markdown",
   "metadata": {
    "pycharm": {
     "name": "#%% md\n"
    }
   },
   "source": [
    "# Part 3 - Concatenate"
   ]
  },
  {
   "cell_type": "code",
   "execution_count": 5,
   "metadata": {
    "pycharm": {
     "name": "#%%\n"
    }
   },
   "outputs": [
    {
     "data": {
      "text/plain": [
       "array([[60, 18, 98, 90, 98, 81, 78, 33, 68, 51, 46],\n",
       "       [97, 24, 89, 44, 74, 10, 66, 19, 60, 70, 83],\n",
       "       [49, 38, 70, 28, 20, 49, 14, 31, 62, 55, 81],\n",
       "       [48, 77,  6, 60, 71, 21, 53, 98, 16, 66, 32],\n",
       "       [41, 27, 91, 28, 40, 95, 13, 17, 82, 10, 43],\n",
       "       [92, 27,  4, 22, 14, 39, 64, 17, 81, 16, 13],\n",
       "       [90, 71, 37, 40,  6, 47, 47, 29, 93, 81, 91],\n",
       "       [28, 21, 70, 22, 36, 70, 46, 74, 11, 90, 68],\n",
       "       [77, 79, 14, 36, 63, 50, 97, 95, 70, 72, 49],\n",
       "       [35, 98, 56, 32, 31, 23,  9, 19, 33, 49, 67],\n",
       "       [84, 63, 97, 65, 95, 57, 15, 19, 29, 78, 66]])"
      ]
     },
     "execution_count": 5,
     "metadata": {},
     "output_type": "execute_result"
    }
   ],
   "source": []
  },
  {
   "cell_type": "markdown",
   "metadata": {
    "pycharm": {
     "name": "#%% md\n"
    }
   },
   "source": [
    "# Part 4 - Count Even/Odds"
   ]
  },
  {
   "cell_type": "code",
   "execution_count": 7,
   "metadata": {
    "pycharm": {
     "name": "#%%\n"
    }
   },
   "outputs": [
    {
     "name": "stdout",
     "output_type": "stream",
     "text": [
      "Number of evens: 61, odds: 38\n"
     ]
    }
   ],
   "source": []
  },
  {
   "cell_type": "markdown",
   "metadata": {
    "pycharm": {
     "name": "#%% md\n"
    }
   },
   "source": [
    "# Part 5 - Square-root & Rounding"
   ]
  },
  {
   "cell_type": "code",
   "execution_count": 8,
   "metadata": {
    "pycharm": {
     "name": "#%%\n"
    }
   },
   "outputs": [
    {
     "data": {
      "text/plain": [
       "array([[ 8,  4, 10,  9, 10,  9,  9,  6,  8,  7,  7],\n",
       "       [10,  5,  9,  7,  9,  3,  8,  4,  8,  8,  9],\n",
       "       [ 7,  6,  8,  5,  4,  7,  4,  6,  8,  7,  9],\n",
       "       [ 7,  9,  2,  8,  8,  5,  7, 10,  4,  8,  6],\n",
       "       [ 6,  5, 10,  5,  6, 10,  4,  4,  9,  3,  7],\n",
       "       [10,  5,  2,  5,  4,  6,  8,  4,  9,  4,  4],\n",
       "       [ 9,  8,  6,  6,  2,  7,  7,  5, 10,  9, 10],\n",
       "       [ 5,  5,  8,  5,  6,  8,  7,  9,  3,  9,  8],\n",
       "       [ 9,  9,  4,  6,  8,  7, 10, 10,  8,  8,  7],\n",
       "       [ 6, 10,  7,  6,  6,  5,  3,  4,  6,  7,  8],\n",
       "       [ 9,  8, 10,  8, 10,  8,  4,  4,  5,  9,  8]])"
      ]
     },
     "execution_count": 8,
     "metadata": {},
     "output_type": "execute_result"
    }
   ],
   "source": []
  },
  {
   "cell_type": "markdown",
   "metadata": {
    "pycharm": {
     "name": "#%% md\n"
    }
   },
   "source": [
    "# Part 6 - Vertical Summing"
   ]
  },
  {
   "cell_type": "code",
   "execution_count": 14,
   "metadata": {
    "pycharm": {
     "name": "#%%\n"
    }
   },
   "outputs": [
    {
     "data": {
      "text/plain": [
       "[86, 74, 76, 70, 73, 75, 71, 66, 78, 79, 83]"
      ]
     },
     "execution_count": 14,
     "metadata": {},
     "output_type": "execute_result"
    }
   ],
   "source": []
  }
 ],
 "metadata": {
  "kernelspec": {
   "display_name": "Python 3",
   "language": "python",
   "name": "python3"
  },
  "language_info": {
   "codemirror_mode": {
    "name": "ipython",
    "version": 3
   },
   "file_extension": ".py",
   "mimetype": "text/x-python",
   "name": "python",
   "nbconvert_exporter": "python",
   "pygments_lexer": "ipython3",
   "version": "3.8.7"
  }
 },
 "nbformat": 4,
 "nbformat_minor": 1
}