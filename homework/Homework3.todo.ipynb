{
 "cells": [
  {
   "cell_type": "markdown",
   "metadata": {
    "collapsed": true,
    "pycharm": {
     "name": "#%% md\n"
    }
   },
   "source": [
    "# Homework 3\n",
    "\n",
    "## Purpose:\n",
    "The previous homework was aimed at two objectives.  First, to get a handle on looping structures, how to generate data sets, and general use.  Second, was to try and get people to think more like what's necessary to solve programmatic problems.\n",
    "\n",
    "This homework will build on that concept.  We have two parts of the homework.  The first being an improvement on homework 1 by adding functions, using more concise generation of the data sets, and so on.  The second being working with more complicated list/set structures.\n",
    "## Required Hand-in\n",
    "Two notebooks are required.  The first notebook will be the extension of homework 2.  In this notebook please submit improvements upon your original design based off the contents of this week's lectures and independent research.  The second notebook will need to be what's listed in the Homework section part 2.\n",
    "\n",
    "### Part 1 - Improvements on original design\n",
    "For the first part of this, please look back at homework 2.  Look at areas that were not as concise as they should have been, or could be improved upon.  Utilize aspects and helpers within numpy to accomplish this.  Also look at your looping structures to see if you can make improvements in the way you handled week 2.  No one is exempt from improvements in their code.  If you feel like you can't improve your existing code, then defend it at the end of the notebook as a markdown block.\n",
    "\n",
    "Furthermore, I'll be publishing the answer for homework 2 early in the week.  Your improvements can use the answers as guidance, but should not be copied.  Spend time thinking about why I wrote it the way I did, and how you wrote it.  How are other examples online doing it?  The main purpose of this part of the assignment is to **think** about what you did, and how you can make improvements and to be able to defend design decisions.  Code reviews are a big part of development, and you'll be questioned in the \"real world\" about what you did and why.  Pretend you're in that situation.\n",
    "\n",
    "### Part 2 - Working with Sets/Lists"
   ]
  },
  {
   "cell_type": "markdown",
   "source": [
    "## Part 2.1 - Create function to generate test data set.\n",
    "Create a function that takes a number of elements to return, and an **optional** seed, and returns a list.  This list should contain the number of elements.  These elements should take the optional seed, set it, and take a random element of iteration count.  This then iterates over that \"iteration count\" to pick the m_th element, which appends to a list.  To put this as a user story of sorts.  You can assume a number is coming in\n",
    "\n",
    "I want to build a function that accepts a number, and an optional seed.  I then want to loop until I collect the N elements, and in each loop I want to get a new random number between 1-10 which will represent the number of iterations I need to perform to obtain that element, which I'll add to a list.  I'll repeat the entire process until I have the required number of elements desired, and return it as a list.\n",
    "\n",
    "Note, the seed provided should be used to generate the seed which will be used to randomly iterate to generate the random numbers.  So you set the seed once, and are generating calling randomint. Also note, you'll need two looping structures to accomplish this.  Yes, there's a way to do this efficiently in close to 1 line of code (or more 3 counting the function definition)."
   ],
   "metadata": {
    "collapsed": false,
    "pycharm": {
     "name": "#%% md\n"
    }
   }
  },
  {
   "cell_type": "code",
   "execution_count": 6,
   "outputs": [],
   "source": [],
   "metadata": {
    "collapsed": false,
    "pycharm": {
     "name": "#%%\n"
    }
   }
  },
  {
   "cell_type": "markdown",
   "source": [
    "## Part 2.2 - Using the function\n",
    "Use the function two ways.  So generate two lists of 20 elements each.  For the first time you call the function, set the seed manually.  For the second, do not set the seed manually in the function call.\n",
    "\n",
    "For example:\n",
    "```\n",
    "generateRandom(10, 5555)\n",
    "generateRandom(10)\n",
    "```"
   ],
   "metadata": {
    "collapsed": false,
    "pycharm": {
     "name": "#%% md\n"
    }
   }
  },
  {
   "cell_type": "code",
   "execution_count": 7,
   "outputs": [
    {
     "name": "stdout",
     "output_type": "stream",
     "text": [
      "listA contents: [71, 45, 62, 19, 15, 19, 96, 18, 15, 57]\n",
      "listB contents: [62, 93, 50, 20, 78, 11, 47, 21, 59, 43]\n"
     ]
    }
   ],
   "source": [],
   "metadata": {
    "collapsed": false,
    "pycharm": {
     "name": "#%%\n"
    }
   }
  },
  {
   "cell_type": "markdown",
   "source": [
    "## Part 2.3 - Order each list\n",
    "For the next part, order the first list in ascending order, and the second list in descending order.\n",
    "We didn't go over how to do this in the course, but it's a simple function.  Please google it"
   ],
   "metadata": {
    "collapsed": false,
    "pycharm": {
     "name": "#%% md\n"
    }
   }
  },
  {
   "cell_type": "code",
   "execution_count": 8,
   "outputs": [
    {
     "name": "stdout",
     "output_type": "stream",
     "text": [
      "listA contents: [15, 15, 18, 19, 19, 45, 57, 62, 71, 96]\n",
      "listB contents: [93, 78, 62, 59, 50, 47, 43, 21, 20, 11]\n"
     ]
    }
   ],
   "source": [],
   "metadata": {
    "collapsed": false,
    "pycharm": {
     "name": "#%%\n"
    }
   }
  },
  {
   "cell_type": "markdown",
   "source": [
    "## Part 2.4 - Combine the structures\n",
    "For this part, you'll need to generate a new single list, that contains tuples from the previous list\n",
    "\n",
    "If we have:\n",
    "```\n",
    "listA = [Ea1, Ea2, Ea3, Ea4]\n",
    "listB = [Eb1, Eb2, Eb3, Eb4]\n",
    "```\n",
    "\n",
    "Then the ending structure should look like:\n",
    "```\n",
    "[(Ea1, Eb1), (Ea2, Eb2), (Ea3, Eb3), (Ea4, Eb4)]\n",
    "```\n",
    "\n",
    "The order, for the list doesn't matter in this.  It can either be as represented above, or reverse order, or however one wants.  As long as the tuples are combined correctly inside it."
   ],
   "metadata": {
    "collapsed": false,
    "pycharm": {
     "name": "#%% md\n"
    }
   }
  },
  {
   "cell_type": "code",
   "execution_count": 9,
   "outputs": [
    {
     "data": {
      "text/plain": "[(96, 11),\n (71, 20),\n (62, 21),\n (57, 43),\n (45, 47),\n (19, 50),\n (19, 59),\n (18, 62),\n (15, 78),\n (15, 93)]"
     },
     "execution_count": 9,
     "metadata": {},
     "output_type": "execute_result"
    }
   ],
   "source": [],
   "metadata": {
    "collapsed": false,
    "pycharm": {
     "name": "#%%\n"
    }
   }
  },
  {
   "cell_type": "markdown",
   "source": [
    "## Part 2.5 - Generation addition list\n",
    "Using the previous structure (all these build on top of each other, so the output from 2.4), generate a list that has the tuples added.  Then, also generate a set from that output.  Output both of these using F-strings in one cell.\n",
    "\n",
    "For example, using our previous structure:\n",
    "```\n",
    "[(Ea1, Eb1), (Ea2, Eb2), (Ea3, Eb3), (Ea4, Eb4)]\n",
    "```\n",
    "The resulting output would be:\n",
    "```\n",
    "[Ea1+Eb1, Ea2+Eb2, Ea3+Eb3, Ea4+Eb4]\n",
    "```\n",
    "Much like 2.4, the order of the resulting list doesn't matter.  As long as the values add up properly"
   ],
   "metadata": {
    "collapsed": false,
    "pycharm": {
     "name": "#%% md\n"
    }
   }
  },
  {
   "cell_type": "code",
   "execution_count": 12,
   "outputs": [
    {
     "name": "stdout",
     "output_type": "stream",
     "text": [
      "summedList => [107, 91, 83, 100, 92, 69, 78, 80, 93, 108]\n",
      "summedSet => {100, 69, 107, 108, 78, 80, 83, 91, 92, 93}\n"
     ]
    }
   ],
   "source": [],
   "metadata": {
    "collapsed": false,
    "pycharm": {
     "name": "#%%\n"
    }
   }
  },
  {
   "cell_type": "code",
   "execution_count": null,
   "outputs": [],
   "source": [],
   "metadata": {
    "collapsed": false,
    "pycharm": {
     "name": "#%%\n"
    }
   }
  }
 ],
 "metadata": {
  "kernelspec": {
   "display_name": "Python 3",
   "language": "python",
   "name": "python3"
  },
  "language_info": {
   "codemirror_mode": {
    "name": "ipython",
    "version": 2
   },
   "file_extension": ".py",
   "mimetype": "text/x-python",
   "name": "python",
   "nbconvert_exporter": "python",
   "pygments_lexer": "ipython2",
   "version": "2.7.6"
  }
 },
 "nbformat": 4,
 "nbformat_minor": 0
}