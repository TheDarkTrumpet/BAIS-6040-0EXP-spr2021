{
 "cells": [
  {
   "cell_type": "markdown",
   "metadata": {
    "collapsed": true,
    "pycharm": {
     "name": "#%% md\n"
    }
   },
   "source": [
    "# Homework 6\n",
    "\n",
    "## Purpose\n",
    "\n",
    "The purpose of this homework is to explore using Matplotlib, Plotly, and Seaborn to help visualize information.  To make this more meaningful for your groups and your projects, this will be counted as a **group homework**, and each will receive the same grade.\n",
    "\n",
    "## Homework\n",
    "\n",
    "Please look at the types of data you have for your project.  I'd like to see a two Jupyter notebooks.\n",
    "\n",
    "### Notebook 1\n",
    "\n",
    "For notebook 1, the goal of this is to practice the different libraries and try plotting different types of graphs.  This is intentionally open ended, but, please look at the gallery for each library, and pick 5-6 different visualizations that may appear to work.  Then, for each library, generate those 5-6 visualizations.  So in total, you should have between 15-18 different charts you are generating.\n",
    "\n",
    "### Notebook 2\n",
    "\n",
    "For notebook 2, this should be considered and be consistent as if it's a project report.  I want to see the following information:\n",
    "\n",
    "1.  What type of data are you dealing with?  Think, is it all from one source, multiple sources, categorical, etc.  What difficulties, if any, are present in this data?\n",
    "2.  What types of visualization are useful, and why is your choice a preferred choice?  Which library did you decide to use? Again, why did you choose it?\n",
    "3.  After looking at this all, do you feel you have too much, or too little information?  Do you feel you'll come up with good results/information from the data you have on hand?  If you have too little data to make this all meaningful, can you get more data?  What's your plan, in other words.\n",
    "\n",
    "## Working with your group\n",
    "\n",
    "One point of this homework is to make sure the groups are working together.  Meaning, you need to have a good idea about how to collaborate on some singular code base/setup.  One point of this homework is to make sure you all have this under control before the project is due, and to utilize concepts presented in this module toward that end.\n",
    "\n",
    "**This is a group project, everyone _must_ work on this all together.  If you have group issues, or people not pulling their weight, then see me**"
   ]
  }
 ],
 "metadata": {
  "kernelspec": {
   "display_name": "Python 3",
   "language": "python",
   "name": "python3"
  },
  "language_info": {
   "codemirror_mode": {
    "name": "ipython",
    "version": 2
   },
   "file_extension": ".py",
   "mimetype": "text/x-python",
   "name": "python",
   "nbconvert_exporter": "python",
   "pygments_lexer": "ipython2",
   "version": "2.7.6"
  }
 },
 "nbformat": 4,
 "nbformat_minor": 0
}