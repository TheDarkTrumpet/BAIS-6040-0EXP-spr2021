{
 "cells": [
  {
   "cell_type": "markdown",
   "metadata": {
    "collapsed": true,
    "pycharm": {
     "name": "#%% md\n"
    }
   },
   "source": [
    "# Homework 3\n",
    "\n",
    "## Purpose:\n",
    "The previous homework was aimed at two objectives.  First, to get a handle on looping structures, how to generate data sets, and general use.  Second, was to try and get people to think more like what's necessary to solve programmatic problems.\n",
    "\n",
    "This homework will build on that concept.  We have two parts of the homework.  The first being an improvement on homework 1 by adding functions, using more concise generation of the data sets, and so on.  The second being working with NumPy, and how to work with arrays and matrices.\n",
    "## Required Hand-in\n",
    "Two notebooks are required.  The first notebook will be the extension of homework 2.  In this notebook please submit improvements upon your original design based off the contents of this week's lectures and independent research.  The second notebook will need to be what's listed in the Homework section part 2.\n",
    "\n",
    "### Part 1 - Improvements on original design\n",
    "For the first part of this, please look back at homework 2.  Look at areas that were not as concise as they should have been, or could be improved upon.  Utilize aspects and helpers within numpy to accomplish this.  Also look at your looping structures to see if you can make improvements in the way you handled week 2.  No one is exempt from improvements in their code.  If you feel like you can't improve your existing code, then defend it at the end of the notebook as a markdown block.\n",
    "\n",
    "Furthermore, I'll be publishing the answer for homework 2 early in the week.  Your improvements can use the answers as guidance, but should not be copied.  Spend time thinking about why I wrote it the way I did, and how you wrote it.  How are other examples online doing it?  The main purpose of this part of the assignment is to **think** about what you did, and how you can make improvements and to be able to defend design decisions.  Code reviews are a big part of development, and you'll be questioned in the \"real world\" about what you did and why.  Pretend you're in that situation."
   ]
  }
 ],
 "metadata": {
  "kernelspec": {
   "display_name": "Python 3",
   "language": "python",
   "name": "python3"
  },
  "language_info": {
   "codemirror_mode": {
    "name": "ipython",
    "version": 2
   },
   "file_extension": ".py",
   "mimetype": "text/x-python",
   "name": "python",
   "nbconvert_exporter": "python",
   "pygments_lexer": "ipython2",
   "version": "2.7.6"
  }
 },
 "nbformat": 4,
 "nbformat_minor": 0
}