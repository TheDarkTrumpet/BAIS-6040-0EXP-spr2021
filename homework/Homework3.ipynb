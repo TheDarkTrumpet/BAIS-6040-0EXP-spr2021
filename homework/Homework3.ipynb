{
 "cells": [
  {
   "cell_type": "markdown",
   "metadata": {
    "collapsed": true,
    "pycharm": {
     "name": "#%% md\n"
    }
   },
   "source": [
    "# Homework 3\n",
    "\n",
    "## Purpose:\n",
    "The previous homework was aimed at two objectives.  First, to get a handle on looping structures, how to generate data sets, and general use.  Second, was to try and get people to think more like what's necessary to solve programmatic problems.\n",
    "\n",
    "This homework will build on that concept.  We have two parts of the homework.  The first being an improvement on homework 1 by adding functions, using more concise generation of the data sets, and so on.  The second being working with NumPy, and how to work with arrays and matrices.\n",
    "## Required Hand-in\n",
    "Two notebooks are required.  The first notebook will be the extension of homework 2.  In this notebook please submit improvements upon your original design based off the contents of this week's lectures and independent research.  The second notebook will need to be what's listed in the Homework section part 2.\n",
    "\n",
    "## Homework\n",
    "### Part 1 - Improvements on original design\n",
    "For the first part of this, please look back at homework 2.  Look at areas that were not as concise as they should have been, or could be improved upon.  Utilize aspects and helpers within numpy to accomplish this.  Also look at your looping structures to see if you can make improvements in the way you handled week 2.  No one is exempt from improvements in their code.  If you feel like you can't improve your existing code, then defend it at the end of the notebook as a markdown block.\n",
    "\n",
    "Furthermore, I'll be publishing the answer for homework 2 early in the week.  Your improvements can use the answers as guidance, but should not be copied.  Spend time thinking about why I wrote it the way I did, and how you wrote it.  How are other examples online doing it?  The main purpose of this part of the assignment is to **think** about what you did, and how you can make improvements and to be able to defend design decisions.  Code reviews are a big part of development, and you'll be questioned in the \"real world\" about what you did and why.  Pretend you're in that situation.\n",
    "\n",
    "### Part 2 - NumPy and Matrices\n",
    "This homework will have a similar thought to that of homework 2, except now we'll work in 2 dimensions.  So looping will be required, as will slicing and the like.  Please perform the following steps:\n",
    "\n",
    "Please seed your random creations below (once only, before running them all)\n",
    "\n",
    "1.  Generate a 49x49 random matrix\n",
    "2.  Generate 2x 10x1 random matrices\n",
    "3.  Concatenate the matrices together in a way to get a 50x50 matrix"
   ]
  },
  {
   "cell_type": "code",
   "execution_count": 30,
   "outputs": [
    {
     "data": {
      "text/plain": "array([[60, 18, 98, 90, 98, 81, 78, 33, 68, 51],\n       [97, 24, 89, 44, 74, 10, 66, 19, 60, 70],\n       [49, 38, 70, 28, 20, 49, 14, 31, 62, 55],\n       [48, 77,  6, 60, 71, 21, 53, 98, 16, 66],\n       [41, 27, 91, 28, 40, 95, 13, 17, 82, 10],\n       [92, 27,  4, 22, 14, 39, 64, 17, 81, 16],\n       [90, 71, 37, 40,  6, 47, 47, 29, 93, 81],\n       [28, 21, 70, 22, 36, 70, 46, 74, 11, 90],\n       [77, 79, 14, 36, 63, 50, 97, 95, 70, 72],\n       [35, 98, 56, 32, 31, 23,  9, 19, 33, 49]])"
     },
     "execution_count": 30,
     "metadata": {},
     "output_type": "execute_result"
    }
   ],
   "source": [
    "import numpy as np\n",
    "import numpy.random as rnd\n",
    "rnd.seed(1024)\n",
    "matrixA = rnd.randint(1, 100, (10,10))\n",
    "matrixB = rnd.randint(1, 100, (10,1))\n",
    "matrixC = rnd.randint(1, 100, (1,11))\n",
    "matrixA"
   ],
   "metadata": {
    "collapsed": false,
    "pycharm": {
     "name": "#%%\n"
    }
   }
  },
  {
   "cell_type": "code",
   "execution_count": 31,
   "outputs": [
    {
     "data": {
      "text/plain": "array([[46],\n       [83],\n       [81],\n       [32],\n       [43],\n       [13],\n       [91],\n       [68],\n       [49],\n       [67]])"
     },
     "execution_count": 31,
     "metadata": {},
     "output_type": "execute_result"
    }
   ],
   "source": [
    "matrixB"
   ],
   "metadata": {
    "collapsed": false,
    "pycharm": {
     "name": "#%%\n"
    }
   }
  },
  {
   "cell_type": "code",
   "execution_count": 32,
   "outputs": [
    {
     "data": {
      "text/plain": "array([[84, 63, 97, 65, 95, 57, 15, 19, 29, 78, 66]])"
     },
     "execution_count": 32,
     "metadata": {},
     "output_type": "execute_result"
    }
   ],
   "source": [
    "matrixC\n"
   ],
   "metadata": {
    "collapsed": false,
    "pycharm": {
     "name": "#%%\n"
    }
   }
  },
  {
   "cell_type": "code",
   "execution_count": 33,
   "outputs": [
    {
     "data": {
      "text/plain": "array([[60, 18, 98, 90, 98, 81, 78, 33, 68, 51, 46],\n       [97, 24, 89, 44, 74, 10, 66, 19, 60, 70, 83],\n       [49, 38, 70, 28, 20, 49, 14, 31, 62, 55, 81],\n       [48, 77,  6, 60, 71, 21, 53, 98, 16, 66, 32],\n       [41, 27, 91, 28, 40, 95, 13, 17, 82, 10, 43],\n       [92, 27,  4, 22, 14, 39, 64, 17, 81, 16, 13],\n       [90, 71, 37, 40,  6, 47, 47, 29, 93, 81, 91],\n       [28, 21, 70, 22, 36, 70, 46, 74, 11, 90, 68],\n       [77, 79, 14, 36, 63, 50, 97, 95, 70, 72, 49],\n       [35, 98, 56, 32, 31, 23,  9, 19, 33, 49, 67],\n       [84, 63, 97, 65, 95, 57, 15, 19, 29, 78, 66]])"
     },
     "execution_count": 33,
     "metadata": {},
     "output_type": "execute_result"
    }
   ],
   "source": [
    "# Option A\n",
    "bigMatrix = np.c_[matrixA, matrixB]\n",
    "bigMatrix = np.r_[bigMatrix, matrixC]\n",
    "bigMatrix"
   ],
   "metadata": {
    "collapsed": false,
    "pycharm": {
     "name": "#%%\n"
    }
   }
  },
  {
   "cell_type": "code",
   "execution_count": 36,
   "outputs": [
    {
     "data": {
      "text/plain": "array([[60, 18, 98, 90, 98, 81, 78, 33, 68, 51, 46],\n       [97, 24, 89, 44, 74, 10, 66, 19, 60, 70, 83],\n       [49, 38, 70, 28, 20, 49, 14, 31, 62, 55, 81],\n       [48, 77,  6, 60, 71, 21, 53, 98, 16, 66, 32],\n       [41, 27, 91, 28, 40, 95, 13, 17, 82, 10, 43],\n       [92, 27,  4, 22, 14, 39, 64, 17, 81, 16, 13],\n       [90, 71, 37, 40,  6, 47, 47, 29, 93, 81, 91],\n       [28, 21, 70, 22, 36, 70, 46, 74, 11, 90, 68],\n       [77, 79, 14, 36, 63, 50, 97, 95, 70, 72, 49],\n       [35, 98, 56, 32, 31, 23,  9, 19, 33, 49, 67],\n       [84, 63, 97, 65, 95, 57, 15, 19, 29, 78, 66]])"
     },
     "execution_count": 36,
     "metadata": {},
     "output_type": "execute_result"
    }
   ],
   "source": [
    "# Option B\n",
    "bigMatrix2 = np.hstack((matrixA, matrixB))\n",
    "bigMatrix2 = np.vstack((bigMatrix2, matrixC))\n",
    "bigMatrix2"
   ],
   "metadata": {
    "collapsed": false,
    "pycharm": {
     "name": "#%%\n"
    }
   }
  },
  {
   "cell_type": "code",
   "execution_count": null,
   "outputs": [],
   "source": [],
   "metadata": {
    "collapsed": false,
    "pycharm": {
     "name": "#%%\n"
    }
   }
  }
 ],
 "metadata": {
  "kernelspec": {
   "display_name": "Python 3",
   "language": "python",
   "name": "python3"
  },
  "language_info": {
   "codemirror_mode": {
    "name": "ipython",
    "version": 2
   },
   "file_extension": ".py",
   "mimetype": "text/x-python",
   "name": "python",
   "nbconvert_exporter": "python",
   "pygments_lexer": "ipython2",
   "version": "2.7.6"
  }
 },
 "nbformat": 4,
 "nbformat_minor": 0
}