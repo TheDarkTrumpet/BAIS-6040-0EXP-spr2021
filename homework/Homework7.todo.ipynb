{
 "cells": [
  {
   "cell_type": "markdown",
   "metadata": {
    "collapsed": true,
    "pycharm": {
     "name": "#%% md\n"
    }
   },
   "source": [
    "# Homework 7\n",
    "\n",
    "## Purpose\n",
    "\n",
    "The purpose of this homework is to explore using Scikitlearn in relation to your data.  Much like homework 6, this is a **group project**\n",
    "\n",
    "## Homework\n",
    "\n",
    "Please look at the types of data you have for your project.  I'd like to see N notebooks (number of people in your group + 1) Jupyter notebooks.\n",
    "\n",
    "### Notebook (N)-1\n",
    "\n",
    "Take the available algorithms that match your data set, and each take an algorithm or part of one.  Converse as a group about what features may best act as predictors.  Then, each student work on their portion of the learning algorithm and attempt to determine:\n",
    "\n",
    "1.  How well does the algorithm perform.\n",
    "2.  What options performed the best?\n",
    "3.  What features were more useful than others?\n",
    "\n",
    "Please submit everything as one collection in the end.  So when you work on notebook 2, just group everything up.  A zip file is fine.\n",
    "\n",
    "Please note the author on the top of your notebook file.\n",
    "\n",
    "### Notebook 2\n",
    "\n",
    "For notebook 2, this should be considered and be consistent as if it's a project report.  I want to see the following information:\n",
    "\n",
    "1.  What algorithm, of the ones attempted, appear to provide the best results, and why?\n",
    "2.  What features ended up being the most interesting/meaningful for your test?\n",
    "\n",
    "Treat this as a group report of sorts, so include graphs/charts/etc as necessary.\n",
    "\n",
    "## Working with your group\n",
    "\n",
    "While this is a group homework, this is intended to also require effort from each individual.  Meaning, there's a good individual component involved here.  For part 1, each of you can help each other but the person in charge is responsible for pulling the weight in that notebook and as long as you show good effort, and attempts, you should be good as far as grade.\n",
    "\n",
    "**This is a group project, everyone _must_ work on this all together.  If you have group issues, or people not pulling their weight, then see me**\n",
    "\n",
    "## Reference Graph\n",
    "\n",
    "![Sklearn ML Chart](https://scikit-learn.org/stable/_static/ml_map.png)"
   ]
  }
 ],
 "metadata": {
  "kernelspec": {
   "display_name": "Python 3",
   "language": "python",
   "name": "python3"
  },
  "language_info": {
   "codemirror_mode": {
    "name": "ipython",
    "version": 2
   },
   "file_extension": ".py",
   "mimetype": "text/x-python",
   "name": "python",
   "nbconvert_exporter": "python",
   "pygments_lexer": "ipython2",
   "version": "2.7.6"
  }
 },
 "nbformat": 4,
 "nbformat_minor": 0
}